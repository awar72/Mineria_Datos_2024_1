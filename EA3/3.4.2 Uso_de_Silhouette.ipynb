{
  "cells": [
    {
      "cell_type": "markdown",
      "source": [
        "Basado en : https://www.kaggle.com/code/paulinan/bank-customer-segmentation/notebook"
      ],
      "metadata": {
        "id": "cOGiUjwHJpj_"
      }
    },
    {
      "cell_type": "markdown",
      "metadata": {
        "_uuid": "f2b91cbd82bc39d047f3f92d7439f4985b3a1246",
        "id": "z9iZSZyeJnu9"
      },
      "source": [
        "# Segmentación de clientes bancarios\n",
        "\n",
        "En este núcleo realizaremos la segmentación de clientes de los bancos alemanes.  \n"
      ]
    },
    {
      "cell_type": "code",
      "execution_count": 1,
      "metadata": {
        "_cell_guid": "79c7e3d0-c299-4dcb-8224-4455121ee9b0",
        "_uuid": "d629ff2d2480ee46fbb7e2d37f6b5fab8052498a",
        "id": "ICStC6IaJnu_"
      },
      "outputs": [],
      "source": [
        "import pandas as pd\n",
        "import numpy as np\n",
        "import seaborn as sns\n",
        "import matplotlib.pyplot as plt\n",
        "from sklearn.preprocessing import StandardScaler\n",
        "from sklearn.cluster import KMeans, AffinityPropagation\n",
        "import warnings\n",
        "warnings.filterwarnings(\"ignore\")"
      ]
    },
    {
      "cell_type": "markdown",
      "metadata": {
        "_uuid": "5b0ddca052b76bd09dd76022b83f3f2e91730863",
        "id": "vUwPCGxuJnvA"
      },
      "source": [
        "Leyendo los datos"
      ]
    },
    {
      "cell_type": "code",
      "execution_count": 2,
      "metadata": {
        "_uuid": "0cfe8b507927d2e3cedb1a524b77b8a614e3361e",
        "id": "etDUZtaKJnvA"
      },
      "outputs": [],
      "source": [
        "data = pd.read_csv(\"german_credit_data.csv\")"
      ]
    },
    {
      "cell_type": "markdown",
      "metadata": {
        "_uuid": "1f7e050b147b3e851a89e535848e8ce5ebf287a8",
        "id": "HXEBEvYTJnvB"
      },
      "source": [
        "Control visual de las primeras filas"
      ]
    },
    {
      "cell_type": "code",
      "execution_count": null,
      "metadata": {
        "_uuid": "bfbb4dd2ee83304d6608a57e69dad7830f872e78",
        "id": "3hPsAbR7JnvB"
      },
      "outputs": [],
      "source": [
        "data.head()"
      ]
    },
    {
      "cell_type": "markdown",
      "metadata": {
        "_uuid": "a16126d97ebb103ba9b7db966d9d4d1d5a59e98a",
        "id": "3SI-kS4YJnvB"
      },
      "source": [
        "Parece que la primera columna es simplemente un índice que podemos eliminar. Verificaremos cuántos valores faltantes hay en cada columna y de qué tipos de datos son."
      ]
    },
    {
      "cell_type": "code",
      "execution_count": null,
      "metadata": {
        "_uuid": "22c1f904d8cad05793b9f23c4c7523572d4b2d85",
        "id": "KLFadwURJnvC"
      },
      "outputs": [],
      "source": [
        "data.drop(data.columns[0], inplace=True, axis=1)\n",
        "print(\"Database has {} obserwations (customers) and {} columns (attributes).\".format(data.shape[0],data.shape[1]))\n",
        "print(\"Missing values in each column:\\n{}\".format(data.isnull().sum()))\n",
        "print(\"Columns data types:\\n{}\".format(data.dtypes))"
      ]
    },
    {
      "cell_type": "markdown",
      "metadata": {
        "_uuid": "4fac8688faafb500521598725618240a060483d0",
        "id": "RweOeRn1JnvC"
      },
      "source": [
        "De 8 columnas, 2 contienen valores faltantes. Probablemente se trate de clientes que no tengan ninguna de estas dos cuentas.\n",
        "\n",
        "Generalmente existen 3 variables numéricas y 5 categóricas.\n",
        "\n",
        "Ahora, comprobaremos cuántos y cuáles son los valores posibles (únicos) en cada columna categórica."
      ]
    },
    {
      "cell_type": "code",
      "execution_count": null,
      "metadata": {
        "_uuid": "8601455095e7e37f3983c8a6d392c94230983774",
        "id": "BiHcNURYJnvD"
      },
      "outputs": [],
      "source": [
        "n_unique = data.nunique()\n",
        "print(\"Number of unique values:\\n{}\".format(n_unique))"
      ]
    },
    {
      "cell_type": "code",
      "execution_count": null,
      "metadata": {
        "_uuid": "5508276a90b36433ba210bcaeaec54103280e6f8",
        "id": "Ld_5vQCpJnvD"
      },
      "outputs": [],
      "source": [
        "print(\"Unique values in each categorical column:\")\n",
        "for col in data.select_dtypes(include=[object]):\n",
        "    print(col,\":\", data[col].unique())"
      ]
    },
    {
      "cell_type": "markdown",
      "metadata": {
        "_uuid": "67e3ec17ce4b5ea2f809c9f52b27849130a1ce53",
        "id": "Ib9zhvYCJnvD"
      },
      "source": [
        "**Análisis exploratorio de datos**\n",
        "\n",
        "A continuación definiremos una función que generará gráficos para tres variables numéricas con estratificación por columna categórica seleccionada."
      ]
    },
    {
      "cell_type": "code",
      "execution_count": 7,
      "metadata": {
        "_uuid": "b6d7ebe749a9a53012ba606e874f9a392394d336",
        "id": "tbEL8wCNJnvD"
      },
      "outputs": [],
      "source": [
        "def scatters(data, h=None, pal=None):\n",
        "    fig, (ax1, ax2, ax3) = plt.subplots(3,1, figsize=(8,8))\n",
        "    sns.scatterplot(x=\"Credit amount\",y=\"Duration\", hue=h, palette=pal, data=data, ax=ax1)\n",
        "    sns.scatterplot(x=\"Age\",y=\"Credit amount\", hue=h, palette=pal, data=data, ax=ax2)\n",
        "    sns.scatterplot(x=\"Age\",y=\"Duration\", hue=h, palette=pal, data=data, ax=ax3)\n",
        "    plt.tight_layout()"
      ]
    },
    {
      "cell_type": "markdown",
      "metadata": {
        "_uuid": "53db700d474176f99d758bee5b88bea2e5efb77b",
        "id": "coXBuQdYJnvE"
      },
      "source": [
        "Al principio veamos los diagramas de dispersión de nuestras 3 variables numéricas estratificadas por sexo."
      ]
    },
    {
      "cell_type": "code",
      "execution_count": null,
      "metadata": {
        "_uuid": "ba9afedfd8b250ca725d9e93bfccd4b393f90a0c",
        "id": "xiTdaqDCJnvE"
      },
      "outputs": [],
      "source": [
        "scatters(data, h=\"Sex\")"
      ]
    },
    {
      "cell_type": "markdown",
      "metadata": {
        "_uuid": "a9db2b2fda5b54f7f274f4b7ed7841a2a1b98e31",
        "id": "L7E59pLCJnvE"
      },
      "source": [
        "La impresión general es que las mujeres tienden a ser más jóvenes que los hombres, sin embargo, el gráfico superior muestra que no hay una diferencia clara entre hombres y mujeres en términos de monto y duración del crédito. A partir de una inspección visual, parece que existe cierta correlación positiva entre la duración y el monto del crédito, lo que tiene sentido.\n",
        "\n",
        "Comprobemos la correlación lineal entre el importe del crédito y la duración."
      ]
    },
    {
      "cell_type": "code",
      "source": [
        "import seaborn as sns\n",
        "import matplotlib.pyplot as plt\n",
        "import scipy.stats as stats\n",
        "\n",
        "# Crear el jointplot\n",
        "r1 = sns.jointplot(x=\"Credit amount\", y=\"Duration\", data=data, kind=\"reg\", height=8)\n",
        "\n",
        "# Calcular la correlación de Pearson\n",
        "pearson_corr, _ = stats.pearsonr(data[\"Credit amount\"], data[\"Duration\"])\n",
        "\n",
        "# Anotar el gráfico con la correlación de Pearson\n",
        "r1.ax_joint.annotate(f\"Pearson Corr = {pearson_corr:.2f}\", xy=(0.7, 0.9), xycoords=\"axes fraction\", fontsize=12)\n",
        "\n",
        "# Mostrar el gráfico\n",
        "plt.show()\n"
      ],
      "metadata": {
        "id": "H8sWFJb7LeAK"
      },
      "execution_count": null,
      "outputs": []
    },
    {
      "cell_type": "markdown",
      "metadata": {
        "_uuid": "c3a3b3c69ea124fc40f3645394d9723f6b4de5e1",
        "id": "ldQaSzfuJnvE"
      },
      "source": [
        "El gráfico anterior muestra una correlación lineal con el valor de Pearson de 0,62 y un valor p muy pequeño. Esto tiene sentido porque, por lo general, las personas obtienen créditos más grandes por períodos más largos. A continuación analizaré gráficos de regresión lineal con varias categorizaciones."
      ]
    },
    {
      "cell_type": "code",
      "execution_count": null,
      "metadata": {
        "_uuid": "6ce6e0d46444ba5d020725dac9c8a95bcf0753b6",
        "id": "VLwP9tqeJnvE"
      },
      "outputs": [],
      "source": [
        "sns.lmplot(x=\"Credit amount\",y=\"Duration\", hue=\"Sex\", data=data, palette=\"Set1\", aspect=2)\n",
        "plt.show()"
      ]
    },
    {
      "cell_type": "markdown",
      "metadata": {
        "_uuid": "5f7118202dbf3bacd03652b01179727e143edf82",
        "id": "z3v3yQqvJnvF"
      },
      "source": [
        "El gráfico anterior indica que no hay una diferencia significativa entre hombres y mujeres."
      ]
    },
    {
      "cell_type": "code",
      "execution_count": null,
      "metadata": {
        "_uuid": "713a1303c968c7fef02de7eb449d0d53ee8a9be8",
        "id": "jmLKMtnYJnvF"
      },
      "outputs": [],
      "source": [
        "sns.lmplot(x=\"Credit amount\",y=\"Duration\", hue=\"Housing\", data=data, palette=\"Set1\", aspect=2)\n",
        "plt.show()"
      ]
    },
    {
      "cell_type": "markdown",
      "metadata": {
        "_uuid": "94fe49f9c33ea32cc5c4498aee40e0c74b5a773b",
        "id": "YneV1JDFJnvF"
      },
      "source": [
        "El gráfico anterior muestra de manera similar que no hay diferencias entre las categorías de vivienda.\n",
        "A continuación mostraré el área de “negocios” donde se otorga la mayor cantidad de créditos."
      ]
    },
    {
      "cell_type": "code",
      "source": [
        "sns.jointplot(x=\"Credit amount\", y=\"Duration\", data=data, kind=\"kde\", space=0, color=\"g\", height=8)\n",
        "plt.show()\n"
      ],
      "metadata": {
        "id": "9LEvuhWzbh7u"
      },
      "execution_count": null,
      "outputs": []
    },
    {
      "cell_type": "code",
      "source": [
        "n_credits = data.groupby(\"Purpose\")[\"Age\"].count().rename(\"Count\").reset_index()\n",
        "n_credits.sort_values(by=[\"Count\"], ascending=False, inplace=True)\n",
        "\n",
        "plt.figure(figsize=(10,6))\n",
        "bar = sns.barplot(x=\"Purpose\",y=\"Count\",data=n_credits)\n",
        "bar.set_xticklabels(bar.get_xticklabels(), rotation=60)\n",
        "plt.ylabel(\"Number of granted credits\")\n",
        "plt.tight_layout()"
      ],
      "metadata": {
        "id": "byqrjfBtb71E"
      },
      "execution_count": null,
      "outputs": []
    },
    {
      "cell_type": "markdown",
      "metadata": {
        "_uuid": "045893141db11e3a153460345ccb4d59659e26c4",
        "id": "5QlTO8kuJnvF"
      },
      "source": [
        "El diagrama de barras anterior muestra cuántos créditos se otorgaron para diversos fines. La mayoría de los créditos se concedieron para automóviles y radio/TV.\n",
        "\n",
        "Ahora generaré diagramas de caja para un análisis detallado de variables categóricas."
      ]
    },
    {
      "cell_type": "code",
      "execution_count": 16,
      "metadata": {
        "_uuid": "42fa921550d2a1af70f9bc036f7133bf738b8005",
        "id": "ZLjB7EmJJnvG"
      },
      "outputs": [],
      "source": [
        "def boxes(x,y,h,r=45):\n",
        "    fig, ax = plt.subplots(figsize=(10,6))\n",
        "    box = sns.boxplot(x=x,y=y, hue=h, data=data)\n",
        "    box.set_xticklabels(box.get_xticklabels(), rotation=r)\n",
        "    fig.subplots_adjust(bottom=0.2)\n",
        "    plt.tight_layout()"
      ]
    },
    {
      "cell_type": "code",
      "execution_count": null,
      "metadata": {
        "_uuid": "b5235c6b8fd05124a4637949a3deae3dacf41387",
        "id": "bNmk2YqGJnvG"
      },
      "outputs": [],
      "source": [
        "boxes(\"Purpose\",\"Credit amount\",\"Sex\")"
      ]
    },
    {
      "cell_type": "markdown",
      "metadata": {
        "_uuid": "561205953c9c90f3dab010f3cae7374fbc3afa53",
        "id": "3laL3dNNJnvG"
      },
      "source": [
        "El gráfico anterior muestra que las cantidades más grandes se toman para vacaciones/otros, y las más pequeñas para electrodomésticos. La mayoría de ellos tienen valores atípicos en la parte superior de los cuadros (cantidades más altas). En la mayoría de los casos no hay diferencia entre hombres y mujeres, a pesar de la categoría vacaciones/otros. Pero hay que recordar que hubo muy pocos créditos concedidos en esta categoría."
      ]
    },
    {
      "cell_type": "code",
      "execution_count": null,
      "metadata": {
        "_uuid": "d8731078af35bfe217250f38b962b06048c7e9c2",
        "id": "zbRm7KNcJnvG"
      },
      "outputs": [],
      "source": [
        "boxes(\"Purpose\",\"Duration\",\"Sex\")"
      ]
    },
    {
      "cell_type": "markdown",
      "metadata": {
        "_uuid": "2d4bb3dbf81c14cf7c5cd90c0c1756bbed0df756",
        "id": "Mx5ZZkUeJnvG"
      },
      "source": [
        "El diagrama de caja anterior indica que, en general, no hay diferencia en la duración del crédito entre hombres y mujeres. No podemos ver tampoco una tendencia clara entre categorías con observaciones de que la duración más corta es para los electrodomésticos. Tiene sentido ya que está de acuerdo con las ideas del gráfico anterior (cantidad de crédito): en esta categoría se encuentran las cantidades más bajas de créditos."
      ]
    },
    {
      "cell_type": "code",
      "execution_count": null,
      "metadata": {
        "_uuid": "2560b8a3fc96e41e698294e78512eaa0d5110df3",
        "id": "DY6Qp7YrJnvG"
      },
      "outputs": [],
      "source": [
        "boxes(\"Housing\",\"Credit amount\",\"Sex\",r=0)"
      ]
    },
    {
      "cell_type": "markdown",
      "metadata": {
        "_uuid": "f481715692f75e7e26ba8ea130d82e67c7c3eae9",
        "id": "ZwK2ywtMJnvG"
      },
      "source": [
        "En términos de categoría de vivienda, no hay gran diferencia a pesar de que las personas que tienen una vivienda “gratuita” tienden a solicitar montos de crédito ligeramente mayores."
      ]
    },
    {
      "cell_type": "code",
      "execution_count": null,
      "metadata": {
        "_uuid": "e0abecd8a3f1d9d2ef82f5fab182ae17e8e621aa",
        "id": "Rwe0CCGwJnvG"
      },
      "outputs": [],
      "source": [
        "boxes(\"Job\",\"Credit amount\",\"Sex\",r=0)"
      ]
    },
    {
      "cell_type": "code",
      "execution_count": null,
      "metadata": {
        "_kg_hide-input": true,
        "_uuid": "3724883c53ad2e2f16993a5005218a1af33b9a05",
        "id": "IxBD7LqJJnvH"
      },
      "outputs": [],
      "source": [
        "boxes(\"Job\",\"Duration\",\"Sex\",r=0)"
      ]
    },
    {
      "cell_type": "markdown",
      "metadata": {
        "_uuid": "5bbf405deb13c0dd48ae03c600dc8a67a0d8bd5a",
        "id": "Vx-luPfKJnvH"
      },
      "source": [
        "En términos de categoría laboral, una vez más no hay diferencia entre hombres y mujeres, pero podemos ver que la categoría laboral 3 tiende a aceptar montos de crédito mayores por mayor duración.\n",
        "\n"
      ]
    },
    {
      "cell_type": "code",
      "execution_count": null,
      "metadata": {
        "_uuid": "17bba33c3c5bafd278ea561f5a2dea0043ede252",
        "id": "gh-G6XKmJnvH"
      },
      "outputs": [],
      "source": [
        "from mpl_toolkits.mplot3d import Axes3D\n",
        "fig = plt.figure(figsize=(10,6))\n",
        "ax = fig.add_subplot(111, projection='3d')\n",
        "ax.scatter(data[\"Credit amount\"], data[\"Duration\"], data[\"Age\"])\n",
        "ax.set_xlabel(\"Credit amount\")\n",
        "ax.set_ylabel(\"Duration\")\n",
        "ax.set_zlabel(\"Age\")"
      ]
    },
    {
      "cell_type": "markdown",
      "metadata": {
        "_uuid": "533070b60b16d3ce86bdd05f4ca48261ed49f0ee",
        "id": "eCI6JlTRJnvH"
      },
      "source": [
        "**Agrupación con KMeans**\n",
        "\n",
        "Para la agrupación, crearé un subconjunto que contenga solo variables numéricas (edad, monto del crédito, duración)."
      ]
    },
    {
      "cell_type": "code",
      "execution_count": 23,
      "metadata": {
        "_uuid": "3178b38d9333e997facf762e28d68bab5175ec8e",
        "id": "QCf8noOLJnvH"
      },
      "outputs": [],
      "source": [
        "#Selecting columns for clusterisation with k-means\n",
        "selected_cols = [\"Age\",\"Credit amount\", \"Duration\"]\n",
        "cluster_data = data.loc[:,selected_cols]"
      ]
    },
    {
      "cell_type": "markdown",
      "metadata": {
        "_uuid": "3adaadf19e7335a96b7b91dc90596c87f80c5941",
        "id": "GRHGcG2VJnvH"
      },
      "source": [
        "Se creará una función que traza tres histogramas, uno para cada variable."
      ]
    },
    {
      "cell_type": "code",
      "execution_count": 24,
      "metadata": {
        "_uuid": "fab298d904ebb80e0da9cfdd6ad11a93c384f256",
        "id": "iC9vSMSZJnvQ"
      },
      "outputs": [],
      "source": [
        "def distributions(df):\n",
        "    fig, (ax1, ax2, ax3) = plt.subplots(3,1, figsize=(8,8))\n",
        "    sns.distplot(df[\"Age\"], ax=ax1)\n",
        "    sns.distplot(df[\"Credit amount\"], ax=ax2)\n",
        "    sns.distplot(df[\"Duration\"], ax=ax3)\n",
        "    plt.tight_layout()"
      ]
    },
    {
      "cell_type": "markdown",
      "metadata": {
        "_uuid": "768a11f86f4fd28f9bd62982b022d45dc1e81944",
        "id": "_b9kv6gSJnvR"
      },
      "source": [
        "Veamos los histogramas"
      ]
    },
    {
      "cell_type": "code",
      "execution_count": null,
      "metadata": {
        "_uuid": "b672fcd59ce001b0d4129e54612d808c508b7f33",
        "id": "1NkUh0V1JnvR"
      },
      "outputs": [],
      "source": [
        "distributions(cluster_data)"
      ]
    },
    {
      "cell_type": "markdown",
      "metadata": {
        "_uuid": "3ea4b130335bf9b5fca8770b80f719a4a2148764",
        "id": "J6mErdGQJnvR"
      },
      "source": [
        "Podemos ver que las distribuciones están sesgadas hacia la derecha. Para obtener mejores resultados debemos eliminar la asimetría mediante transformación logarítmica. Después de eso veamos cómo quedan."
      ]
    },
    {
      "cell_type": "code",
      "execution_count": null,
      "metadata": {
        "_uuid": "af025cbd1f18096e7bcc2e4b9ad99995bc6ceb7a",
        "id": "kRtOPP0QJnvR"
      },
      "outputs": [],
      "source": [
        "cluster_log = np.log(cluster_data)\n",
        "distributions(cluster_log)"
      ]
    },
    {
      "cell_type": "markdown",
      "metadata": {
        "_uuid": "96eeeb46e53e551f57683595694e214a1623bddd",
        "id": "OcRgEckjJnvR"
      },
      "source": [
        "De hecho, se ha eliminado la asimetría.\n",
        "\n",
        "El siguiente paso será centrar y escalar las variables; esto lo requiere el algoritmo KMeans. Usaremos para eso un StandardScaler de la biblioteca sklearn."
      ]
    },
    {
      "cell_type": "code",
      "execution_count": 27,
      "metadata": {
        "_uuid": "ff2b43b5aad1fd22ef83037430ee65a043a27bad",
        "id": "CqwNSQEOJnvR"
      },
      "outputs": [],
      "source": [
        "scaler = StandardScaler()\n",
        "cluster_scaled = scaler.fit_transform(cluster_log)"
      ]
    },
    {
      "cell_type": "markdown",
      "metadata": {
        "_uuid": "66d5fe004159e97d8b3015b5afb2d97f42170c9d",
        "id": "vdLaU586JnvS"
      },
      "source": [
        "Veamos cómo cambia la inercia para varios grupos."
      ]
    },
    {
      "cell_type": "code",
      "execution_count": null,
      "metadata": {
        "_uuid": "07889c5dd525758588c7f88cb1dbcd5df0661645",
        "id": "WAGD7Vf8JnvS"
      },
      "outputs": [],
      "source": [
        "clusters_range = [2,3,4,5,6,7,8,9,10,11,12,13,14]\n",
        "inertias =[]\n",
        "\n",
        "for c in clusters_range:\n",
        "    kmeans = KMeans(n_clusters=c, random_state=0).fit(cluster_scaled)\n",
        "    inertias.append(kmeans.inertia_)\n",
        "\n",
        "plt.figure()\n",
        "plt.plot(clusters_range,inertias, marker='o')"
      ]
    },
    {
      "cell_type": "markdown",
      "metadata": {
        "_uuid": "787876fb54a31343e027cdda68e40036f4d82800",
        "id": "Rdya8X4qJnvS"
      },
      "source": [
        "El gráfico anterior muestra que la inercia disminuye a medida que aumenta el número de grupos.\n",
        "\n",
        "Este método permite evaluar las separaciones de los conglomerados y ajustar cada observación en su propio conglomerado. Cuanto más alto sea el puntaje, mejor. También realizaremos este análisis para varias semillas."
      ]
    },
    {
      "cell_type": "code",
      "execution_count": null,
      "metadata": {
        "_uuid": "12b61d4664bea10494c76904d14f6bc54159f648",
        "id": "LtFgi2xSJnvS"
      },
      "outputs": [],
      "source": [
        "from sklearn.metrics import silhouette_samples, silhouette_score\n",
        "\n",
        "clusters_range = range(2,15)\n",
        "random_range = range(0,20)\n",
        "results =[]\n",
        "for c in clusters_range:\n",
        "    for r in random_range:\n",
        "        clusterer = KMeans(n_clusters=c, random_state=r)\n",
        "        cluster_labels = clusterer.fit_predict(cluster_scaled)\n",
        "        silhouette_avg = silhouette_score(cluster_scaled, cluster_labels)\n",
        "        #print(\"For n_clusters =\", c,\" and seed =\", r,  \"\\nThe average silhouette_score is :\", silhouette_avg)\n",
        "        results.append([c,r,silhouette_avg])\n",
        "\n",
        "result = pd.DataFrame(results, columns=[\"n_clusters\",\"seed\",\"silhouette_score\"])\n",
        "pivot_km = pd.pivot_table(result, index=\"n_clusters\", columns=\"seed\",values=\"silhouette_score\")\n",
        "\n",
        "plt.figure(figsize=(15,6))\n",
        "sns.heatmap(pivot_km, annot=True, linewidths=.5, fmt='.3f', cmap=sns.cm.rocket_r)\n",
        "plt.tight_layout()"
      ]
    },
    {
      "cell_type": "markdown",
      "metadata": {
        "_uuid": "7493b35ee37f7de265706e238fd2c6f24e3e1b61",
        "id": "ZfCP3-ahJnvS"
      },
      "source": [
        "El mapa de calor anterior muestra puntuaciones de Silhouette para varias combinaciones de estado aleatorio y número de grupos. Los puntajes más altos son para racimos 2 y 3 y son relativamente insensibles a la semilla.\n",
        "\n",
        "Elegiremos 3 grupos para obtener más información sobre los datos."
      ]
    },
    {
      "cell_type": "code",
      "execution_count": 30,
      "metadata": {
        "_uuid": "bf533e4a22c2b3e950a42980ff9b77dd245faba1",
        "id": "g5LcxumyJnvS"
      },
      "outputs": [],
      "source": [
        "kmeans_sel = KMeans(n_clusters=3, random_state=1).fit(cluster_scaled)\n",
        "labels = pd.DataFrame(kmeans_sel.labels_)\n",
        "clustered_data = cluster_data.assign(Cluster=labels)"
      ]
    },
    {
      "cell_type": "markdown",
      "metadata": {
        "_uuid": "b222513d78de4fc409e181533606eeaff724dede",
        "id": "CT1zJhTwJnvT"
      },
      "source": [
        "A continuación, crearemos un gráfico de Silhouette para 3 grupos para representar visualmente el ajuste de cada punto dentro de su propio grupo (código modificado del documento scikit-learn)."
      ]
    },
    {
      "cell_type": "code",
      "execution_count": null,
      "metadata": {
        "_kg_hide-input": true,
        "_uuid": "c5f3e4f14dee5e68eaf351c4cc1a8fb38c56e9af",
        "id": "VIGy2XknJnvT"
      },
      "outputs": [],
      "source": [
        "import matplotlib.cm as cm\n",
        "\n",
        "clusterer = KMeans(n_clusters=3, random_state=1)\n",
        "cluster_labels = clusterer.fit_predict(cluster_scaled)\n",
        "silhouette_avg = silhouette_score(cluster_scaled, cluster_labels)\n",
        "print(\"For n_clusters =\", 3,\" and seed =\", r,  \"\\nThe average silhouette_score is :\", silhouette_avg)\n",
        "\n",
        "# Compute the silhouette scores for each sample\n",
        "sample_silhouette_values = silhouette_samples(cluster_scaled, cluster_labels)\n",
        "\n",
        "fig, ax1 = plt.subplots(figsize=(10,6))\n",
        "\n",
        "y_lower = 10\n",
        "for i in range(3):\n",
        "    # Aggregate the silhouette scores for samples belonging to\n",
        "    # cluster i, and sort them\n",
        "    ith_cluster_silhouette_values = sample_silhouette_values[cluster_labels == i]\n",
        "    ith_cluster_silhouette_values.sort()\n",
        "\n",
        "    size_cluster_i = ith_cluster_silhouette_values.shape[0]\n",
        "    y_upper = y_lower + size_cluster_i\n",
        "\n",
        "    color = cm.nipy_spectral(float(i) / 3)\n",
        "    ax1.fill_betweenx(np.arange(y_lower, y_upper),0, ith_cluster_silhouette_values, facecolor=color, edgecolor=\"black\", alpha=0.7)\n",
        "\n",
        "    # Label the silhouette plots with their cluster numbers at the middle\n",
        "    ax1.text(-0.05, y_lower + 0.5 * size_cluster_i, str(i))\n",
        "\n",
        "    # Compute the new y_lower for next plot\n",
        "    y_lower = y_upper + 10  # 10 for the 0 samples\n",
        "\n",
        "ax1.get_yaxis().set_ticks([])\n",
        "ax1.set_title(\"The silhouette plot for various clusters\")\n",
        "ax1.set_xlabel(\"The silhouette coefficient values\")\n",
        "ax1.set_ylabel(\"Cluster label\")\n",
        "# The vertical line for average silhouette score of all the values\n",
        "ax1.axvline(x=silhouette_avg, color=\"red\", linestyle=\"--\")\n",
        "ax1.set_xticks([-0.1, 0, 0.2, 0.4, 0.6, 0.8, 1])"
      ]
    },
    {
      "cell_type": "markdown",
      "metadata": {
        "_uuid": "8275f3de1e5c6a6fea1d09db49696a3e5cc5c0ea",
        "id": "jE-mUNy7JnvT"
      },
      "source": [
        "Definiremos una función que muestre grupos en el diagrama de dispersión."
      ]
    },
    {
      "cell_type": "code",
      "execution_count": null,
      "metadata": {
        "_uuid": "fe62602b2df0b2c15ae86f3289419b07f5a016c3",
        "id": "e5Is5cMKJnvT"
      },
      "outputs": [],
      "source": [
        "scatters(clustered_data, 'Cluster')"
      ]
    },
    {
      "cell_type": "markdown",
      "metadata": {
        "_uuid": "6d3a2686d0721725d99d431be25e8bcadfa135b0",
        "id": "tQW9bUWUJnvT"
      },
      "source": [
        "Los gráficos de arriba muestran tres grupos creados. Dos de los inferiores muestran una separación de grupos relativamente clara, pero no es tan evidente en el superior.\n",
        "\n",
        "Generaremos ahora un gráfico de mapa de calor para facilitar la interpretación empresarial de la segmentación de clientes."
      ]
    },
    {
      "cell_type": "code",
      "execution_count": null,
      "metadata": {
        "_uuid": "9a90d5c1543a74a95f7d23fc9f1861fb92eac05c",
        "id": "LLY53A2lJnvT"
      },
      "outputs": [],
      "source": [
        "grouped_km = clustered_data.groupby(['Cluster']).mean().round(1)\n",
        "grouped_km"
      ]
    },
    {
      "cell_type": "markdown",
      "metadata": {
        "_uuid": "da0194800c1285c7844ac224a5c7394137190623",
        "id": "Z2nTL8CuJnvU"
      },
      "source": [
        "Grupo 0: media más baja del monto del crédito, duración corta, clientes de mayor edad\n",
        "\n",
        "Grupo 1: cantidad media alta de crédito, larga duración, clientes de mediana edad\n",
        "\n",
        "Grupo 2: media más baja del importe del crédito, corta duración, clientes jóvenes"
      ]
    }
  ],
  "metadata": {
    "kernelspec": {
      "display_name": "Python 3",
      "language": "python",
      "name": "python3"
    },
    "language_info": {
      "codemirror_mode": {
        "name": "ipython",
        "version": 3
      },
      "file_extension": ".py",
      "mimetype": "text/x-python",
      "name": "python",
      "nbconvert_exporter": "python",
      "pygments_lexer": "ipython3",
      "version": "3.6.6"
    },
    "colab": {
      "provenance": []
    }
  },
  "nbformat": 4,
  "nbformat_minor": 0
}