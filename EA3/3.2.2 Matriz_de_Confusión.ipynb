{
  "cells": [
    {
      "cell_type": "code",
      "source": [],
      "metadata": {
        "id": "VGqWw7CSgXBi"
      },
      "execution_count": null,
      "outputs": []
    },
    {
      "cell_type": "markdown",
      "source": [
        "Basado en https://www.kaggle.com/code/pyarda/classification-algorithm-and-confusion-matrix/notebook"
      ],
      "metadata": {
        "id": "PZPVXnGUgIHM"
      }
    },
    {
      "cell_type": "markdown",
      "source": [
        "# MATRIZ DE CONFUSION\n",
        "\n",
        "Vamos a comparar varios algoritmos de clasificación usando la matriz de confusión."
      ],
      "metadata": {
        "id": "VS9jSmRXgMgA"
      }
    },
    {
      "cell_type": "markdown",
      "source": [
        "# Datos:\n",
        "\n",
        "Los púlsares son un tipo raro de estrella de neutrones que produce emisiones de radio detectables aquí en la Tierra. Son de considerable interés científico como sondas del espacio-tiempo, el medio interestelar y los estados de la materia. Ahora se están utilizando herramientas de aprendizaje automático para etiquetar automáticamente a los candidatos a púlsar para facilitar un análisis rápido. En particular, se están adoptando ampliamente sistemas de clasificación que tratan los conjuntos de datos candidatos como problemas de clasificación binaria.\n",
        "\n",
        "El crédito es para Pavan Raj (https://www.kaggle.com/pavanraj159) de donde se recopiló el conjunto de datos. Con el fin de crear un desafío, se han realizado ciertas modificaciones en el conjunto de datos."
      ],
      "metadata": {
        "id": "-dNnwGmxgmV-"
      }
    },
    {
      "cell_type": "code",
      "execution_count": 2,
      "metadata": {
        "_cell_guid": "b1076dfc-b9ad-4769-8c92-a6c4dae69d19",
        "_uuid": "8f2839f25d086af736a60e9eeb907d3b93b6e0e5",
        "id": "ax1pA7hqc_4o"
      },
      "outputs": [],
      "source": [
        "\n",
        "\n",
        "import numpy as np\n",
        "import pandas as pd #\n",
        "import matplotlib.pyplot as plt\n",
        "import seaborn as sns\n"
      ]
    },
    {
      "cell_type": "code",
      "execution_count": 3,
      "metadata": {
        "id": "EvYV_C3Tc_4x"
      },
      "outputs": [],
      "source": [
        "df=pd.read_csv('pulsar_stars.csv')"
      ]
    },
    {
      "cell_type": "markdown",
      "metadata": {
        "id": "hbl-Ek5fc_4y"
      },
      "source": [
        "Análisis Exploratorio de Datos"
      ]
    },
    {
      "cell_type": "code",
      "execution_count": null,
      "metadata": {
        "id": "qOGvShKdc_4y"
      },
      "outputs": [],
      "source": [
        "df.head()"
      ]
    },
    {
      "cell_type": "code",
      "execution_count": null,
      "metadata": {
        "id": "uNZyiT7vc_4z"
      },
      "outputs": [],
      "source": [
        "df.info()"
      ]
    },
    {
      "cell_type": "code",
      "execution_count": null,
      "metadata": {
        "id": "EVHHg9EWc_4z"
      },
      "outputs": [],
      "source": [
        "df.describe()"
      ]
    },
    {
      "cell_type": "code",
      "execution_count": null,
      "metadata": {
        "id": "jU2IrYW5c_41"
      },
      "outputs": [],
      "source": [
        "print(df.target_class.value_counts())"
      ]
    },
    {
      "cell_type": "code",
      "execution_count": null,
      "metadata": {
        "id": "AhM1VYpnc_41"
      },
      "outputs": [],
      "source": [
        "sns.pairplot(data=df,\n",
        "             diag_kind=\"kde\",\n",
        "             markers=\".\",\n",
        "             plot_kws=dict(s=50, edgecolor=\"b\", linewidth=1),\n",
        "             hue=\"target_class\",\n",
        "             vars=[\" Mean of the integrated profile\",\n",
        "                   \" Excess kurtosis of the integrated profile\",\n",
        "                   \" Skewness of the integrated profile\",\n",
        "                   \" Mean of the DM-SNR curve\",\n",
        "                   \" Excess kurtosis of the DM-SNR curve\",\n",
        "                   \" Skewness of the DM-SNR curve\"],\n",
        "                   diag_kws=dict(shade=True))\n",
        "\n",
        "plt.tight_layout()\n",
        "plt.show()"
      ]
    },
    {
      "cell_type": "code",
      "execution_count": null,
      "metadata": {
        "id": "NcitTAErc_42"
      },
      "outputs": [],
      "source": [
        "df.corr()\n",
        "sns.heatmap(df.corr(),cmap=\"YlGnBu\",linewidths=.5)\n",
        "plt.title('Corelation Heatmap')\n",
        "plt.show()"
      ]
    },
    {
      "cell_type": "code",
      "execution_count": null,
      "metadata": {
        "id": "YEiMRekGc_43"
      },
      "outputs": [],
      "source": [
        "f,ax = plt.subplots(figsize=(18, 18))\n",
        "sns.heatmap(df.corr(), annot=True, linewidths=.5, cmap=\"YlGnBu\",fmt= '.1f',ax=ax)\n",
        "plt.title('Corelation Map')\n",
        "plt.show()"
      ]
    },
    {
      "cell_type": "code",
      "execution_count": null,
      "metadata": {
        "id": "JEz0H8nEc_43"
      },
      "outputs": [],
      "source": [
        "# Normalización de datos\n",
        "df_nor=(df - np.min(df))/(np.max(df)-np.min(df))\n",
        "\n",
        "sns.violinplot(data=df,y=\" Mean of the integrated profile\",x=\"target_class\")\n",
        "plt.show()\n",
        "\n",
        "sns.violinplot(data=df,y=\" Mean of the DM-SNR curve\",x=\"target_class\")\n",
        "plt.show()"
      ]
    },
    {
      "cell_type": "markdown",
      "metadata": {
        "id": "wb6syG57c_44"
      },
      "source": [
        "Logistic Regression"
      ]
    },
    {
      "cell_type": "code",
      "execution_count": null,
      "metadata": {
        "id": "GaZBCDaQc_45"
      },
      "outputs": [],
      "source": [
        "y=df.target_class.values\n",
        "x_df=df.drop(['target_class'],axis=1)\n",
        "#Normalización\n",
        "x=(x_df-np.min(x_df))/(np.max(x_df)-np.min(x_df))"
      ]
    },
    {
      "cell_type": "code",
      "execution_count": 24,
      "metadata": {
        "id": "GjoQS-7Sc_45"
      },
      "outputs": [],
      "source": [
        "# train/test\n",
        "from sklearn.model_selection import train_test_split\n",
        "x_train,x_test,y_train,y_test=train_test_split(x,y,test_size=0.3,random_state=1)"
      ]
    },
    {
      "cell_type": "code",
      "execution_count": null,
      "metadata": {
        "id": "s4OXAMUPc_46"
      },
      "outputs": [],
      "source": [
        "from sklearn.linear_model import LogisticRegression\n",
        "lr=LogisticRegression()\n",
        "lr.fit(x_train,y_train)\n",
        "print('lr accuracy :', lr.score(x_test,y_test))\n",
        "\n",
        "# confusion matrix\n",
        "y_pred = lr.predict(x_test)\n",
        "y_pred_lr = y_pred\n",
        "y_true = y_test\n",
        "from sklearn.metrics import confusion_matrix\n",
        "\n",
        "cm_lr = confusion_matrix(y_true,y_pred)"
      ]
    },
    {
      "cell_type": "markdown",
      "metadata": {
        "id": "1YBWIL_kc_46"
      },
      "source": [
        "KNN"
      ]
    },
    {
      "cell_type": "code",
      "execution_count": null,
      "metadata": {
        "id": "eTFd1Ccrc_47"
      },
      "outputs": [],
      "source": [
        "from sklearn.neighbors import KNeighborsClassifier\n",
        "knn=KNeighborsClassifier(n_neighbors=3)\n",
        "knn.fit(x_train,y_train)\n",
        "print('knn accuracy :',knn.score(x_test,y_test))\n",
        "# confisioun matrix\n",
        "y_pred = knn.predict(x_test)\n",
        "y_pred_knn = y_pred\n",
        "y_true = y_test\n",
        "\n",
        "# confisuon matrix\n",
        "from sklearn.metrics import confusion_matrix\n",
        "cm_knn = confusion_matrix(y_true,y_pred)\n"
      ]
    },
    {
      "cell_type": "markdown",
      "metadata": {
        "id": "TZUbHJu6c_47"
      },
      "source": [
        "Find best k value"
      ]
    },
    {
      "cell_type": "code",
      "execution_count": null,
      "metadata": {
        "id": "jxlorbkbc_48"
      },
      "outputs": [],
      "source": [
        "score_list=[]\n",
        "for each in range(1,15):\n",
        "    knn2=KNeighborsClassifier(n_neighbors=each)\n",
        "    knn2.fit(x_train,y_train)\n",
        "    score_list.append(knn2.score(x_test,y_test))\n",
        "\n",
        "plt.plot(range(1,15),score_list)\n",
        "plt.xlabel('k values')\n",
        "plt.ylabel('accuracy')\n",
        "plt.show()"
      ]
    },
    {
      "cell_type": "markdown",
      "metadata": {
        "id": "_aoAS9bic_48"
      },
      "source": [
        "SVM"
      ]
    },
    {
      "cell_type": "code",
      "execution_count": null,
      "metadata": {
        "id": "rBgIdlnxc_48"
      },
      "outputs": [],
      "source": [
        "from sklearn.svm import SVC\n",
        "svm=SVC(random_state=1)\n",
        "svm.fit(x_train,y_train)\n",
        "print('svm accuracy :', svm.score(x_test,y_test))\n",
        "\n",
        "# confisuon matrix\n",
        "y_pred = svm.predict(x_test)\n",
        "y_pred_svm = y_pred\n",
        "y_true = y_test\n",
        "from sklearn.metrics import confusion_matrix\n",
        "\n",
        "cm_svm = confusion_matrix(y_true,y_pred)"
      ]
    },
    {
      "cell_type": "markdown",
      "metadata": {
        "id": "p5pevQQOc_49"
      },
      "source": [
        "Naive Bayes"
      ]
    },
    {
      "cell_type": "code",
      "execution_count": null,
      "metadata": {
        "id": "bCtU0OpLc_49"
      },
      "outputs": [],
      "source": [
        "from sklearn.naive_bayes import GaussianNB\n",
        "nb=GaussianNB()\n",
        "nb.fit(x_train,y_train)\n",
        "print('nb accuracy : ', nb.score(x_test,y_test))\n",
        "\n",
        "# confisuon matrix\n",
        "y_pred = nb.predict(x_test)\n",
        "y_pred_nb = y_pred\n",
        "y_true = y_test\n",
        "from sklearn.metrics import confusion_matrix\n",
        "\n",
        "cm_nb = confusion_matrix(y_true,y_pred)"
      ]
    },
    {
      "cell_type": "markdown",
      "metadata": {
        "id": "z6CRncWVc_4-"
      },
      "source": [
        "Decision Tree"
      ]
    },
    {
      "cell_type": "code",
      "execution_count": null,
      "metadata": {
        "id": "9NFKWyt7c_4-"
      },
      "outputs": [],
      "source": [
        "from sklearn.tree import DecisionTreeClassifier\n",
        "dt=DecisionTreeClassifier()\n",
        "dt.fit(x_train,y_train)\n",
        "print('dt.accuracy : ', nb.score(x_test,y_test))\n",
        "\n",
        "# confisuon matrix\n",
        "y_pred = dt.predict(x_test)\n",
        "y_pred_dt = y_pred\n",
        "y_true = y_test\n",
        "from sklearn.metrics import confusion_matrix\n",
        "\n",
        "cm_dt = confusion_matrix(y_true,y_pred)\n"
      ]
    },
    {
      "cell_type": "markdown",
      "metadata": {
        "id": "9bnB6eZ0c_5A"
      },
      "source": [
        "Revisemos la Matriz de Confusión"
      ]
    },
    {
      "cell_type": "code",
      "execution_count": 31,
      "metadata": {
        "colab": {
          "base_uri": "https://localhost:8080/",
          "height": 1000
        },
        "id": "_pP8gAEWc_5A",
        "outputId": "9bafa434-651f-48d7-ea52-97ef268d00dd"
      },
      "outputs": [
        {
          "output_type": "display_data",
          "data": {
            "text/plain": [
              "<Figure size 2000x1500 with 5 Axes>"
            ],
            "image/png": "[encoded data removed]"
          },
          "metadata": {}
        }
      ],
      "source": [
        "plt.figure(figsize=(20,15))\n",
        "\n",
        "plt.suptitle(\"Matrices de Confusión\",fontsize=20)\n",
        "\n",
        "plt.subplot(2,3,1)\n",
        "plt.title(\"Logistic Regression Confusion Matrix\")\n",
        "sns.heatmap(cm_lr,cbar=False,annot=True,cmap=\"Greens\",fmt=\"d\")\n",
        "\n",
        "plt.subplot(2,3,2)\n",
        "plt.title(\"K Nearest Neighbors Confusion Matrix\")\n",
        "sns.heatmap(cm_knn,cbar=False,annot=True,cmap=\"Greens\",fmt=\"d\")\n",
        "\n",
        "plt.subplot(2,3,3)\n",
        "plt.title(\"Support Vector Machine Confusion Matrix\")\n",
        "sns.heatmap(cm_svm,cbar=False,annot=True,cmap=\"Greens\",fmt=\"d\")\n",
        "\n",
        "plt.subplot(2,3,4)\n",
        "plt.title(\"Naive Bayes Confusion Matrix\")\n",
        "sns.heatmap(cm_nb,cbar=False,annot=True,cmap=\"Greens\",fmt=\"d\")\n",
        "\n",
        "plt.subplot(2,3,5)\n",
        "plt.title(\"Decision Tree Classifier Confusion Matrix\")\n",
        "sns.heatmap(cm_dt,cbar=False,annot=True,cmap=\"Greens\",fmt=\"d\")\n",
        "\n",
        "plt.show()"
      ]
    },
    {
      "cell_type": "markdown",
      "metadata": {
        "id": "G7O9TvB1c_5B"
      },
      "source": [
        "\n"
      ]
    },
    {
      "cell_type": "code",
      "source": [
        "from sklearn.metrics import classification_report\n",
        "\n",
        "# Obtén el informe de métricas para cada modelo\n",
        "report_lr = classification_report(y_true, y_pred_lr)\n",
        "report_knn = classification_report(y_true, y_pred_knn)\n",
        "report_svm = classification_report(y_true, y_pred_svm)\n",
        "report_nb = classification_report(y_true, y_pred_nb)\n",
        "report_dt = classification_report(y_true, y_pred_dt)\n",
        "\n",
        "# Imprime los informes de métricas\n",
        "print(\"Logistic Regression Classification Report:\")\n",
        "print(report_lr)\n",
        "\n",
        "print(\"\\nK Nearest Neighbors Classification Report:\")\n",
        "print(report_knn)\n",
        "\n",
        "print(\"\\nSupport Vector Machine Classification Report:\")\n",
        "print(report_svm)\n",
        "\n",
        "print(\"\\nNaive Bayes Classification Report:\")\n",
        "print(report_nb)\n",
        "\n",
        "print(\"\\nDecision Tree Classifier Classification Report:\")\n",
        "print(report_dt)"
      ],
      "metadata": {
        "colab": {
          "base_uri": "https://localhost:8080/"
        },
        "id": "2j-0dMMme2WE",
        "outputId": "4ea7cadd-0c57-47f1-cb7d-34153fbb0b13"
      },
      "execution_count": 32,
      "outputs": [
        {
          "output_type": "stream",
          "name": "stdout",
          "text": [
            "Logistic Regression Classification Report:\n",
            "              precision    recall  f1-score   support\n",
            "\n",
            "           0       0.98      0.99      0.99      4880\n",
            "           1       0.94      0.77      0.84       490\n",
            "\n",
            "    accuracy                           0.97      5370\n",
            "   macro avg       0.96      0.88      0.91      5370\n",
            "weighted avg       0.97      0.97      0.97      5370\n",
            "\n",
            "\n",
            "K Nearest Neighbors Classification Report:\n",
            "              precision    recall  f1-score   support\n",
            "\n",
            "           0       0.98      0.99      0.99      4880\n",
            "           1       0.92      0.84      0.88       490\n",
            "\n",
            "    accuracy                           0.98      5370\n",
            "   macro avg       0.95      0.92      0.93      5370\n",
            "weighted avg       0.98      0.98      0.98      5370\n",
            "\n",
            "\n",
            "Support Vector Machine Classification Report:\n",
            "              precision    recall  f1-score   support\n",
            "\n",
            "           0       0.98      1.00      0.99      4880\n",
            "           1       0.95      0.81      0.88       490\n",
            "\n",
            "    accuracy                           0.98      5370\n",
            "   macro avg       0.97      0.90      0.93      5370\n",
            "weighted avg       0.98      0.98      0.98      5370\n",
            "\n",
            "\n",
            "Naive Bayes Classification Report:\n",
            "              precision    recall  f1-score   support\n",
            "\n",
            "           0       0.99      0.95      0.97      4880\n",
            "           1       0.64      0.87      0.74       490\n",
            "\n",
            "    accuracy                           0.94      5370\n",
            "   macro avg       0.81      0.91      0.85      5370\n",
            "weighted avg       0.95      0.94      0.95      5370\n",
            "\n",
            "\n",
            "Decision Tree Classifier Classification Report:\n",
            "              precision    recall  f1-score   support\n",
            "\n",
            "           0       0.98      0.98      0.98      4880\n",
            "           1       0.83      0.84      0.83       490\n",
            "\n",
            "    accuracy                           0.97      5370\n",
            "   macro avg       0.91      0.91      0.91      5370\n",
            "weighted avg       0.97      0.97      0.97      5370\n",
            "\n"
          ]
        }
      ]
    },
    {
      "cell_type": "markdown",
      "source": [
        "CONCLUSIÓN:\n",
        "En este conjunto de datos, el algoritmo KNN tiene la mayor precisión para predecir."
      ],
      "metadata": {
        "id": "4qyqDWLhf8zq"
      }
    }
  ],
  "metadata": {
    "kernelspec": {
      "display_name": "Python 3",
      "language": "python",
      "name": "python3"
    },
    "language_info": {
      "codemirror_mode": {
        "name": "ipython",
        "version": 3
      },
      "file_extension": ".py",
      "mimetype": "text/x-python",
      "name": "python",
      "nbconvert_exporter": "python",
      "pygments_lexer": "ipython3",
      "version": "3.6.4"
    },
    "colab": {
      "provenance": []
    }
  },
  "nbformat": 4,
  "nbformat_minor": 0
}