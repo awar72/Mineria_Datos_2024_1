{
  "cells": [
    {
      "cell_type": "markdown",
      "source": [
        "### Basado en :   https://www.kaggle.com/code/barisscal/diamonds-linear-regression-and-metrics-98"
      ],
      "metadata": {
        "id": "lYQdNWxw_dj8"
      },
      "id": "lYQdNWxw_dj8"
    },
    {
      "cell_type": "markdown",
      "id": "wooden-shame",
      "metadata": {
        "_cell_guid": "b1076dfc-b9ad-4769-8c92-a6c4dae69d19",
        "_uuid": "8f2839f25d086af736a60e9eeb907d3b93b6e0e5",
        "papermill": {
          "duration": 0.072313,
          "end_time": "2021-04-19T20:14:02.759997",
          "exception": false,
          "start_time": "2021-04-19T20:14:02.687684",
          "status": "completed"
        },
        "tags": [],
        "id": "wooden-shame"
      },
      "source": [
        "# EDA y regresión lineal con métricas de evaluación en el conjunto de datos de diamantes"
      ]
    },
    {
      "cell_type": "markdown",
      "id": "convenient-kitty",
      "metadata": {
        "papermill": {
          "duration": 0.069461,
          "end_time": "2021-04-19T20:14:02.902587",
          "exception": false,
          "start_time": "2021-04-19T20:14:02.833126",
          "status": "completed"
        },
        "tags": [],
        "id": "convenient-kitty"
      },
      "source": [
        "\n",
        "Aplicaremos la regresión lineal en el conjunto de datos de diamantes. Aquí se usaron 9 métricas de evaluación."
      ]
    },
    {
      "cell_type": "markdown",
      "id": "warming-territory",
      "metadata": {
        "papermill": {
          "duration": 0.069627,
          "end_time": "2021-04-19T20:14:03.346106",
          "exception": false,
          "start_time": "2021-04-19T20:14:03.276479",
          "status": "completed"
        },
        "tags": [],
        "id": "warming-territory"
      },
      "source": [
        "<a id = \"1\"></a>\n",
        "# Cargando Librerías"
      ]
    },
    {
      "cell_type": "code",
      "execution_count": 83,
      "id": "naval-marine",
      "metadata": {
        "execution": {
          "iopub.execute_input": "2021-04-19T20:14:03.499028Z",
          "iopub.status.busy": "2021-04-19T20:14:03.498357Z",
          "iopub.status.idle": "2021-04-19T20:14:06.219451Z",
          "shell.execute_reply": "2021-04-19T20:14:06.218749Z"
        },
        "papermill": {
          "duration": 2.803317,
          "end_time": "2021-04-19T20:14:06.219593",
          "exception": false,
          "start_time": "2021-04-19T20:14:03.416276",
          "status": "completed"
        },
        "tags": [],
        "id": "naval-marine"
      },
      "outputs": [],
      "source": [
        "import numpy as np\n",
        "import pandas as pd\n",
        "import pandas\n",
        "import seaborn as sns\n",
        "import matplotlib.pyplot as plt\n",
        "from collections import Counter\n",
        "%matplotlib inline\n",
        "import seaborn as sns; sns.set()\n",
        "\n",
        "import graphviz\n",
        "\n",
        "\n",
        "from scipy.stats import norm, skew, boxcox\n",
        "from sklearn.model_selection import KFold\n",
        "\n",
        "\n",
        "from sklearn.model_selection import cross_val_score\n",
        "from sklearn.model_selection import cross_val_predict\n",
        "\n",
        "from sklearn.preprocessing import normalize\n",
        "from sklearn.preprocessing import StandardScaler, LabelEncoder, OneHotEncoder\n",
        "from sklearn.model_selection import train_test_split\n",
        "\n",
        "from sklearn.pipeline import Pipeline, make_pipeline\n",
        "from sklearn.decomposition import PCA\n",
        "\n",
        "from sklearn.linear_model import LinearRegression\n",
        "from sklearn.preprocessing import StandardScaler\n",
        "\n",
        "from sklearn.metrics import confusion_matrix, accuracy_score\n",
        "from sklearn.metrics import precision_score, recall_score, f1_score\n",
        "from sklearn.metrics import classification_report\n",
        "\n",
        "from sklearn.model_selection import GridSearchCV, cross_val_score\n",
        "\n",
        "\n",
        "from sklearn.metrics import confusion_matrix, accuracy_score, roc_auc_score, roc_curve\n",
        "from sklearn import preprocessing\n",
        "from sklearn.model_selection import train_test_split\n",
        "from sklearn.feature_selection import RFE\n",
        "\n",
        "from sklearn import metrics\n",
        "\n",
        "\n",
        "import warnings\n",
        "warnings.filterwarnings(\"ignore\")"
      ]
    },
    {
      "cell_type": "markdown",
      "id": "detailed-signature",
      "metadata": {
        "papermill": {
          "duration": 0.071379,
          "end_time": "2021-04-19T20:14:06.365154",
          "exception": false,
          "start_time": "2021-04-19T20:14:06.293775",
          "status": "completed"
        },
        "tags": [],
        "id": "detailed-signature"
      },
      "source": [
        "<a id = \"2\"></a>\n",
        "# Lectura de Datos"
      ]
    },
    {
      "cell_type": "code",
      "execution_count": null,
      "id": "matched-citizen",
      "metadata": {
        "execution": {
          "iopub.execute_input": "2021-04-19T20:14:06.511245Z",
          "iopub.status.busy": "2021-04-19T20:14:06.510240Z",
          "iopub.status.idle": "2021-04-19T20:14:06.674533Z",
          "shell.execute_reply": "2021-04-19T20:14:06.673700Z"
        },
        "papermill": {
          "duration": 0.23826,
          "end_time": "2021-04-19T20:14:06.674688",
          "exception": false,
          "start_time": "2021-04-19T20:14:06.436428",
          "status": "completed"
        },
        "tags": [],
        "id": "matched-citizen"
      },
      "outputs": [],
      "source": [
        "dataset = pandas.read_csv('diamonds.csv')\n",
        "dataset.sample(10)"
      ]
    },
    {
      "cell_type": "code",
      "execution_count": null,
      "id": "closed-powell",
      "metadata": {
        "execution": {
          "iopub.execute_input": "2021-04-19T20:14:06.823719Z",
          "iopub.status.busy": "2021-04-19T20:14:06.823043Z",
          "iopub.status.idle": "2021-04-19T20:14:06.837102Z",
          "shell.execute_reply": "2021-04-19T20:14:06.837542Z"
        },
        "papermill": {
          "duration": 0.0912,
          "end_time": "2021-04-19T20:14:06.837723",
          "exception": false,
          "start_time": "2021-04-19T20:14:06.746523",
          "status": "completed"
        },
        "tags": [],
        "id": "closed-powell"
      },
      "outputs": [],
      "source": [
        "dataset.isnull().sum()"
      ]
    },
    {
      "cell_type": "code",
      "execution_count": 86,
      "id": "acquired-formula",
      "metadata": {
        "execution": {
          "iopub.execute_input": "2021-04-19T20:14:06.990449Z",
          "iopub.status.busy": "2021-04-19T20:14:06.989474Z",
          "iopub.status.idle": "2021-04-19T20:14:06.993079Z",
          "shell.execute_reply": "2021-04-19T20:14:06.992561Z"
        },
        "papermill": {
          "duration": 0.083335,
          "end_time": "2021-04-19T20:14:06.993225",
          "exception": false,
          "start_time": "2021-04-19T20:14:06.909890",
          "status": "completed"
        },
        "tags": [],
        "id": "acquired-formula"
      },
      "outputs": [],
      "source": [
        "dataset.drop('Unnamed: 0', axis = 1, inplace = True)"
      ]
    },
    {
      "cell_type": "markdown",
      "id": "special-thing",
      "metadata": {
        "papermill": {
          "duration": 0.074398,
          "end_time": "2021-04-19T20:14:07.141524",
          "exception": false,
          "start_time": "2021-04-19T20:14:07.067126",
          "status": "completed"
        },
        "tags": [],
        "id": "special-thing"
      },
      "source": [
        "<a id = \"3\"></a>\n",
        "## Variable Descriptions"
      ]
    },
    {
      "cell_type": "markdown",
      "id": "accepted-person",
      "metadata": {
        "papermill": {
          "duration": 0.096086,
          "end_time": "2021-04-19T20:14:07.308928",
          "exception": false,
          "start_time": "2021-04-19T20:14:07.212842",
          "status": "completed"
        },
        "tags": [],
        "id": "accepted-person"
      },
      "source": [
        "* Quilates --> peso del diamante (0,2--5,01)\n",
        "* Corte --> Describe la calidad de corte del diamante. Calidad en orden creciente Regular, Buena, Muy Buena, Premium, Ideal\n",
        "* Color --> Color del diamante, siendo D el mejor y J el peor\n",
        "* Claridad --> Qué tan obvias son las inclusiones dentro del diamante: (en orden de mejor a peor, FL = impecable, I3 = inclusiones de nivel 3) FL,IF, VVS1, VVS2, VS1, VS2, SI1, SI2, I1, I2 , I3\n",
        "* Profundidad --> La altura de un diamante, medida desde el culet hasta la mesa, dividida por su diámetro promedio de faja.\n",
        "* Tabla --> El ancho de la mesa del diamante expresado como porcentaje de su diámetro promedio.\n",
        "* Precio --> el precio del diamante.\n",
        "* x --> longitud mm\n",
        "* y --> ancho mm\n",
        "* z --> profundidad mm\n"
      ]
    },
    {
      "cell_type": "code",
      "execution_count": null,
      "id": "adult-round",
      "metadata": {
        "execution": {
          "iopub.execute_input": "2021-04-19T20:14:07.473598Z",
          "iopub.status.busy": "2021-04-19T20:14:07.472941Z",
          "iopub.status.idle": "2021-04-19T20:14:07.502166Z",
          "shell.execute_reply": "2021-04-19T20:14:07.501202Z"
        },
        "papermill": {
          "duration": 0.103408,
          "end_time": "2021-04-19T20:14:07.502372",
          "exception": false,
          "start_time": "2021-04-19T20:14:07.398964",
          "status": "completed"
        },
        "tags": [],
        "id": "adult-round"
      },
      "outputs": [],
      "source": [
        "dataset.info()"
      ]
    },
    {
      "cell_type": "code",
      "execution_count": null,
      "id": "mediterranean-patch",
      "metadata": {
        "execution": {
          "iopub.execute_input": "2021-04-19T20:14:07.651636Z",
          "iopub.status.busy": "2021-04-19T20:14:07.650761Z",
          "iopub.status.idle": "2021-04-19T20:14:07.694952Z",
          "shell.execute_reply": "2021-04-19T20:14:07.694478Z"
        },
        "papermill": {
          "duration": 0.118673,
          "end_time": "2021-04-19T20:14:07.695106",
          "exception": false,
          "start_time": "2021-04-19T20:14:07.576433",
          "status": "completed"
        },
        "tags": [],
        "id": "mediterranean-patch"
      },
      "outputs": [],
      "source": [
        "dataset.describe()"
      ]
    },
    {
      "cell_type": "markdown",
      "id": "oriented-practice",
      "metadata": {
        "papermill": {
          "duration": 0.074032,
          "end_time": "2021-04-19T20:14:07.840639",
          "exception": false,
          "start_time": "2021-04-19T20:14:07.766607",
          "status": "completed"
        },
        "tags": [],
        "id": "oriented-practice"
      },
      "source": [
        "<a id = \"4\"></a>\n",
        "### Análisis de variables univariadas"
      ]
    },
    {
      "cell_type": "markdown",
      "id": "female-prerequisite",
      "metadata": {
        "papermill": {
          "duration": 0.073999,
          "end_time": "2021-04-19T20:14:07.986768",
          "exception": false,
          "start_time": "2021-04-19T20:14:07.912769",
          "status": "completed"
        },
        "tags": [],
        "id": "female-prerequisite"
      },
      "source": [
        "* Variables categóricas: ['corte', 'color', 'claridad']\n",
        "\n",
        "* Variables numéricas: ['quilates', 'profundidad', 'tabla', 'x', 'y', 'z', 'precio']"
      ]
    },
    {
      "cell_type": "markdown",
      "id": "processed-angle",
      "metadata": {
        "papermill": {
          "duration": 0.07306,
          "end_time": "2021-04-19T20:14:08.133978",
          "exception": false,
          "start_time": "2021-04-19T20:14:08.060918",
          "status": "completed"
        },
        "tags": [],
        "id": "processed-angle"
      },
      "source": [
        "<a id = \"5\"></a>\n",
        "#### Variables Categóricas"
      ]
    },
    {
      "cell_type": "code",
      "execution_count": 89,
      "id": "careful-musician",
      "metadata": {
        "execution": {
          "iopub.execute_input": "2021-04-19T20:14:08.289516Z",
          "iopub.status.busy": "2021-04-19T20:14:08.288579Z",
          "iopub.status.idle": "2021-04-19T20:14:08.291080Z",
          "shell.execute_reply": "2021-04-19T20:14:08.291599Z"
        },
        "papermill": {
          "duration": 0.082552,
          "end_time": "2021-04-19T20:14:08.291760",
          "exception": false,
          "start_time": "2021-04-19T20:14:08.209208",
          "status": "completed"
        },
        "tags": [],
        "id": "careful-musician"
      },
      "outputs": [],
      "source": [
        "def bar_plot(variable):\n",
        "    # get feature\n",
        "    var = dataset[variable]\n",
        "    # count number of categorical variable(value/sample)\n",
        "    varValue = var.value_counts()\n",
        "\n",
        "    # visualize\n",
        "    plt.figure(figsize = (9,3))\n",
        "    plt.bar(varValue.index, varValue)\n",
        "    plt.xticks(varValue.index, varValue.index.values)\n",
        "    plt.ylabel(\"Frequency\")\n",
        "    plt.title(variable)\n",
        "    plt.show()\n",
        "    print(\"{}:\\n{}\".format(variable,varValue))"
      ]
    },
    {
      "cell_type": "code",
      "execution_count": null,
      "id": "fossil-calculator",
      "metadata": {
        "execution": {
          "iopub.execute_input": "2021-04-19T20:14:08.440699Z",
          "iopub.status.busy": "2021-04-19T20:14:08.439703Z",
          "iopub.status.idle": "2021-04-19T20:14:08.447200Z",
          "shell.execute_reply": "2021-04-19T20:14:08.447670Z"
        },
        "papermill": {
          "duration": 0.08269,
          "end_time": "2021-04-19T20:14:08.447865",
          "exception": false,
          "start_time": "2021-04-19T20:14:08.365175",
          "status": "completed"
        },
        "tags": [],
        "id": "fossil-calculator"
      },
      "outputs": [],
      "source": [
        "categorical = (dataset.dtypes == \"object\")\n",
        "categorical_list = list(categorical[categorical].index)\n",
        "\n",
        "print(\"Categorical variables:\")\n",
        "print(categorical_list)"
      ]
    },
    {
      "cell_type": "code",
      "execution_count": null,
      "id": "casual-grass",
      "metadata": {
        "execution": {
          "iopub.execute_input": "2021-04-19T20:14:08.617569Z",
          "iopub.status.busy": "2021-04-19T20:14:08.616731Z",
          "iopub.status.idle": "2021-04-19T20:14:09.097675Z",
          "shell.execute_reply": "2021-04-19T20:14:09.097143Z"
        },
        "papermill": {
          "duration": 0.577966,
          "end_time": "2021-04-19T20:14:09.097846",
          "exception": false,
          "start_time": "2021-04-19T20:14:08.519880",
          "status": "completed"
        },
        "tags": [],
        "id": "casual-grass"
      },
      "outputs": [],
      "source": [
        "sns.set_style('darkgrid')\n",
        "for c in categorical_list:\n",
        "    bar_plot(c)"
      ]
    },
    {
      "cell_type": "markdown",
      "id": "armed-detective",
      "metadata": {
        "papermill": {
          "duration": 0.074743,
          "end_time": "2021-04-19T20:14:09.247471",
          "exception": false,
          "start_time": "2021-04-19T20:14:09.172728",
          "status": "completed"
        },
        "tags": [],
        "id": "armed-detective"
      },
      "source": [
        "<a id = \"6\"></a>\n",
        "#### Variables Numéricas"
      ]
    },
    {
      "cell_type": "code",
      "execution_count": null,
      "id": "cordless-slovenia",
      "metadata": {
        "execution": {
          "iopub.execute_input": "2021-04-19T20:14:09.403003Z",
          "iopub.status.busy": "2021-04-19T20:14:09.402319Z",
          "iopub.status.idle": "2021-04-19T20:14:09.406726Z",
          "shell.execute_reply": "2021-04-19T20:14:09.405922Z"
        },
        "papermill": {
          "duration": 0.084553,
          "end_time": "2021-04-19T20:14:09.406922",
          "exception": false,
          "start_time": "2021-04-19T20:14:09.322369",
          "status": "completed"
        },
        "tags": [],
        "id": "cordless-slovenia"
      },
      "outputs": [],
      "source": [
        "numerical_float64 = (dataset.dtypes == \"float64\")\n",
        "numerical_float64_list = list(numerical_float64[numerical_float64].index)\n",
        "\n",
        "print(\"Numerical variables:\")\n",
        "print(numerical_float64_list)"
      ]
    },
    {
      "cell_type": "code",
      "execution_count": null,
      "id": "random-upset",
      "metadata": {
        "execution": {
          "iopub.execute_input": "2021-04-19T20:14:09.585193Z",
          "iopub.status.busy": "2021-04-19T20:14:09.584153Z",
          "iopub.status.idle": "2021-04-19T20:14:16.359066Z",
          "shell.execute_reply": "2021-04-19T20:14:16.359562Z"
        },
        "papermill": {
          "duration": 6.876267,
          "end_time": "2021-04-19T20:14:16.359729",
          "exception": false,
          "start_time": "2021-04-19T20:14:09.483462",
          "status": "completed"
        },
        "tags": [],
        "id": "random-upset"
      },
      "outputs": [],
      "source": [
        "plt.figure(figsize=(30,20))\n",
        "\n",
        "plt.subplot(3,3,1)\n",
        "sns.histplot(dataset['carat'], color = 'red', kde = True).set_title('carat Interval and Counts')\n",
        "\n",
        "plt.subplot(3,3,2)\n",
        "sns.histplot(dataset['depth'], color = 'green', kde = True).set_title('depth Interval and Counts')\n",
        "\n",
        "plt.subplot(3,3,3)\n",
        "sns.histplot(dataset['table'], kde = True, color = 'blue').set_title('table Interval and Counts')\n",
        "\n",
        "plt.subplot(3,3,4)\n",
        "sns.histplot(dataset['x'], kde = True, color = 'black').set_title('length Interval and Counts')\n",
        "\n",
        "plt.subplot(3,3,5)\n",
        "sns.histplot(dataset['y'], kde = True, color = 'yellow').set_title('width Interval and Counts')\n",
        "\n",
        "plt.subplot(3,3,6)\n",
        "sns.histplot(dataset['z'], kde = True, color = 'purple').set_title('depth Interval and Counts')"
      ]
    },
    {
      "cell_type": "markdown",
      "id": "played-pattern",
      "metadata": {
        "papermill": {
          "duration": 0.085413,
          "end_time": "2021-04-19T20:14:16.526171",
          "exception": false,
          "start_time": "2021-04-19T20:14:16.440758",
          "status": "completed"
        },
        "tags": [],
        "id": "played-pattern"
      },
      "source": [
        "<a id = \"7\"></a>\n",
        "# Análisis Básico de Datos"
      ]
    },
    {
      "cell_type": "markdown",
      "id": "indie-observer",
      "metadata": {
        "papermill": {
          "duration": 0.080709,
          "end_time": "2021-04-19T20:14:16.705694",
          "exception": false,
          "start_time": "2021-04-19T20:14:16.624985",
          "status": "completed"
        },
        "tags": [],
        "id": "indie-observer"
      },
      "source": [
        "<a id = \"8\"></a>\n",
        "## Corte - Precio"
      ]
    },
    {
      "cell_type": "code",
      "execution_count": null,
      "id": "perfect-survey",
      "metadata": {
        "execution": {
          "iopub.execute_input": "2021-04-19T20:14:16.899355Z",
          "iopub.status.busy": "2021-04-19T20:14:16.897385Z",
          "iopub.status.idle": "2021-04-19T20:14:16.914694Z",
          "shell.execute_reply": "2021-04-19T20:14:16.914056Z"
        },
        "papermill": {
          "duration": 0.118679,
          "end_time": "2021-04-19T20:14:16.914877",
          "exception": false,
          "start_time": "2021-04-19T20:14:16.796198",
          "status": "completed"
        },
        "tags": [],
        "id": "perfect-survey"
      },
      "outputs": [],
      "source": [
        "dataset[[\"cut\",\"price\"]].groupby([\"cut\"], as_index = False).mean().sort_values(by=\"price\",ascending = False)"
      ]
    },
    {
      "cell_type": "code",
      "execution_count": 95,
      "id": "personalized-poker",
      "metadata": {
        "execution": {
          "iopub.execute_input": "2021-04-19T20:14:17.090213Z",
          "iopub.status.busy": "2021-04-19T20:14:17.087285Z",
          "iopub.status.idle": "2021-04-19T20:14:17.098553Z",
          "shell.execute_reply": "2021-04-19T20:14:17.098068Z"
        },
        "papermill": {
          "duration": 0.100955,
          "end_time": "2021-04-19T20:14:17.098693",
          "exception": false,
          "start_time": "2021-04-19T20:14:16.997738",
          "status": "completed"
        },
        "tags": [],
        "id": "personalized-poker"
      },
      "outputs": [],
      "source": [
        "mean_price_by_cut = dataset[[\"cut\",\"price\"]].groupby([\"cut\"], as_index = False).mean().sort_values(by=\"price\",ascending = False)"
      ]
    },
    {
      "cell_type": "code",
      "execution_count": null,
      "id": "tropical-greece",
      "metadata": {
        "execution": {
          "iopub.execute_input": "2021-04-19T20:14:17.285154Z",
          "iopub.status.busy": "2021-04-19T20:14:17.284395Z",
          "iopub.status.idle": "2021-04-19T20:14:17.427241Z",
          "shell.execute_reply": "2021-04-19T20:14:17.427667Z"
        },
        "papermill": {
          "duration": 0.249051,
          "end_time": "2021-04-19T20:14:17.427962",
          "exception": false,
          "start_time": "2021-04-19T20:14:17.178911",
          "status": "completed"
        },
        "tags": [],
        "id": "tropical-greece"
      },
      "outputs": [],
      "source": [
        "plt.figure(figsize=(10,7))\n",
        "sns.barplot(x = mean_price_by_cut['cut'], y = mean_price_by_cut['price'], palette=\"Set3\")\n",
        "\n",
        "plt.ylabel('Price')\n",
        "plt.xlabel('cut', style = 'normal', size = 24)\n",
        "\n",
        "plt.xticks(rotation = 0, size = 12)\n",
        "plt.yticks(rotation = 0, size = 12)\n",
        "\n",
        "plt.title('Average \"price\" Relative to \"cut\"',color = 'black',fontsize=15)\n",
        "plt.show()"
      ]
    },
    {
      "cell_type": "code",
      "execution_count": null,
      "id": "affiliated-architect",
      "metadata": {
        "execution": {
          "iopub.execute_input": "2021-04-19T20:14:17.593102Z",
          "iopub.status.busy": "2021-04-19T20:14:17.592397Z",
          "iopub.status.idle": "2021-04-19T20:14:17.754097Z",
          "shell.execute_reply": "2021-04-19T20:14:17.753559Z"
        },
        "papermill": {
          "duration": 0.245362,
          "end_time": "2021-04-19T20:14:17.754240",
          "exception": false,
          "start_time": "2021-04-19T20:14:17.508878",
          "status": "completed"
        },
        "tags": [],
        "id": "affiliated-architect"
      },
      "outputs": [],
      "source": [
        "labels = dataset['cut'].value_counts().index\n",
        "sizes = dataset['cut'].value_counts().values\n",
        "myexplode = [0.05, 0, 0, 0, 0]\n",
        "colors = ['#ff9999','#66b3ff','#99ff99','#ffcc99','#fbdf70']\n",
        "\n",
        "plt.figure(figsize = (8,8))\n",
        "plt.pie(sizes, labels=labels, explode = myexplode, shadow = True, startangle=90, colors=colors, autopct='%1.1f%%')\n",
        "plt.title(\"Distribution of Diamonds by 'cut'\",color = 'black',fontsize = 15)"
      ]
    },
    {
      "cell_type": "markdown",
      "id": "published-strike",
      "metadata": {
        "papermill": {
          "duration": 0.083812,
          "end_time": "2021-04-19T20:14:17.922895",
          "exception": false,
          "start_time": "2021-04-19T20:14:17.839083",
          "status": "completed"
        },
        "tags": [],
        "id": "published-strike"
      },
      "source": [
        "**Los diamantes con talla 'Ideal' constituyen la mayoría. No se puede decir que los recortes se distribuyan uniformemente. Sólo hay dos valores cercanos entre sí.**"
      ]
    },
    {
      "cell_type": "markdown",
      "id": "roman-twins",
      "metadata": {
        "papermill": {
          "duration": 0.082762,
          "end_time": "2021-04-19T20:14:18.087639",
          "exception": false,
          "start_time": "2021-04-19T20:14:18.004877",
          "status": "completed"
        },
        "tags": [],
        "id": "roman-twins"
      },
      "source": [
        "<a id = \"9\"></a>\n",
        "## Color - Precio"
      ]
    },
    {
      "cell_type": "code",
      "execution_count": null,
      "id": "cultural-flour",
      "metadata": {
        "execution": {
          "iopub.execute_input": "2021-04-19T20:14:18.264018Z",
          "iopub.status.busy": "2021-04-19T20:14:18.263074Z",
          "iopub.status.idle": "2021-04-19T20:14:18.287045Z",
          "shell.execute_reply": "2021-04-19T20:14:18.286276Z"
        },
        "papermill": {
          "duration": 0.114919,
          "end_time": "2021-04-19T20:14:18.287256",
          "exception": false,
          "start_time": "2021-04-19T20:14:18.172337",
          "status": "completed"
        },
        "tags": [],
        "id": "cultural-flour"
      },
      "outputs": [],
      "source": [
        "dataset[[\"color\",\"price\"]].groupby([\"color\"], as_index = False).mean().sort_values(by=\"price\",ascending = False)"
      ]
    },
    {
      "cell_type": "code",
      "execution_count": 99,
      "id": "precise-russia",
      "metadata": {
        "execution": {
          "iopub.execute_input": "2021-04-19T20:14:18.474978Z",
          "iopub.status.busy": "2021-04-19T20:14:18.474011Z",
          "iopub.status.idle": "2021-04-19T20:14:18.486334Z",
          "shell.execute_reply": "2021-04-19T20:14:18.485810Z"
        },
        "papermill": {
          "duration": 0.102403,
          "end_time": "2021-04-19T20:14:18.486475",
          "exception": false,
          "start_time": "2021-04-19T20:14:18.384072",
          "status": "completed"
        },
        "tags": [],
        "id": "precise-russia"
      },
      "outputs": [],
      "source": [
        "mean_price_by_color = dataset[[\"color\",\"price\"]].groupby([\"color\"], as_index = False).mean().sort_values(by=\"price\",ascending = False)"
      ]
    },
    {
      "cell_type": "code",
      "execution_count": null,
      "id": "authorized-toner",
      "metadata": {
        "execution": {
          "iopub.execute_input": "2021-04-19T20:14:18.684358Z",
          "iopub.status.busy": "2021-04-19T20:14:18.682224Z",
          "iopub.status.idle": "2021-04-19T20:14:18.839167Z",
          "shell.execute_reply": "2021-04-19T20:14:18.838563Z"
        },
        "papermill": {
          "duration": 0.2692,
          "end_time": "2021-04-19T20:14:18.839312",
          "exception": false,
          "start_time": "2021-04-19T20:14:18.570112",
          "status": "completed"
        },
        "tags": [],
        "id": "authorized-toner"
      },
      "outputs": [],
      "source": [
        "plt.figure(figsize=(10,7))\n",
        "sns.barplot(x = mean_price_by_color['color'], y = mean_price_by_color['price'], palette=\"Set3\")\n",
        "\n",
        "plt.ylabel('Price')\n",
        "plt.xlabel('color', style = 'normal', size = 24)\n",
        "\n",
        "plt.xticks(rotation = 0, size = 12)\n",
        "plt.yticks(rotation = 0, size = 12)\n",
        "\n",
        "plt.title('Average \"price\" Relative to \"color\"',color = 'black',fontsize=15)\n",
        "plt.show()"
      ]
    },
    {
      "cell_type": "code",
      "execution_count": null,
      "id": "funny-suffering",
      "metadata": {
        "execution": {
          "iopub.execute_input": "2021-04-19T20:14:19.052754Z",
          "iopub.status.busy": "2021-04-19T20:14:19.032015Z",
          "iopub.status.idle": "2021-04-19T20:14:19.190607Z",
          "shell.execute_reply": "2021-04-19T20:14:19.189994Z"
        },
        "papermill": {
          "duration": 0.267245,
          "end_time": "2021-04-19T20:14:19.190742",
          "exception": false,
          "start_time": "2021-04-19T20:14:18.923497",
          "status": "completed"
        },
        "tags": [],
        "id": "funny-suffering"
      },
      "outputs": [],
      "source": [
        "labels = dataset['color'].value_counts().index\n",
        "sizes = dataset['color'].value_counts().values\n",
        "myexplode = [0.05, 0.05, 0.05, 0.05, 0.05,0.05,0.05]\n",
        "colors = ['#ff9999','#66b3ff','#99ff99','#ffcc99','#fbdf70','#ac9fd0','#8b7470']\n",
        "\n",
        "plt.figure(figsize = (8,8))\n",
        "plt.pie(sizes, labels=labels, explode = myexplode, shadow = True, startangle=90, colors=colors, autopct='%1.1f%%')\n",
        "plt.title(\"Distribution of Diamonds by 'color'\",color = 'black',fontsize = 15)"
      ]
    },
    {
      "cell_type": "markdown",
      "id": "angry-alpha",
      "metadata": {
        "papermill": {
          "duration": 0.085643,
          "end_time": "2021-04-19T20:14:19.362203",
          "exception": false,
          "start_time": "2021-04-19T20:14:19.276560",
          "status": "completed"
        },
        "tags": [],
        "id": "angry-alpha"
      },
      "source": [
        "**Tenemos 7 colores. Están disminuyendo a un ritmo cercano. La 'G' es la mayoría.**"
      ]
    },
    {
      "cell_type": "markdown",
      "id": "suited-camera",
      "metadata": {
        "papermill": {
          "duration": 0.084958,
          "end_time": "2021-04-19T20:14:19.532827",
          "exception": false,
          "start_time": "2021-04-19T20:14:19.447869",
          "status": "completed"
        },
        "tags": [],
        "id": "suited-camera"
      },
      "source": [
        "<a id = \"10\"></a>\n",
        "## Claridad - Precio"
      ]
    },
    {
      "cell_type": "code",
      "execution_count": 102,
      "id": "measured-cylinder",
      "metadata": {
        "execution": {
          "iopub.execute_input": "2021-04-19T20:14:19.718273Z",
          "iopub.status.busy": "2021-04-19T20:14:19.716840Z",
          "iopub.status.idle": "2021-04-19T20:14:19.727458Z",
          "shell.execute_reply": "2021-04-19T20:14:19.726883Z"
        },
        "papermill": {
          "duration": 0.107837,
          "end_time": "2021-04-19T20:14:19.727591",
          "exception": false,
          "start_time": "2021-04-19T20:14:19.619754",
          "status": "completed"
        },
        "tags": [],
        "id": "measured-cylinder"
      },
      "outputs": [],
      "source": [
        "mean_price_by_clarity = dataset[[\"clarity\",\"price\"]].groupby([\"clarity\"], as_index = False).mean().sort_values(by=\"price\",ascending = False)"
      ]
    },
    {
      "cell_type": "code",
      "execution_count": null,
      "id": "ruled-likelihood",
      "metadata": {
        "execution": {
          "iopub.execute_input": "2021-04-19T20:14:19.906941Z",
          "iopub.status.busy": "2021-04-19T20:14:19.905998Z",
          "iopub.status.idle": "2021-04-19T20:14:19.921795Z",
          "shell.execute_reply": "2021-04-19T20:14:19.921289Z"
        },
        "papermill": {
          "duration": 0.1089,
          "end_time": "2021-04-19T20:14:19.921947",
          "exception": false,
          "start_time": "2021-04-19T20:14:19.813047",
          "status": "completed"
        },
        "tags": [],
        "id": "ruled-likelihood"
      },
      "outputs": [],
      "source": [
        "dataset[[\"clarity\",\"price\"]].groupby([\"clarity\"], as_index = False).mean().sort_values(by=\"price\",ascending = False)"
      ]
    },
    {
      "cell_type": "code",
      "execution_count": null,
      "id": "framed-rebel",
      "metadata": {
        "execution": {
          "iopub.execute_input": "2021-04-19T20:14:20.137586Z",
          "iopub.status.busy": "2021-04-19T20:14:20.131260Z",
          "iopub.status.idle": "2021-04-19T20:14:20.298612Z",
          "shell.execute_reply": "2021-04-19T20:14:20.298136Z"
        },
        "papermill": {
          "duration": 0.289075,
          "end_time": "2021-04-19T20:14:20.298751",
          "exception": false,
          "start_time": "2021-04-19T20:14:20.009676",
          "status": "completed"
        },
        "tags": [],
        "id": "framed-rebel"
      },
      "outputs": [],
      "source": [
        "plt.figure(figsize=(10,7))\n",
        "sns.barplot(x = mean_price_by_clarity['clarity'], y = mean_price_by_clarity['price'], palette=\"Set3\")\n",
        "\n",
        "plt.ylabel('Price')\n",
        "plt.xlabel('Clarity', style = 'normal', size = 24)\n",
        "\n",
        "plt.xticks(rotation = 0, size = 12)\n",
        "plt.yticks(rotation = 0, size = 12)\n",
        "\n",
        "plt.title('Average \"price\" Relative to \"clarity\"',color = 'black',fontsize=15)\n",
        "plt.show()"
      ]
    },
    {
      "cell_type": "code",
      "execution_count": null,
      "id": "official-impression",
      "metadata": {
        "execution": {
          "iopub.execute_input": "2021-04-19T20:14:20.516375Z",
          "iopub.status.busy": "2021-04-19T20:14:20.503804Z",
          "iopub.status.idle": "2021-04-19T20:14:20.666964Z",
          "shell.execute_reply": "2021-04-19T20:14:20.667438Z"
        },
        "papermill": {
          "duration": 0.282324,
          "end_time": "2021-04-19T20:14:20.667606",
          "exception": false,
          "start_time": "2021-04-19T20:14:20.385282",
          "status": "completed"
        },
        "tags": [],
        "id": "official-impression"
      },
      "outputs": [],
      "source": [
        "labels = dataset['clarity'].value_counts().index\n",
        "sizes = dataset['clarity'].value_counts().values\n",
        "myexplode = [0.05, 0.05, 0.05, 0.05, 0.05,0.05,0.05,0.05]\n",
        "colors = ['#ff9999','#66b3ff','#99ff99','#ffcc99','#fbdf70','#ac9fd0','#8b7470','#ebe478']\n",
        "\n",
        "plt.figure(figsize = (8,8))\n",
        "plt.pie(sizes, labels=labels, explode = myexplode, shadow = True, startangle=90, colors=colors, autopct='%1.1f%%')\n",
        "plt.title(\"Distribution of Diamonds by 'clarity'\",color = 'black',fontsize = 15)"
      ]
    },
    {
      "cell_type": "markdown",
      "id": "infectious-differential",
      "metadata": {
        "papermill": {
          "duration": 0.088647,
          "end_time": "2021-04-19T20:14:20.844697",
          "exception": false,
          "start_time": "2021-04-19T20:14:20.756050",
          "status": "completed"
        },
        "tags": [],
        "id": "infectious-differential"
      },
      "source": [
        "Hay 8 valores diferentes de 'Claridad'. No se observa una distribución desigual."
      ]
    },
    {
      "cell_type": "markdown",
      "id": "altered-trinidad",
      "metadata": {
        "papermill": {
          "duration": 0.090001,
          "end_time": "2021-04-19T20:14:21.024112",
          "exception": false,
          "start_time": "2021-04-19T20:14:20.934111",
          "status": "completed"
        },
        "tags": [],
        "id": "altered-trinidad"
      },
      "source": [
        "<a id = \"11\"></a>\n",
        "## Carátula - Precio"
      ]
    },
    {
      "cell_type": "code",
      "execution_count": null,
      "id": "sustainable-narrative",
      "metadata": {
        "execution": {
          "iopub.execute_input": "2021-04-19T20:14:21.213121Z",
          "iopub.status.busy": "2021-04-19T20:14:21.212355Z",
          "iopub.status.idle": "2021-04-19T20:14:21.229023Z",
          "shell.execute_reply": "2021-04-19T20:14:21.228483Z"
        },
        "papermill": {
          "duration": 0.115198,
          "end_time": "2021-04-19T20:14:21.229188",
          "exception": false,
          "start_time": "2021-04-19T20:14:21.113990",
          "status": "completed"
        },
        "tags": [],
        "id": "sustainable-narrative"
      },
      "outputs": [],
      "source": [
        "dataset[[\"carat\",\"price\"]].groupby([\"carat\"], as_index = False).mean().sort_values(by=\"price\",ascending = False)"
      ]
    },
    {
      "cell_type": "code",
      "execution_count": null,
      "id": "grand-peace",
      "metadata": {
        "execution": {
          "iopub.execute_input": "2021-04-19T20:14:21.434018Z",
          "iopub.status.busy": "2021-04-19T20:14:21.432985Z",
          "iopub.status.idle": "2021-04-19T20:14:23.393784Z",
          "shell.execute_reply": "2021-04-19T20:14:23.394301Z"
        },
        "papermill": {
          "duration": 2.075225,
          "end_time": "2021-04-19T20:14:23.394472",
          "exception": false,
          "start_time": "2021-04-19T20:14:21.319247",
          "status": "completed"
        },
        "tags": [],
        "id": "grand-peace"
      },
      "outputs": [],
      "source": [
        "# Use JointGrid directly to draw a custom plot\n",
        "g = sns.JointGrid(data=dataset, x=\"carat\", y=\"price\", space=0, ratio=17)\n",
        "g.plot_joint(sns.scatterplot, color=\"g\", alpha=.6, legend=False)\n",
        "g.plot_marginals(sns.rugplot, height=1, color=\"g\", alpha=.6)"
      ]
    },
    {
      "cell_type": "markdown",
      "id": "rubber-official",
      "metadata": {
        "papermill": {
          "duration": 0.095265,
          "end_time": "2021-04-19T20:14:23.583010",
          "exception": false,
          "start_time": "2021-04-19T20:14:23.487745",
          "status": "completed"
        },
        "tags": [],
        "id": "rubber-official"
      },
      "source": [
        "**Se puede decir que la variable 'Precio' generalmente aumenta dependiendo del 'quilate'. Sin embargo, no existe una relación lineal entre ellos. Variables como \"color\", \"corte\" y \"claridad\" pueden estar afectando esto.**"
      ]
    },
    {
      "cell_type": "markdown",
      "id": "interested-teddy",
      "metadata": {
        "papermill": {
          "duration": 0.093834,
          "end_time": "2021-04-19T20:14:23.772084",
          "exception": false,
          "start_time": "2021-04-19T20:14:23.678250",
          "status": "completed"
        },
        "tags": [],
        "id": "interested-teddy"
      },
      "source": [
        "<a id = \"12\"></a>\n",
        "## Profundidad - Precio"
      ]
    },
    {
      "cell_type": "code",
      "execution_count": null,
      "id": "coastal-genetics",
      "metadata": {
        "execution": {
          "iopub.execute_input": "2021-04-19T20:14:23.972094Z",
          "iopub.status.busy": "2021-04-19T20:14:23.971019Z",
          "iopub.status.idle": "2021-04-19T20:14:23.987207Z",
          "shell.execute_reply": "2021-04-19T20:14:23.986558Z"
        },
        "papermill": {
          "duration": 0.1195,
          "end_time": "2021-04-19T20:14:23.987342",
          "exception": false,
          "start_time": "2021-04-19T20:14:23.867842",
          "status": "completed"
        },
        "tags": [],
        "id": "coastal-genetics"
      },
      "outputs": [],
      "source": [
        "dataset[[\"depth\",\"price\"]].groupby([\"depth\"], as_index = False).mean().sort_values(by=\"price\",ascending = False)"
      ]
    },
    {
      "cell_type": "code",
      "execution_count": null,
      "id": "concrete-welding",
      "metadata": {
        "execution": {
          "iopub.execute_input": "2021-04-19T20:14:24.204080Z",
          "iopub.status.busy": "2021-04-19T20:14:24.197193Z",
          "iopub.status.idle": "2021-04-19T20:14:26.191045Z",
          "shell.execute_reply": "2021-04-19T20:14:26.191503Z"
        },
        "papermill": {
          "duration": 2.108663,
          "end_time": "2021-04-19T20:14:26.191661",
          "exception": false,
          "start_time": "2021-04-19T20:14:24.082998",
          "status": "completed"
        },
        "tags": [],
        "id": "concrete-welding"
      },
      "outputs": [],
      "source": [
        "g = sns.JointGrid(data=dataset, x=\"depth\", y=\"price\", space=0, ratio=17)\n",
        "g.plot_joint(sns.scatterplot, color=\"g\", alpha=.6, legend=False)\n",
        "g.plot_marginals(sns.rugplot, height=1, color=\"g\", alpha=.6)"
      ]
    },
    {
      "cell_type": "markdown",
      "id": "worse-stephen",
      "metadata": {
        "papermill": {
          "duration": 0.098153,
          "end_time": "2021-04-19T20:14:26.388173",
          "exception": false,
          "start_time": "2021-04-19T20:14:26.290020",
          "status": "completed"
        },
        "tags": [],
        "id": "worse-stephen"
      },
      "source": [
        "\n",
        "\n",
        "```\n",
        "# This is formatted as code\n",
        "```\n",
        "\n",
        "<a id = \"13\"></a>\n",
        "## Tabla - Precio"
      ]
    },
    {
      "cell_type": "code",
      "execution_count": null,
      "id": "directed-partition",
      "metadata": {
        "execution": {
          "iopub.execute_input": "2021-04-19T20:14:26.594598Z",
          "iopub.status.busy": "2021-04-19T20:14:26.593595Z",
          "iopub.status.idle": "2021-04-19T20:14:26.610016Z",
          "shell.execute_reply": "2021-04-19T20:14:26.609370Z"
        },
        "papermill": {
          "duration": 0.123867,
          "end_time": "2021-04-19T20:14:26.610169",
          "exception": false,
          "start_time": "2021-04-19T20:14:26.486302",
          "status": "completed"
        },
        "tags": [],
        "id": "directed-partition"
      },
      "outputs": [],
      "source": [
        "dataset[[\"table\",\"price\"]].groupby([\"table\"], as_index = False).mean().sort_values(by=\"price\",ascending = False)"
      ]
    },
    {
      "cell_type": "code",
      "execution_count": null,
      "id": "strong-mailing",
      "metadata": {
        "execution": {
          "iopub.execute_input": "2021-04-19T20:14:26.831898Z",
          "iopub.status.busy": "2021-04-19T20:14:26.831108Z",
          "iopub.status.idle": "2021-04-19T20:14:28.800912Z",
          "shell.execute_reply": "2021-04-19T20:14:28.801391Z"
        },
        "papermill": {
          "duration": 2.090326,
          "end_time": "2021-04-19T20:14:28.801563",
          "exception": false,
          "start_time": "2021-04-19T20:14:26.711237",
          "status": "completed"
        },
        "tags": [],
        "id": "strong-mailing"
      },
      "outputs": [],
      "source": [
        "g = sns.JointGrid(data=dataset, x=\"table\", y=\"price\", space=0, ratio=17)\n",
        "g.plot_joint(sns.scatterplot, color=\"g\", alpha=.6, legend=False)\n",
        "g.plot_marginals(sns.rugplot, height=1, color=\"g\", alpha=.6)"
      ]
    },
    {
      "cell_type": "markdown",
      "id": "mathematical-might",
      "metadata": {
        "papermill": {
          "duration": 0.101597,
          "end_time": "2021-04-19T20:14:29.005502",
          "exception": false,
          "start_time": "2021-04-19T20:14:28.903905",
          "status": "completed"
        },
        "tags": [],
        "id": "mathematical-might"
      },
      "source": [
        "<a id = \"14\"></a>\n",
        "## x - Precio"
      ]
    },
    {
      "cell_type": "code",
      "execution_count": null,
      "id": "existing-companion",
      "metadata": {
        "execution": {
          "iopub.execute_input": "2021-04-19T20:14:29.260308Z",
          "iopub.status.busy": "2021-04-19T20:14:29.252734Z",
          "iopub.status.idle": "2021-04-19T20:14:31.002558Z",
          "shell.execute_reply": "2021-04-19T20:14:31.002018Z"
        },
        "papermill": {
          "duration": 1.894905,
          "end_time": "2021-04-19T20:14:31.002694",
          "exception": false,
          "start_time": "2021-04-19T20:14:29.107789",
          "status": "completed"
        },
        "tags": [],
        "id": "existing-companion"
      },
      "outputs": [],
      "source": [
        "g = sns.JointGrid(data=dataset, x=\"x\", y=\"price\", space=0, ratio=17)\n",
        "g.plot_joint(sns.scatterplot, color=\"g\", alpha=.6, legend=False)\n",
        "g.plot_marginals(sns.rugplot, height=1, color=\"g\", alpha=.6)"
      ]
    },
    {
      "cell_type": "markdown",
      "id": "twelve-continuity",
      "metadata": {
        "papermill": {
          "duration": 0.106016,
          "end_time": "2021-04-19T20:14:31.215534",
          "exception": false,
          "start_time": "2021-04-19T20:14:31.109518",
          "status": "completed"
        },
        "tags": [],
        "id": "twelve-continuity"
      },
      "source": [
        "<a id = \"15\"></a>\n",
        "## y - Precio"
      ]
    },
    {
      "cell_type": "code",
      "execution_count": null,
      "id": "satellite-forestry",
      "metadata": {
        "execution": {
          "iopub.execute_input": "2021-04-19T20:14:31.488589Z",
          "iopub.status.busy": "2021-04-19T20:14:31.473088Z",
          "iopub.status.idle": "2021-04-19T20:14:33.487123Z",
          "shell.execute_reply": "2021-04-19T20:14:33.486527Z"
        },
        "papermill": {
          "duration": 2.165012,
          "end_time": "2021-04-19T20:14:33.487254",
          "exception": false,
          "start_time": "2021-04-19T20:14:31.322242",
          "status": "completed"
        },
        "tags": [],
        "id": "satellite-forestry"
      },
      "outputs": [],
      "source": [
        "g = sns.JointGrid(data=dataset, x=\"y\", y=\"price\", space=0, ratio=17)\n",
        "g.plot_joint(sns.scatterplot, color=\"g\", alpha=.6, legend=False)\n",
        "g.plot_marginals(sns.rugplot, height=1, color=\"g\", alpha=.6)"
      ]
    },
    {
      "cell_type": "markdown",
      "id": "consecutive-penny",
      "metadata": {
        "papermill": {
          "duration": 0.107706,
          "end_time": "2021-04-19T20:14:33.702436",
          "exception": false,
          "start_time": "2021-04-19T20:14:33.594730",
          "status": "completed"
        },
        "tags": [],
        "id": "consecutive-penny"
      },
      "source": [
        "<a id = \"16\"></a>\n",
        "## z - Precio"
      ]
    },
    {
      "cell_type": "code",
      "execution_count": null,
      "id": "patient-quantum",
      "metadata": {
        "execution": {
          "iopub.execute_input": "2021-04-19T20:14:33.941373Z",
          "iopub.status.busy": "2021-04-19T20:14:33.939525Z",
          "iopub.status.idle": "2021-04-19T20:14:35.681765Z",
          "shell.execute_reply": "2021-04-19T20:14:35.681182Z"
        },
        "papermill": {
          "duration": 1.871797,
          "end_time": "2021-04-19T20:14:35.681916",
          "exception": false,
          "start_time": "2021-04-19T20:14:33.810119",
          "status": "completed"
        },
        "tags": [],
        "id": "patient-quantum"
      },
      "outputs": [],
      "source": [
        "g = sns.JointGrid(data=dataset, x=\"z\", y=\"price\", space=0, ratio=17)\n",
        "g.plot_joint(sns.scatterplot, color=\"g\", alpha=.6, legend=False)\n",
        "g.plot_marginals(sns.rugplot, height=1, color=\"g\", alpha=.6)"
      ]
    },
    {
      "cell_type": "markdown",
      "id": "fixed-blues",
      "metadata": {
        "papermill": {
          "duration": 0.108527,
          "end_time": "2021-04-19T20:14:35.899720",
          "exception": false,
          "start_time": "2021-04-19T20:14:35.791193",
          "status": "completed"
        },
        "tags": [],
        "id": "fixed-blues"
      },
      "source": [
        "<a id = \"17\"></a>\n",
        "# Visualización de Datos"
      ]
    },
    {
      "cell_type": "code",
      "execution_count": null,
      "id": "duplicate-party",
      "metadata": {
        "execution": {
          "iopub.execute_input": "2021-04-19T20:14:36.125242Z",
          "iopub.status.busy": "2021-04-19T20:14:36.124375Z",
          "iopub.status.idle": "2021-04-19T20:14:37.664258Z",
          "shell.execute_reply": "2021-04-19T20:14:37.664719Z"
        },
        "papermill": {
          "duration": 1.656619,
          "end_time": "2021-04-19T20:14:37.664914",
          "exception": false,
          "start_time": "2021-04-19T20:14:36.008295",
          "status": "completed"
        },
        "tags": [],
        "id": "duplicate-party"
      },
      "outputs": [],
      "source": [
        "plt.figure(figsize=(30,15))\n",
        "sns.set_theme(style=\"darkgrid\")\n",
        "plt.subplot(2,3,1)\n",
        "sns.violinplot(x = 'cut', y = 'price', data = dataset, palette=\"Set3\")\n",
        "plt.subplot(2,3,2)\n",
        "sns.violinplot(x = 'color', y = 'price', data = dataset, palette=\"Set3\")\n",
        "plt.subplot(2,3,3)\n",
        "sns.violinplot(x = 'clarity', y = 'price', data = dataset, palette=\"Set3\")"
      ]
    },
    {
      "cell_type": "code",
      "execution_count": null,
      "id": "alleged-catalyst",
      "metadata": {
        "execution": {
          "iopub.execute_input": "2021-04-19T20:14:42.915613Z",
          "iopub.status.busy": "2021-04-19T20:14:42.915025Z",
          "iopub.status.idle": "2021-04-19T20:14:44.240557Z",
          "shell.execute_reply": "2021-04-19T20:14:44.239969Z"
        },
        "papermill": {
          "duration": 1.447843,
          "end_time": "2021-04-19T20:14:44.240687",
          "exception": false,
          "start_time": "2021-04-19T20:14:42.792844",
          "status": "completed"
        },
        "tags": [],
        "id": "alleged-catalyst"
      },
      "outputs": [],
      "source": [
        "sns.displot(data=dataset, x='price', hue='cut', kind='kde', multiple=\"fill\", clip=(0,None), palette=\"Set3\")"
      ]
    },
    {
      "cell_type": "code",
      "execution_count": null,
      "id": "unknown-wheel",
      "metadata": {
        "execution": {
          "iopub.execute_input": "2021-04-19T20:14:44.487528Z",
          "iopub.status.busy": "2021-04-19T20:14:44.486923Z",
          "iopub.status.idle": "2021-04-19T20:14:45.537928Z",
          "shell.execute_reply": "2021-04-19T20:14:45.537392Z"
        },
        "papermill": {
          "duration": 1.173193,
          "end_time": "2021-04-19T20:14:45.538064",
          "exception": false,
          "start_time": "2021-04-19T20:14:44.364871",
          "status": "completed"
        },
        "tags": [],
        "id": "unknown-wheel"
      },
      "outputs": [],
      "source": [
        "sns.displot(data=dataset, x='price', hue='clarity', kind='kde', multiple=\"fill\", clip=(0,None), palette=\"Set3\")"
      ]
    },
    {
      "cell_type": "code",
      "execution_count": null,
      "id": "mediterranean-biography",
      "metadata": {
        "execution": {
          "iopub.execute_input": "2021-04-19T20:14:45.794553Z",
          "iopub.status.busy": "2021-04-19T20:14:45.790592Z",
          "iopub.status.idle": "2021-04-19T20:14:46.741441Z",
          "shell.execute_reply": "2021-04-19T20:14:46.741903Z"
        },
        "papermill": {
          "duration": 1.080759,
          "end_time": "2021-04-19T20:14:46.742088",
          "exception": false,
          "start_time": "2021-04-19T20:14:45.661329",
          "status": "completed"
        },
        "tags": [],
        "id": "mediterranean-biography"
      },
      "outputs": [],
      "source": [
        "sns.displot(data=dataset, x='price', hue='color', kind='kde', multiple=\"fill\", clip=(0,None), palette=\"Set3\")"
      ]
    },
    {
      "cell_type": "markdown",
      "id": "pointed-attraction",
      "metadata": {
        "papermill": {
          "duration": 0.252564,
          "end_time": "2021-04-19T20:15:07.380673",
          "exception": false,
          "start_time": "2021-04-19T20:15:07.128109",
          "status": "completed"
        },
        "tags": [],
        "id": "pointed-attraction"
      },
      "source": [
        "<a id = \"19\"></a>\n",
        "# Detección de Anomalías"
      ]
    },
    {
      "cell_type": "markdown",
      "id": "strong-purple",
      "metadata": {
        "papermill": {
          "duration": 0.248978,
          "end_time": "2021-04-19T20:15:07.926173",
          "exception": false,
          "start_time": "2021-04-19T20:15:07.677195",
          "status": "completed"
        },
        "tags": [],
        "id": "strong-purple"
      },
      "source": [
        "Una anomalía es aquella que difiere/se desvía significativamente de otras observaciones en la misma muestra. Un patrón de detección de anomalías produce dos resultados diferentes. La primera es una etiqueta categórica que indica si la observación es anormal o no; el segundo es una puntuación o valor de confianza. La partitura contiene más información que la etiqueta. Porque también nos dice cuán anormal es la observación. La etiqueta simplemente te indica si es anormal. Si bien el etiquetado es más común en los métodos supervisados, la puntuación es más común en los métodos no supervisados y semisupervisados.."
      ]
    },
    {
      "cell_type": "code",
      "execution_count": 119,
      "id": "metallic-advisory",
      "metadata": {
        "execution": {
          "iopub.execute_input": "2021-04-19T20:15:08.437058Z",
          "iopub.status.busy": "2021-04-19T20:15:08.436269Z",
          "iopub.status.idle": "2021-04-19T20:15:08.439372Z",
          "shell.execute_reply": "2021-04-19T20:15:08.438867Z"
        },
        "papermill": {
          "duration": 0.260638,
          "end_time": "2021-04-19T20:15:08.439517",
          "exception": false,
          "start_time": "2021-04-19T20:15:08.178879",
          "status": "completed"
        },
        "tags": [],
        "id": "metallic-advisory"
      },
      "outputs": [],
      "source": [
        "#This code is retrieved from here: https://www.kaggle.com/kanncaa1/dataiteam-titanic-eda#Introduction\n",
        "\n",
        "def detect_outliers(df,features):\n",
        "    outlier_indices = []\n",
        "\n",
        "    for c in features:\n",
        "        # 1st quartile\n",
        "        Q1 = np.percentile(df[c],25)\n",
        "        # 3rd quartile\n",
        "        Q3 = np.percentile(df[c],75)\n",
        "        # IQR\n",
        "        IQR = Q3 - Q1\n",
        "        # Outlier step\n",
        "        outlier_step = IQR * 1.5\n",
        "        # detect outlier and their indeces\n",
        "        outlier_list_col = df[(df[c] < Q1 - outlier_step) | (df[c] > Q3 + outlier_step)].index\n",
        "        # store indeces\n",
        "        outlier_indices.extend(outlier_list_col)\n",
        "\n",
        "    outlier_indices = Counter(outlier_indices)\n",
        "    multiple_outliers = list(i for i, v in outlier_indices.items() if v > 2)\n",
        "\n",
        "    return multiple_outliers"
      ]
    },
    {
      "cell_type": "code",
      "execution_count": null,
      "id": "found-version",
      "metadata": {
        "execution": {
          "iopub.execute_input": "2021-04-19T20:15:08.943705Z",
          "iopub.status.busy": "2021-04-19T20:15:08.942623Z",
          "iopub.status.idle": "2021-04-19T20:15:08.992753Z",
          "shell.execute_reply": "2021-04-19T20:15:08.992283Z"
        },
        "papermill": {
          "duration": 0.302044,
          "end_time": "2021-04-19T20:15:08.992918",
          "exception": false,
          "start_time": "2021-04-19T20:15:08.690874",
          "status": "completed"
        },
        "tags": [],
        "id": "found-version"
      },
      "outputs": [],
      "source": [
        "dataset.loc[detect_outliers(dataset,['carat', 'depth', 'table', 'x', 'y', 'z', 'price'])]"
      ]
    },
    {
      "cell_type": "code",
      "execution_count": 121,
      "id": "abstract-superior",
      "metadata": {
        "execution": {
          "iopub.execute_input": "2021-04-19T20:15:09.498073Z",
          "iopub.status.busy": "2021-04-19T20:15:09.497438Z",
          "iopub.status.idle": "2021-04-19T20:15:09.532493Z",
          "shell.execute_reply": "2021-04-19T20:15:09.531972Z"
        },
        "papermill": {
          "duration": 0.290402,
          "end_time": "2021-04-19T20:15:09.532623",
          "exception": false,
          "start_time": "2021-04-19T20:15:09.242221",
          "status": "completed"
        },
        "tags": [],
        "id": "abstract-superior"
      },
      "outputs": [],
      "source": [
        "# drop outliers\n",
        "dataset = dataset.drop(detect_outliers(dataset,['carat', 'depth', 'table', 'x', 'y', 'z', 'price']),axis = 0).reset_index(drop = True)"
      ]
    },
    {
      "cell_type": "code",
      "execution_count": 122,
      "id": "connected-nickname",
      "metadata": {
        "execution": {
          "iopub.execute_input": "2021-04-19T20:15:10.055361Z",
          "iopub.status.busy": "2021-04-19T20:15:10.049241Z",
          "iopub.status.idle": "2021-04-19T20:15:10.066198Z",
          "shell.execute_reply": "2021-04-19T20:15:10.065678Z"
        },
        "papermill": {
          "duration": 0.283413,
          "end_time": "2021-04-19T20:15:10.066421",
          "exception": false,
          "start_time": "2021-04-19T20:15:09.783008",
          "status": "completed"
        },
        "tags": [],
        "id": "connected-nickname"
      },
      "outputs": [],
      "source": [
        "dataset = dataset.dropna()"
      ]
    },
    {
      "cell_type": "code",
      "execution_count": 123,
      "id": "regular-living",
      "metadata": {
        "execution": {
          "iopub.execute_input": "2021-04-19T20:15:10.572572Z",
          "iopub.status.busy": "2021-04-19T20:15:10.570599Z",
          "iopub.status.idle": "2021-04-19T20:15:10.590614Z",
          "shell.execute_reply": "2021-04-19T20:15:10.589985Z"
        },
        "papermill": {
          "duration": 0.273841,
          "end_time": "2021-04-19T20:15:10.590767",
          "exception": false,
          "start_time": "2021-04-19T20:15:10.316926",
          "status": "completed"
        },
        "tags": [],
        "id": "regular-living"
      },
      "outputs": [],
      "source": [
        "dataset = dataset[dataset.x != 0]\n",
        "dataset = dataset[dataset.y != 0]\n",
        "dataset = dataset[dataset.z != 0]"
      ]
    },
    {
      "cell_type": "code",
      "execution_count": null,
      "id": "annual-potter",
      "metadata": {
        "execution": {
          "iopub.execute_input": "2021-04-19T20:15:11.101534Z",
          "iopub.status.busy": "2021-04-19T20:15:11.100504Z",
          "iopub.status.idle": "2021-04-19T20:15:11.106430Z",
          "shell.execute_reply": "2021-04-19T20:15:11.105612Z"
        },
        "papermill": {
          "duration": 0.262702,
          "end_time": "2021-04-19T20:15:11.106572",
          "exception": false,
          "start_time": "2021-04-19T20:15:10.843870",
          "status": "completed"
        },
        "tags": [],
        "id": "annual-potter"
      },
      "outputs": [],
      "source": [
        "(dataset['x'] == 0).sum().sum()"
      ]
    },
    {
      "cell_type": "code",
      "execution_count": null,
      "id": "coordinate-coast",
      "metadata": {
        "execution": {
          "iopub.execute_input": "2021-04-19T20:15:11.616375Z",
          "iopub.status.busy": "2021-04-19T20:15:11.615147Z",
          "iopub.status.idle": "2021-04-19T20:15:11.619377Z",
          "shell.execute_reply": "2021-04-19T20:15:11.619846Z"
        },
        "papermill": {
          "duration": 0.264602,
          "end_time": "2021-04-19T20:15:11.620018",
          "exception": false,
          "start_time": "2021-04-19T20:15:11.355416",
          "status": "completed"
        },
        "tags": [],
        "id": "coordinate-coast"
      },
      "outputs": [],
      "source": [
        "(dataset['y'] == 0).sum().sum()"
      ]
    },
    {
      "cell_type": "code",
      "execution_count": null,
      "id": "quiet-milan",
      "metadata": {
        "execution": {
          "iopub.execute_input": "2021-04-19T20:15:12.124348Z",
          "iopub.status.busy": "2021-04-19T20:15:12.123393Z",
          "iopub.status.idle": "2021-04-19T20:15:12.129040Z",
          "shell.execute_reply": "2021-04-19T20:15:12.129529Z"
        },
        "papermill": {
          "duration": 0.262247,
          "end_time": "2021-04-19T20:15:12.129702",
          "exception": false,
          "start_time": "2021-04-19T20:15:11.867455",
          "status": "completed"
        },
        "tags": [],
        "id": "quiet-milan"
      },
      "outputs": [],
      "source": [
        "(dataset['z'] == 0).sum().sum()"
      ]
    },
    {
      "cell_type": "markdown",
      "id": "interracial-debut",
      "metadata": {
        "papermill": {
          "duration": 0.260183,
          "end_time": "2021-04-19T20:15:29.828291",
          "exception": false,
          "start_time": "2021-04-19T20:15:29.568108",
          "status": "completed"
        },
        "tags": [],
        "id": "interracial-debut"
      },
      "source": [
        "<a id = \"25\"></a>\n",
        "# Correlación"
      ]
    },
    {
      "cell_type": "code",
      "execution_count": null,
      "id": "broken-johnston",
      "metadata": {
        "execution": {
          "iopub.execute_input": "2021-04-19T20:15:30.361477Z",
          "iopub.status.busy": "2021-04-19T20:15:30.360465Z",
          "iopub.status.idle": "2021-04-19T20:15:30.792043Z",
          "shell.execute_reply": "2021-04-19T20:15:30.791538Z"
        },
        "papermill": {
          "duration": 0.701313,
          "end_time": "2021-04-19T20:15:30.792190",
          "exception": false,
          "start_time": "2021-04-19T20:15:30.090877",
          "status": "completed"
        },
        "tags": [],
        "id": "broken-johnston"
      },
      "outputs": [],
      "source": [
        "plt.figure(figsize=(12,8))\n",
        "sns.heatmap(dataset.corr(), annot=True, cmap='Dark2_r', linewidths = 2)\n",
        "plt.show()"
      ]
    },
    {
      "cell_type": "markdown",
      "id": "spectacular-enterprise",
      "metadata": {
        "papermill": {
          "duration": 0.259146,
          "end_time": "2021-04-19T20:15:31.313776",
          "exception": false,
          "start_time": "2021-04-19T20:15:31.054630",
          "status": "completed"
        },
        "tags": [],
        "id": "spectacular-enterprise"
      },
      "source": [
        "<a id = \"26\"></a>\n",
        "# One-Hot Encoding"
      ]
    },
    {
      "cell_type": "markdown",
      "id": "exclusive-principal",
      "metadata": {
        "papermill": {
          "duration": 0.259,
          "end_time": "2021-04-19T20:15:31.830637",
          "exception": false,
          "start_time": "2021-04-19T20:15:31.571637",
          "status": "completed"
        },
        "tags": [],
        "id": "exclusive-principal"
      },
      "source": [
        "Hay más de 2 valores únicos para cada característica. Por lo tanto, la codificación One-Hot será más útil que la codificación de etiquetas. La codificación de etiquetas puede ser causa de sobreajuste."
      ]
    },
    {
      "cell_type": "code",
      "execution_count": null,
      "id": "lightweight-combination",
      "metadata": {
        "execution": {
          "iopub.execute_input": "2021-04-19T20:15:32.356283Z",
          "iopub.status.busy": "2021-04-19T20:15:32.355650Z",
          "iopub.status.idle": "2021-04-19T20:15:32.373353Z",
          "shell.execute_reply": "2021-04-19T20:15:32.374170Z"
        },
        "papermill": {
          "duration": 0.283039,
          "end_time": "2021-04-19T20:15:32.374426",
          "exception": false,
          "start_time": "2021-04-19T20:15:32.091387",
          "status": "completed"
        },
        "tags": [],
        "id": "lightweight-combination"
      },
      "outputs": [],
      "source": [
        "cat_var =  ['cut', 'color', 'clarity']\n",
        "\n",
        "for i in range (0, len(cat_var)):\n",
        "    print(f'Unique Values for {cat_var[i]}', dataset[f'{cat_var[i]}'].unique())"
      ]
    },
    {
      "cell_type": "code",
      "execution_count": 129,
      "id": "dried-property",
      "metadata": {
        "execution": {
          "iopub.execute_input": "2021-04-19T20:15:32.905918Z",
          "iopub.status.busy": "2021-04-19T20:15:32.905265Z",
          "iopub.status.idle": "2021-04-19T20:15:32.910521Z",
          "shell.execute_reply": "2021-04-19T20:15:32.909919Z"
        },
        "papermill": {
          "duration": 0.269473,
          "end_time": "2021-04-19T20:15:32.910657",
          "exception": false,
          "start_time": "2021-04-19T20:15:32.641184",
          "status": "completed"
        },
        "tags": [],
        "id": "dried-property"
      },
      "outputs": [],
      "source": [
        "onehotencoder = OneHotEncoder()"
      ]
    },
    {
      "cell_type": "code",
      "execution_count": 130,
      "id": "offensive-visibility",
      "metadata": {
        "execution": {
          "iopub.execute_input": "2021-04-19T20:15:33.445368Z",
          "iopub.status.busy": "2021-04-19T20:15:33.444220Z",
          "iopub.status.idle": "2021-04-19T20:15:33.484132Z",
          "shell.execute_reply": "2021-04-19T20:15:33.483597Z"
        },
        "papermill": {
          "duration": 0.306037,
          "end_time": "2021-04-19T20:15:33.484290",
          "exception": false,
          "start_time": "2021-04-19T20:15:33.178253",
          "status": "completed"
        },
        "tags": [],
        "id": "offensive-visibility"
      },
      "outputs": [],
      "source": [
        "one_hot = ['cut', 'color', 'clarity']\n",
        "\n",
        "for i in range(0, len(one_hot)):\n",
        "    dataset[f'{one_hot[i]}'] = pd.Categorical(dataset[f'{one_hot[i]}'])\n",
        "    dummies = pd.get_dummies(dataset[f'{one_hot[i]}'], prefix = f'{one_hot[i]}_encoded')\n",
        "    dataset.drop([f'{one_hot[i]}'], axis=1, inplace=True)\n",
        "    dataset = pd.concat([dataset, dummies], axis=1)"
      ]
    },
    {
      "cell_type": "code",
      "execution_count": null,
      "id": "positive-karaoke",
      "metadata": {
        "execution": {
          "iopub.execute_input": "2021-04-19T20:15:34.014924Z",
          "iopub.status.busy": "2021-04-19T20:15:34.014263Z",
          "iopub.status.idle": "2021-04-19T20:15:34.048469Z",
          "shell.execute_reply": "2021-04-19T20:15:34.047942Z"
        },
        "papermill": {
          "duration": 0.304637,
          "end_time": "2021-04-19T20:15:34.048618",
          "exception": false,
          "start_time": "2021-04-19T20:15:33.743981",
          "status": "completed"
        },
        "tags": [],
        "id": "positive-karaoke"
      },
      "outputs": [],
      "source": [
        "dataset"
      ]
    },
    {
      "cell_type": "code",
      "execution_count": null,
      "id": "infrared-hollywood",
      "metadata": {
        "execution": {
          "iopub.execute_input": "2021-04-19T20:15:34.586734Z",
          "iopub.status.busy": "2021-04-19T20:15:34.586111Z",
          "iopub.status.idle": "2021-04-19T20:15:35.552846Z",
          "shell.execute_reply": "2021-04-19T20:15:35.553292Z"
        },
        "papermill": {
          "duration": 1.235838,
          "end_time": "2021-04-19T20:15:35.553470",
          "exception": false,
          "start_time": "2021-04-19T20:15:34.317632",
          "status": "completed"
        },
        "tags": [],
        "id": "infrared-hollywood"
      },
      "outputs": [],
      "source": [
        "plt.figure(figsize=(12,8))\n",
        "sns.heatmap(dataset.corr(), annot=False, cmap='Dark2_r', linewidths = 2)\n",
        "plt.show()"
      ]
    },
    {
      "cell_type": "markdown",
      "id": "advised-arthritis",
      "metadata": {
        "papermill": {
          "duration": 0.26386,
          "end_time": "2021-04-19T20:15:36.080765",
          "exception": false,
          "start_time": "2021-04-19T20:15:35.816905",
          "status": "completed"
        },
        "tags": [],
        "id": "advised-arthritis"
      },
      "source": [
        "<a id = \"27\"></a>\n",
        "# Train-Test Split"
      ]
    },
    {
      "cell_type": "code",
      "execution_count": 133,
      "id": "centered-maryland",
      "metadata": {
        "execution": {
          "iopub.execute_input": "2021-04-19T20:15:36.614864Z",
          "iopub.status.busy": "2021-04-19T20:15:36.613914Z",
          "iopub.status.idle": "2021-04-19T20:15:36.621139Z",
          "shell.execute_reply": "2021-04-19T20:15:36.621627Z"
        },
        "papermill": {
          "duration": 0.275532,
          "end_time": "2021-04-19T20:15:36.621789",
          "exception": false,
          "start_time": "2021-04-19T20:15:36.346257",
          "status": "completed"
        },
        "tags": [],
        "id": "centered-maryland"
      },
      "outputs": [],
      "source": [
        "X = dataset.drop([\"price\"],axis =1)\n",
        "y = dataset[\"price\"]"
      ]
    },
    {
      "cell_type": "code",
      "execution_count": null,
      "id": "swiss-begin",
      "metadata": {
        "execution": {
          "iopub.execute_input": "2021-04-19T20:15:37.158900Z",
          "iopub.status.busy": "2021-04-19T20:15:37.157946Z",
          "iopub.status.idle": "2021-04-19T20:15:37.179585Z",
          "shell.execute_reply": "2021-04-19T20:15:37.179094Z"
        },
        "papermill": {
          "duration": 0.292897,
          "end_time": "2021-04-19T20:15:37.179737",
          "exception": false,
          "start_time": "2021-04-19T20:15:36.886840",
          "status": "completed"
        },
        "tags": [],
        "id": "swiss-begin"
      },
      "outputs": [],
      "source": [
        "X_train, X_test, y_train, y_test = train_test_split(X, y, test_size = 0.33, random_state = 101)\n",
        "\n",
        "print(f'Total # of sample in whole dataset: {len(X)}')\n",
        "print(f'Total # of sample in train dataset: {len(X_train)}')\n",
        "print(f'Total # of sample in test dataset: {len(X_test)}')"
      ]
    },
    {
      "cell_type": "code",
      "execution_count": 135,
      "id": "blocked-orientation",
      "metadata": {
        "execution": {
          "iopub.execute_input": "2021-04-19T20:15:37.717502Z",
          "iopub.status.busy": "2021-04-19T20:15:37.716268Z",
          "iopub.status.idle": "2021-04-19T20:15:37.744922Z",
          "shell.execute_reply": "2021-04-19T20:15:37.744263Z"
        },
        "papermill": {
          "duration": 0.301468,
          "end_time": "2021-04-19T20:15:37.745061",
          "exception": false,
          "start_time": "2021-04-19T20:15:37.443593",
          "status": "completed"
        },
        "tags": [],
        "id": "blocked-orientation"
      },
      "outputs": [],
      "source": [
        "sc=StandardScaler()\n",
        "\n",
        "X_train = sc.fit_transform(X_train)\n",
        "X_test = sc.transform(X_test)"
      ]
    },
    {
      "cell_type": "markdown",
      "id": "sunset-offering",
      "metadata": {
        "papermill": {
          "duration": 0.266134,
          "end_time": "2021-04-19T20:15:38.278228",
          "exception": false,
          "start_time": "2021-04-19T20:15:38.012094",
          "status": "completed"
        },
        "tags": [],
        "id": "sunset-offering"
      },
      "source": [
        "<a id = \"28\"></a>\n",
        "# Regresión Lineal"
      ]
    },
    {
      "cell_type": "markdown",
      "id": "cloudy-incentive",
      "metadata": {
        "papermill": {
          "duration": 0.264561,
          "end_time": "2021-04-19T20:15:38.808440",
          "exception": false,
          "start_time": "2021-04-19T20:15:38.543879",
          "status": "completed"
        },
        "tags": [],
        "id": "cloudy-incentive"
      },
      "source": [
        "<a id = \"29\"></a>\n",
        "## Optimización de Hyper-Parameter"
      ]
    },
    {
      "cell_type": "code",
      "execution_count": null,
      "id": "unsigned-animation",
      "metadata": {
        "execution": {
          "iopub.execute_input": "2021-04-19T20:15:39.346730Z",
          "iopub.status.busy": "2021-04-19T20:15:39.345991Z",
          "iopub.status.idle": "2021-04-19T20:15:39.350288Z",
          "shell.execute_reply": "2021-04-19T20:15:39.349680Z"
        },
        "papermill": {
          "duration": 0.275909,
          "end_time": "2021-04-19T20:15:39.350421",
          "exception": false,
          "start_time": "2021-04-19T20:15:39.074512",
          "status": "completed"
        },
        "tags": [],
        "id": "unsigned-animation"
      },
      "outputs": [],
      "source": [
        "LinearRegression().get_params().keys()"
      ]
    },
    {
      "cell_type": "code",
      "source": [
        "\n",
        "\n",
        "# Definir parámetros\n",
        "parameters = {\n",
        "    'fit_intercept': [True, False],\n",
        "    'copy_X': [True, False],\n",
        "    'positive': [True, False],\n",
        "}\n",
        "\n",
        "# Crear el modelo de regresión lineal\n",
        "model = LinearRegression()\n",
        "\n",
        "# Realizar la búsqueda de hiperparámetros\n",
        "gcv = GridSearchCV(model, parameters, cv=15, verbose=1, n_jobs=-1).fit(X_train, y_train)\n",
        "#\n",
        "print(f'GridSearchView Best Score: {gcv.best_score_*100}')\n",
        "print(f'GridSearchView Best Estimator: {gcv.best_estimator_}')\n",
        "print(f'GridSearchView Best Params: {gcv.best_params_}')\n"
      ],
      "metadata": {
        "id": "qtYjfrnc740S"
      },
      "id": "qtYjfrnc740S",
      "execution_count": null,
      "outputs": []
    },
    {
      "cell_type": "markdown",
      "id": "happy-booking",
      "metadata": {
        "papermill": {
          "duration": 0.268126,
          "end_time": "2021-04-19T20:15:46.727293",
          "exception": false,
          "start_time": "2021-04-19T20:15:46.459167",
          "status": "completed"
        },
        "tags": [],
        "id": "happy-booking"
      },
      "source": [
        "<a id = \"30\"></a>\n",
        "## Modelo"
      ]
    },
    {
      "cell_type": "code",
      "execution_count": null,
      "id": "south-concrete",
      "metadata": {
        "execution": {
          "iopub.execute_input": "2021-04-19T20:15:47.274253Z",
          "iopub.status.busy": "2021-04-19T20:15:47.273547Z",
          "iopub.status.idle": "2021-04-19T20:15:47.354160Z",
          "shell.execute_reply": "2021-04-19T20:15:47.355053Z"
        },
        "papermill": {
          "duration": 0.358598,
          "end_time": "2021-04-19T20:15:47.355338",
          "exception": false,
          "start_time": "2021-04-19T20:15:46.996740",
          "status": "completed"
        },
        "tags": [],
        "id": "south-concrete"
      },
      "outputs": [],
      "source": [
        "model = LinearRegression(copy_X=True, fit_intercept=True, positive=True, n_jobs = -1)\n",
        "model.fit(X_train, y_train)\n",
        "pred = model.predict(X_test)\n",
        "\n",
        "train_score = model.score(X_train, y_train)\n",
        "print(f'Train score of trained model: {train_score*100}')\n",
        "\n",
        "test_score = model.score(X_test, y_test)\n",
        "print(f'Test score of trained model: {test_score*100}')"
      ]
    },
    {
      "cell_type": "code",
      "execution_count": null,
      "id": "operational-observation",
      "metadata": {
        "execution": {
          "iopub.execute_input": "2021-04-19T20:15:47.969021Z",
          "iopub.status.busy": "2021-04-19T20:15:47.966943Z",
          "iopub.status.idle": "2021-04-19T20:15:49.806640Z",
          "shell.execute_reply": "2021-04-19T20:15:49.806006Z"
        },
        "papermill": {
          "duration": 2.131517,
          "end_time": "2021-04-19T20:15:49.806795",
          "exception": false,
          "start_time": "2021-04-19T20:15:47.675278",
          "status": "completed"
        },
        "tags": [],
        "id": "operational-observation"
      },
      "outputs": [],
      "source": [
        "sns.set_theme(style=\"white\")\n",
        "sns.jointplot(x=y_test, y=pred, kind='reg', line_kws={\"color\": \"red\"})"
      ]
    },
    {
      "cell_type": "markdown",
      "id": "stone-minnesota",
      "metadata": {
        "papermill": {
          "duration": 0.268518,
          "end_time": "2021-04-19T20:15:50.347236",
          "exception": false,
          "start_time": "2021-04-19T20:15:50.078718",
          "status": "completed"
        },
        "tags": [],
        "id": "stone-minnesota"
      },
      "source": [
        "<a id = \"31\"></a>\n",
        "## Métricas de Evaluación"
      ]
    },
    {
      "cell_type": "markdown",
      "id": "abroad-alfred",
      "metadata": {
        "papermill": {
          "duration": 0.269692,
          "end_time": "2021-04-19T20:15:51.466987",
          "exception": false,
          "start_time": "2021-04-19T20:15:51.197295",
          "status": "completed"
        },
        "tags": [],
        "id": "abroad-alfred"
      },
      "source": [
        "<a id = \"32\"></a>\n",
        "### Varianza explicada\n",
        "Función de puntuación de regresión de varianza explicada.\n",
        "\n",
        "La mejor puntuación posible es 1,0; los valores más bajos son peores.\n",
        "\n",
        "Si \\hat{y} es el resultado objetivo estimado, y el resultado objetivo correspondiente (correcto) y Var es la varianza, el cuadrado de la desviación estándar, entonces la varianza explicada se estima de la siguiente manera:"
      ]
    },
    {
      "cell_type": "markdown",
      "id": "becoming-reverse",
      "metadata": {
        "papermill": {
          "duration": 0.265915,
          "end_time": "2021-04-19T20:15:52.001150",
          "exception": false,
          "start_time": "2021-04-19T20:15:51.735235",
          "status": "completed"
        },
        "tags": [],
        "id": "becoming-reverse"
      },
      "source": [
        "<math xmlns=\"http://www.w3.org/1998/Math/MathML\" display=\"block\">\n",
        "  <mi>e</mi>\n",
        "  <mi>x</mi>\n",
        "  <mi>p</mi>\n",
        "  <mi>l</mi>\n",
        "  <mi>a</mi>\n",
        "  <mi>i</mi>\n",
        "  <mi>n</mi>\n",
        "  <mi>e</mi>\n",
        "  <mi>d</mi>\n",
        "  <mi mathvariant=\"normal\">_</mi>\n",
        "  <mrow></mrow>\n",
        "  <mi>v</mi>\n",
        "  <mi>a</mi>\n",
        "  <mi>r</mi>\n",
        "  <mi>i</mi>\n",
        "  <mi>a</mi>\n",
        "  <mi>n</mi>\n",
        "  <mi>c</mi>\n",
        "  <mi>e</mi>\n",
        "  <mo stretchy=\"false\">(</mo>\n",
        "  <mi>y</mi>\n",
        "  <mo>,</mo>\n",
        "  <mrow>\n",
        "    <mover>\n",
        "      <mi>y</mi>\n",
        "      <mo stretchy=\"false\">^</mo>\n",
        "    </mover>\n",
        "  </mrow>\n",
        "  <mo stretchy=\"false\">)</mo>\n",
        "  <mo>=</mo>\n",
        "  <mn>1</mn>\n",
        "  <mo>&#x2212;</mo>\n",
        "  <mfrac>\n",
        "    <mrow>\n",
        "      <mi>V</mi>\n",
        "      <mi>a</mi>\n",
        "      <mi>r</mi>\n",
        "      <mo fence=\"false\" stretchy=\"false\">{</mo>\n",
        "      <mi>y</mi>\n",
        "      <mo>&#x2212;</mo>\n",
        "      <mrow>\n",
        "        <mover>\n",
        "          <mi>y</mi>\n",
        "          <mo stretchy=\"false\">^</mo>\n",
        "        </mover>\n",
        "      </mrow>\n",
        "      <mo fence=\"false\" stretchy=\"false\">}</mo>\n",
        "    </mrow>\n",
        "    <mrow>\n",
        "      <mi>V</mi>\n",
        "      <mi>a</mi>\n",
        "      <mi>r</mi>\n",
        "      <mo fence=\"false\" stretchy=\"false\">{</mo>\n",
        "      <mi>y</mi>\n",
        "      <mo fence=\"false\" stretchy=\"false\">}</mo>\n",
        "    </mrow>\n",
        "  </mfrac>\n",
        "</math>"
      ]
    },
    {
      "cell_type": "code",
      "execution_count": null,
      "id": "authentic-ensemble",
      "metadata": {
        "execution": {
          "iopub.execute_input": "2021-04-19T20:15:52.541096Z",
          "iopub.status.busy": "2021-04-19T20:15:52.540452Z",
          "iopub.status.idle": "2021-04-19T20:15:52.546059Z",
          "shell.execute_reply": "2021-04-19T20:15:52.545179Z"
        },
        "papermill": {
          "duration": 0.276819,
          "end_time": "2021-04-19T20:15:52.546299",
          "exception": false,
          "start_time": "2021-04-19T20:15:52.269480",
          "status": "completed"
        },
        "tags": [],
        "id": "authentic-ensemble"
      },
      "outputs": [],
      "source": [
        "print(\"Explained Variance:\",metrics.explained_variance_score(y_test, pred))"
      ]
    },
    {
      "cell_type": "markdown",
      "id": "assumed-anderson",
      "metadata": {
        "papermill": {
          "duration": 0.266735,
          "end_time": "2021-04-19T20:15:53.080358",
          "exception": false,
          "start_time": "2021-04-19T20:15:52.813623",
          "status": "completed"
        },
        "tags": [],
        "id": "assumed-anderson"
      },
      "source": [
        "<a id = \"33\"></a>\n",
        "### Error máximo\n",
        "\n",
        "La función max_error calcula el error residual máximo, una métrica que captura el peor de los casos entre el valor previsto y el valor real. En un modelo de regresión de salida única perfectamente ajustado, max_error sería 0 en el conjunto de entrenamiento y, aunque esto sería muy poco probable en el mundo real, esta métrica muestra el grado de error que tuvo el modelo cuando se ajustó.\n",
        "\n",
        "Si yi es el valor predicho de la i-ésima muestra y yi es el valor verdadero correspondiente, entonces el error máximo se define como:"
      ]
    },
    {
      "cell_type": "markdown",
      "id": "departmental-style",
      "metadata": {
        "papermill": {
          "duration": 0.320294,
          "end_time": "2021-04-19T20:15:53.675613",
          "exception": false,
          "start_time": "2021-04-19T20:15:53.355319",
          "status": "completed"
        },
        "tags": [],
        "id": "departmental-style"
      },
      "source": [
        "<math xmlns=\"http://www.w3.org/1998/Math/MathML\" display=\"block\">\n",
        "  <mtext>Max Error</mtext>\n",
        "  <mo stretchy=\"false\">(</mo>\n",
        "  <mi>y</mi>\n",
        "  <mo>,</mo>\n",
        "  <mrow>\n",
        "    <mover>\n",
        "      <mi>y</mi>\n",
        "      <mo stretchy=\"false\">^</mo>\n",
        "    </mover>\n",
        "  </mrow>\n",
        "  <mo stretchy=\"false\">)</mo>\n",
        "  <mo>=</mo>\n",
        "  <mi>m</mi>\n",
        "  <mi>a</mi>\n",
        "  <mi>x</mi>\n",
        "  <mo stretchy=\"false\">(</mo>\n",
        "  <mrow>\n",
        "    <mo stretchy=\"false\">|</mo>\n",
        "  </mrow>\n",
        "  <msub>\n",
        "    <mi>y</mi>\n",
        "    <mi>i</mi>\n",
        "  </msub>\n",
        "  <mo>&#x2212;</mo>\n",
        "  <msub>\n",
        "    <mrow>\n",
        "      <mover>\n",
        "        <mi>y</mi>\n",
        "        <mo stretchy=\"false\">^</mo>\n",
        "      </mover>\n",
        "    </mrow>\n",
        "    <mi>i</mi>\n",
        "  </msub>\n",
        "  <mrow>\n",
        "    <mo stretchy=\"false\">|</mo>\n",
        "  </mrow>\n",
        "  <mo stretchy=\"false\">)</mo>\n",
        "</math>"
      ]
    },
    {
      "cell_type": "code",
      "execution_count": null,
      "id": "located-boards",
      "metadata": {
        "execution": {
          "iopub.execute_input": "2021-04-19T20:15:54.238621Z",
          "iopub.status.busy": "2021-04-19T20:15:54.238033Z",
          "iopub.status.idle": "2021-04-19T20:15:54.242694Z",
          "shell.execute_reply": "2021-04-19T20:15:54.243621Z"
        },
        "papermill": {
          "duration": 0.288955,
          "end_time": "2021-04-19T20:15:54.243912",
          "exception": false,
          "start_time": "2021-04-19T20:15:53.954957",
          "status": "completed"
        },
        "tags": [],
        "id": "located-boards"
      },
      "outputs": [],
      "source": [
        "print(\"Max Error:\",metrics.max_error(y_test, pred))"
      ]
    },
    {
      "cell_type": "markdown",
      "id": "aggregate-continuity",
      "metadata": {
        "papermill": {
          "duration": 0.268917,
          "end_time": "2021-04-19T20:15:54.797771",
          "exception": false,
          "start_time": "2021-04-19T20:15:54.528854",
          "status": "completed"
        },
        "tags": [],
        "id": "aggregate-continuity"
      },
      "source": [
        "<a id = \"34\"></a>\n",
        "### Error Cuadrático Medio"
      ]
    },
    {
      "cell_type": "markdown",
      "id": "informal-evidence",
      "metadata": {
        "papermill": {
          "duration": 0.283445,
          "end_time": "2021-04-19T20:15:55.357192",
          "exception": false,
          "start_time": "2021-04-19T20:15:55.073747",
          "status": "completed"
        },
        "tags": [],
        "id": "informal-evidence"
      },
      "source": [
        "El error cuadrático medio (MSE) es la función de pérdida de regresión más utilizada. MSE es la pérdida promedio de fotogramas por muestra en todo el conjunto de datos. Para calcular el MSE, sume todas las pérdidas de cuadros para muestras individuales y luego divida por el número de muestras."
      ]
    },
    {
      "cell_type": "code",
      "execution_count": null,
      "id": "satisfactory-pepper",
      "metadata": {
        "execution": {
          "iopub.execute_input": "2021-04-19T20:15:57.090296Z",
          "iopub.status.busy": "2021-04-19T20:15:57.089225Z",
          "iopub.status.idle": "2021-04-19T20:15:57.094098Z",
          "shell.execute_reply": "2021-04-19T20:15:57.093355Z"
        },
        "papermill": {
          "duration": 0.294153,
          "end_time": "2021-04-19T20:15:57.094258",
          "exception": false,
          "start_time": "2021-04-19T20:15:56.800105",
          "status": "completed"
        },
        "tags": [],
        "id": "satisfactory-pepper"
      },
      "outputs": [],
      "source": [
        "print(\"Mean Squared Error:\",metrics.mean_squared_error(y_test, pred))"
      ]
    },
    {
      "cell_type": "markdown",
      "id": "surrounded-hungarian",
      "metadata": {
        "papermill": {
          "duration": 0.269441,
          "end_time": "2021-04-19T20:15:57.668569",
          "exception": false,
          "start_time": "2021-04-19T20:15:57.399128",
          "status": "completed"
        },
        "tags": [],
        "id": "surrounded-hungarian"
      },
      "source": [
        "<a id = \"35\"></a>\n",
        "### Error Absoluto Medio"
      ]
    },
    {
      "cell_type": "markdown",
      "id": "assumed-newfoundland",
      "metadata": {
        "papermill": {
          "duration": 0.277831,
          "end_time": "2021-04-19T20:15:58.223188",
          "exception": false,
          "start_time": "2021-04-19T20:15:57.945357",
          "status": "completed"
        },
        "tags": [],
        "id": "assumed-newfoundland"
      },
      "source": [
        "El error absoluto es la diferencia entre los valores estimados y los valores reales. Para ser exactos, es la media del valor absoluto de cada diferencia entre el valor real y el valor previsto para esa muestra en toda la muestra del conjunto de datos."
      ]
    },
    {
      "cell_type": "code",
      "execution_count": null,
      "id": "theoretical-greek",
      "metadata": {
        "execution": {
          "iopub.execute_input": "2021-04-19T20:15:59.864708Z",
          "iopub.status.busy": "2021-04-19T20:15:59.863668Z",
          "iopub.status.idle": "2021-04-19T20:15:59.870659Z",
          "shell.execute_reply": "2021-04-19T20:15:59.870178Z"
        },
        "papermill": {
          "duration": 0.289697,
          "end_time": "2021-04-19T20:15:59.870843",
          "exception": false,
          "start_time": "2021-04-19T20:15:59.581146",
          "status": "completed"
        },
        "tags": [],
        "id": "theoretical-greek"
      },
      "outputs": [],
      "source": [
        "print(\"Mean Absolute Error:\",metrics.mean_absolute_error(y_test, pred))"
      ]
    },
    {
      "cell_type": "markdown",
      "id": "joined-island",
      "metadata": {
        "papermill": {
          "duration": 0.268201,
          "end_time": "2021-04-19T20:16:00.417802",
          "exception": false,
          "start_time": "2021-04-19T20:16:00.149601",
          "status": "completed"
        },
        "tags": [],
        "id": "joined-island"
      },
      "source": [
        "<a id = \"36\"></a>\n",
        "### Porcentaje de Error Absoluto Medio"
      ]
    },
    {
      "cell_type": "markdown",
      "id": "absent-favor",
      "metadata": {
        "papermill": {
          "duration": 0.27199,
          "end_time": "2021-04-19T20:16:00.959192",
          "exception": false,
          "start_time": "2021-04-19T20:16:00.687202",
          "status": "completed"
        },
        "tags": [],
        "id": "absent-favor"
      },
      "source": [
        "En los modelos de regresión y de series de tiempo, el error porcentual absoluto medio se utiliza con frecuencia para medir la precisión de las predicciones. Si entre los valores reales hay cero, el MAPE no se puede calcular ya que habrá división por cero. El error porcentual no puede exceder el 100% para valores predictivos muy bajos, pero no existe un límite superior para el error porcentual para valores predictivos muy altos. Cuando se utiliza MAPE para comparar la precisión de los estimadores, está sesgado ya que selecciona sistemáticamente un método que es demasiado bajo para las estimaciones. Este pequeño pero grave problema se puede superar con un criterio de precisión que encuentre la relación entre los valores predichos y sus valores verdaderos. Este enfoque conduce a estimaciones que pueden interpretarse en términos de la media geométrica."
      ]
    },
    {
      "cell_type": "code",
      "execution_count": null,
      "id": "miniature-invite",
      "metadata": {
        "execution": {
          "iopub.execute_input": "2021-04-19T20:16:02.111735Z",
          "iopub.status.busy": "2021-04-19T20:16:02.110784Z",
          "iopub.status.idle": "2021-04-19T20:16:02.118034Z",
          "shell.execute_reply": "2021-04-19T20:16:02.118647Z"
        },
        "papermill": {
          "duration": 0.282348,
          "end_time": "2021-04-19T20:16:02.118855",
          "exception": false,
          "start_time": "2021-04-19T20:16:01.836507",
          "status": "completed"
        },
        "tags": [],
        "id": "miniature-invite"
      },
      "outputs": [],
      "source": [
        "print(\"Mean Absolute Percentage Error:\",metrics.mean_absolute_percentage_error(y_test, pred))"
      ]
    },
    {
      "cell_type": "markdown",
      "id": "global-aurora",
      "metadata": {
        "papermill": {
          "duration": 0.269258,
          "end_time": "2021-04-19T20:16:02.663743",
          "exception": false,
          "start_time": "2021-04-19T20:16:02.394485",
          "status": "completed"
        },
        "tags": [],
        "id": "global-aurora"
      },
      "source": [
        "<a id = \"37\"></a>\n",
        "### Error Mediana Absoluto"
      ]
    },
    {
      "cell_type": "markdown",
      "id": "unnecessary-salem",
      "metadata": {
        "papermill": {
          "duration": 0.271196,
          "end_time": "2021-04-19T20:16:03.204166",
          "exception": false,
          "start_time": "2021-04-19T20:16:02.932970",
          "status": "completed"
        },
        "tags": [],
        "id": "unnecessary-salem"
      },
      "source": [
        "El mediana_absolute_error es particularmente interesante porque es robusto ante valores atípicos. La pérdida se calcula tomando la mediana de todas las diferencias absolutas entre el objetivo y la predicción.\n",
        "\n",
        "* Pérdida media de regresión por error absoluto.\n",
        "\n",
        "* La salida del error absoluto medio es punto flotante no negativo. El mejor valor es 0,0."
      ]
    },
    {
      "cell_type": "code",
      "execution_count": null,
      "id": "corrected-hierarchy",
      "metadata": {
        "execution": {
          "iopub.execute_input": "2021-04-19T20:16:04.293600Z",
          "iopub.status.busy": "2021-04-19T20:16:04.292788Z",
          "iopub.status.idle": "2021-04-19T20:16:04.298498Z",
          "shell.execute_reply": "2021-04-19T20:16:04.297752Z"
        },
        "papermill": {
          "duration": 0.284199,
          "end_time": "2021-04-19T20:16:04.298678",
          "exception": false,
          "start_time": "2021-04-19T20:16:04.014479",
          "status": "completed"
        },
        "tags": [],
        "id": "corrected-hierarchy"
      },
      "outputs": [],
      "source": [
        "print(\"Median Absolute Error:\",metrics.median_absolute_error(y_test, pred))"
      ]
    },
    {
      "cell_type": "markdown",
      "id": "thousand-tragedy",
      "metadata": {
        "papermill": {
          "duration": 0.269561,
          "end_time": "2021-04-19T20:16:04.838589",
          "exception": false,
          "start_time": "2021-04-19T20:16:04.569028",
          "status": "completed"
        },
        "tags": [],
        "id": "thousand-tragedy"
      },
      "source": [
        "<a id = \"38\"></a>\n",
        "### R cuadrado"
      ]
    },
    {
      "cell_type": "markdown",
      "id": "virgin-functionality",
      "metadata": {
        "papermill": {
          "duration": 0.273981,
          "end_time": "2021-04-19T20:16:05.389201",
          "exception": false,
          "start_time": "2021-04-19T20:16:05.115220",
          "status": "completed"
        },
        "tags": [],
        "id": "virgin-functionality"
      },
      "source": [
        "R² es una medida estadística de qué tan cerca están los datos de la línea de regresión ajustada. También se le conoce como coeficiente de determinación o coeficiente de determinación múltiple para regresión múltiple. Para decirlo en un lenguaje más sencillo, R-cuadrado es una medida de ajuste para modelos de regresión lineal."
      ]
    },
    {
      "cell_type": "code",
      "execution_count": null,
      "id": "black-married",
      "metadata": {
        "execution": {
          "iopub.execute_input": "2021-04-19T20:16:07.102569Z",
          "iopub.status.busy": "2021-04-19T20:16:07.101763Z",
          "iopub.status.idle": "2021-04-19T20:16:07.108109Z",
          "shell.execute_reply": "2021-04-19T20:16:07.107376Z"
        },
        "papermill": {
          "duration": 0.368584,
          "end_time": "2021-04-19T20:16:07.108323",
          "exception": false,
          "start_time": "2021-04-19T20:16:06.739739",
          "status": "completed"
        },
        "tags": [],
        "id": "black-married"
      },
      "outputs": [],
      "source": [
        "print(\"R^2:\",metrics.r2_score(y_test, pred))"
      ]
    },
    {
      "cell_type": "markdown",
      "id": "varying-occasion",
      "metadata": {
        "papermill": {
          "duration": 0.273315,
          "end_time": "2021-04-19T20:16:07.661225",
          "exception": false,
          "start_time": "2021-04-19T20:16:07.387910",
          "status": "completed"
        },
        "tags": [],
        "id": "varying-occasion"
      },
      "source": [
        "<a id = \"39\"></a>\n",
        "### R Cuadrado ajustado"
      ]
    },
    {
      "cell_type": "markdown",
      "id": "chubby-template",
      "metadata": {
        "papermill": {
          "duration": 0.270553,
          "end_time": "2021-04-19T20:16:08.201085",
          "exception": false,
          "start_time": "2021-04-19T20:16:07.930532",
          "status": "completed"
        },
        "tags": [],
        "id": "chubby-template"
      },
      "source": [
        "Cada argumento adicional agregado a un modelo siempre aumenta el valor R².\n",
        "\n",
        "A medida que se agrega la variable independiente, el modelo se vuelve más complejo; cuando el modelo se vuelve complejo, se produce un \"sobreajuste\". Por tanto, el R cuadrado aumenta.\n",
        "\n",
        "El R-cuadrado ajustado entra en juego para resolver estos problemas. El R-cuadrado ajustado compensa cada variable independiente y solo aumenta cuando cada variable dada mejora el modelo por encima de lo posible."
      ]
    },
    {
      "cell_type": "code",
      "execution_count": null,
      "id": "fitted-teacher",
      "metadata": {
        "execution": {
          "iopub.execute_input": "2021-04-19T20:16:09.321365Z",
          "iopub.status.busy": "2021-04-19T20:16:09.320549Z",
          "iopub.status.idle": "2021-04-19T20:16:09.325808Z",
          "shell.execute_reply": "2021-04-19T20:16:09.325210Z"
        },
        "papermill": {
          "duration": 0.28381,
          "end_time": "2021-04-19T20:16:09.325967",
          "exception": false,
          "start_time": "2021-04-19T20:16:09.042157",
          "status": "completed"
        },
        "tags": [],
        "id": "fitted-teacher"
      },
      "outputs": [],
      "source": [
        "n=X_test.shape[0]\n",
        "p=X_test.shape[1] - 1\n",
        "R2 = metrics.r2_score(y_test, pred)\n",
        "\n",
        "adj_rsquared = 1 - (1 - R2) * ((n - 1)/(n-p-1))\n",
        "print('Adjusted R Squared: {}'.format(adj_rsquared))"
      ]
    },
    {
      "cell_type": "markdown",
      "id": "unlimited-escape",
      "metadata": {
        "papermill": {
          "duration": 0.272437,
          "end_time": "2021-04-19T20:16:09.871701",
          "exception": false,
          "start_time": "2021-04-19T20:16:09.599264",
          "status": "completed"
        },
        "tags": [],
        "id": "unlimited-escape"
      },
      "source": [
        "<a id = \"40\"></a>\n",
        "### Error cuadrático medio"
      ]
    },
    {
      "cell_type": "markdown",
      "id": "specified-photographer",
      "metadata": {
        "papermill": {
          "duration": 0.273516,
          "end_time": "2021-04-19T20:16:10.420040",
          "exception": false,
          "start_time": "2021-04-19T20:16:10.146524",
          "status": "completed"
        },
        "tags": [],
        "id": "specified-photographer"
      },
      "source": [
        "Es una métrica cuadrática que mide la magnitud del error, a menudo utilizada para encontrar la distancia entre los valores predichos del predictor y los valores reales de un modelo de aprendizaje automático. La desviación estándar de los errores de estimación del RMSE (residuos). Es decir, los residuos son una medida de qué tan lejos está la línea de regresión de los puntos de datos; RMSE es una medida de hasta qué punto se propagan estos residuos. En otras palabras, le indica qué tan densos son los datos alrededor de la línea que mejor se ajusta a los datos. El valor RMSE puede variar de 0 a infinito. Las puntuaciones orientadas negativamente, es decir, los predictores con valores más bajos, funcionan mejor. Un valor RMSE cero significa que el modelo no cometió errores. RMSE tiene la ventaja de castigar más los errores grandes, por lo que puede adaptarse mejor a algunas situaciones. RMSE evita el uso no deseado de valores absolutos en muchos cálculos matemáticos."
      ]
    },
    {
      "cell_type": "code",
      "execution_count": null,
      "id": "brief-devices",
      "metadata": {
        "execution": {
          "iopub.execute_input": "2021-04-19T20:16:11.511007Z",
          "iopub.status.busy": "2021-04-19T20:16:11.510301Z",
          "iopub.status.idle": "2021-04-19T20:16:11.513485Z",
          "shell.execute_reply": "2021-04-19T20:16:11.512881Z"
        },
        "papermill": {
          "duration": 0.281446,
          "end_time": "2021-04-19T20:16:11.513637",
          "exception": false,
          "start_time": "2021-04-19T20:16:11.232191",
          "status": "completed"
        },
        "tags": [],
        "id": "brief-devices"
      },
      "outputs": [],
      "source": [
        "print(\"Root Mean Squared Error:\",np.sqrt(metrics.mean_squared_error(y_test, pred)))"
      ]
    }
  ],
  "metadata": {
    "kernelspec": {
      "display_name": "Python 3",
      "language": "python",
      "name": "python3"
    },
    "language_info": {
      "codemirror_mode": {
        "name": "ipython",
        "version": 3
      },
      "file_extension": ".py",
      "mimetype": "text/x-python",
      "name": "python",
      "nbconvert_exporter": "python",
      "pygments_lexer": "ipython3",
      "version": "3.7.9"
    },
    "papermill": {
      "default_parameters": {},
      "duration": 138.011551,
      "end_time": "2021-04-19T20:16:14.606467",
      "environment_variables": {},
      "exception": null,
      "input_path": "__notebook__.ipynb",
      "output_path": "__notebook__.ipynb",
      "parameters": {},
      "start_time": "2021-04-19T20:13:56.594916",
      "version": "2.3.2"
    },
    "colab": {
      "provenance": []
    }
  },
  "nbformat": 4,
  "nbformat_minor": 5
}