{
  "cells": [
    {
      "cell_type": "markdown",
      "source": [
        "Ejercicio basado en https://www.kaggle.com/code/amolbhivarkar/knn-for-classification-using-scikit-learn/input?select=diabetes.csv"
      ],
      "metadata": {
        "id": "eYFTiFg3_RKN"
      }
    },
    {
      "metadata": {
        "_uuid": "e72308cb607cb6d768e7d27fccfbe2a69281874e",
        "_cell_guid": "12454ce8-38b2-418e-98ef-69f0a2e96e19",
        "id": "e57oL7CE92PH"
      },
      "cell_type": "markdown",
      "source": [
        "# CROSS VALIDATION\n",
        "\n",
        "**En este ejemplo usaremos  el algoritmo k-Vecinos más cercanos para predecir si los pacientes en el \"Conjunto de datos de diabetes de los indios Pima\" tienen diabetes o no.\n",
        "\n",
        "Comparamos el valor de K-vecinos usando una validación entrenamiento/test y luego aplicaremos Cross Validation para ver si ese valor cambia**"
      ]
    },
    {
      "metadata": {
        "_uuid": "333dc72902f9a7b163226cb187cf989768665c43",
        "_cell_guid": "059208d1-5542-4d80-9ee2-cee9a4391e78",
        "collapsed": true,
        "trusted": true,
        "id": "W6JJXWOP92PJ"
      },
      "cell_type": "code",
      "source": [
        "#Cargamos las librerías\n",
        "import numpy as np\n",
        "import pandas as pd\n",
        "import matplotlib.pyplot as plt\n",
        "plt.style.use('ggplot')"
      ],
      "execution_count": 1,
      "outputs": []
    },
    {
      "metadata": {
        "_uuid": "d15b5491570a8ec6188b77240ab334f9b68f2655",
        "_cell_guid": "0d788097-f6b8-4fca-99b4-f5102d1bbade",
        "trusted": true,
        "colab": {
          "base_uri": "https://localhost:8080/",
          "height": 206
        },
        "id": "yLGBe2zD92PK",
        "outputId": "d3cfbb0d-fd0d-412a-fe7e-5bc0da59727a"
      },
      "cell_type": "code",
      "source": [
        "#Cargamos los datos\n",
        "df = pd.read_csv('diabetes.csv')\n",
        "\n",
        "df.head()"
      ],
      "execution_count": 2,
      "outputs": [
        {
          "output_type": "execute_result",
          "data": {
            "text/plain": [
              "   Pregnancies  Glucose  BloodPressure  SkinThickness  Insulin   BMI  \\\n",
              "0            6      148             72             35        0  33.6   \n",
              "1            1       85             66             29        0  26.6   \n",
              "2            8      183             64              0        0  23.3   \n",
              "3            1       89             66             23       94  28.1   \n",
              "4            0      137             40             35      168  43.1   \n",
              "\n",
              "   DiabetesPedigreeFunction  Age  Outcome  \n",
              "0                     0.627   50        1  \n",
              "1                     0.351   31        0  \n",
              "2                     0.672   32        1  \n",
              "3                     0.167   21        0  \n",
              "4                     2.288   33        1  "
            ],
            "text/html": [
              "\n",
              "  <div id=\"df-926f26be-f074-46f8-a5a2-a980fa8ac542\" class=\"colab-df-container\">\n",
              "    <div>\n",
              "<style scoped>\n",
              "    .dataframe tbody tr th:only-of-type {\n",
              "        vertical-align: middle;\n",
              "    }\n",
              "\n",
              "    .dataframe tbody tr th {\n",
              "        vertical-align: top;\n",
              "    }\n",
              "\n",
              "    .dataframe thead th {\n",
              "        text-align: right;\n",
              "    }\n",
              "</style>\n",
              "<table border=\"1\" class=\"dataframe\">\n",
              "  <thead>\n",
              "    <tr style=\"text-align: right;\">\n",
              "      <th></th>\n",
              "      <th>Pregnancies</th>\n",
              "      <th>Glucose</th>\n",
              "      <th>BloodPressure</th>\n",
              "      <th>SkinThickness</th>\n",
              "      <th>Insulin</th>\n",
              "      <th>BMI</th>\n",
              "      <th>DiabetesPedigreeFunction</th>\n",
              "      <th>Age</th>\n",
              "      <th>Outcome</th>\n",
              "    </tr>\n",
              "  </thead>\n",
              "  <tbody>\n",
              "    <tr>\n",
              "      <th>0</th>\n",
              "      <td>6</td>\n",
              "      <td>148</td>\n",
              "      <td>72</td>\n",
              "      <td>35</td>\n",
              "      <td>0</td>\n",
              "      <td>33.6</td>\n",
              "      <td>0.627</td>\n",
              "      <td>50</td>\n",
              "      <td>1</td>\n",
              "    </tr>\n",
              "    <tr>\n",
              "      <th>1</th>\n",
              "      <td>1</td>\n",
              "      <td>85</td>\n",
              "      <td>66</td>\n",
              "      <td>29</td>\n",
              "      <td>0</td>\n",
              "      <td>26.6</td>\n",
              "      <td>0.351</td>\n",
              "      <td>31</td>\n",
              "      <td>0</td>\n",
              "    </tr>\n",
              "    <tr>\n",
              "      <th>2</th>\n",
              "      <td>8</td>\n",
              "      <td>183</td>\n",
              "      <td>64</td>\n",
              "      <td>0</td>\n",
              "      <td>0</td>\n",
              "      <td>23.3</td>\n",
              "      <td>0.672</td>\n",
              "      <td>32</td>\n",
              "      <td>1</td>\n",
              "    </tr>\n",
              "    <tr>\n",
              "      <th>3</th>\n",
              "      <td>1</td>\n",
              "      <td>89</td>\n",
              "      <td>66</td>\n",
              "      <td>23</td>\n",
              "      <td>94</td>\n",
              "      <td>28.1</td>\n",
              "      <td>0.167</td>\n",
              "      <td>21</td>\n",
              "      <td>0</td>\n",
              "    </tr>\n",
              "    <tr>\n",
              "      <th>4</th>\n",
              "      <td>0</td>\n",
              "      <td>137</td>\n",
              "      <td>40</td>\n",
              "      <td>35</td>\n",
              "      <td>168</td>\n",
              "      <td>43.1</td>\n",
              "      <td>2.288</td>\n",
              "      <td>33</td>\n",
              "      <td>1</td>\n",
              "    </tr>\n",
              "  </tbody>\n",
              "</table>\n",
              "</div>\n",
              "    <div class=\"colab-df-buttons\">\n",
              "\n",
              "  <div class=\"colab-df-container\">\n",
              "    <button class=\"colab-df-convert\" onclick=\"convertToInteractive('df-926f26be-f074-46f8-a5a2-a980fa8ac542')\"\n",
              "            title=\"Convert this dataframe to an interactive table.\"\n",
              "            style=\"display:none;\">\n",
              "\n",
              "  <svg xmlns=\"http://www.w3.org/2000/svg\" height=\"24px\" viewBox=\"0 -960 960 960\">\n",
              "    <path d=\"M120-120v-720h720v720H120Zm60-500h600v-160H180v160Zm220 220h160v-160H400v160Zm0 220h160v-160H400v160ZM180-400h160v-160H180v160Zm440 0h160v-160H620v160ZM180-180h160v-160H180v160Zm440 0h160v-160H620v160Z\"/>\n",
              "  </svg>\n",
              "    </button>\n",
              "\n",
              "  <style>\n",
              "    .colab-df-container {\n",
              "      display:flex;\n",
              "      gap: 12px;\n",
              "    }\n",
              "\n",
              "    .colab-df-convert {\n",
              "      background-color: #E8F0FE;\n",
              "      border: none;\n",
              "      border-radius: 50%;\n",
              "      cursor: pointer;\n",
              "      display: none;\n",
              "      fill: #1967D2;\n",
              "      height: 32px;\n",
              "      padding: 0 0 0 0;\n",
              "      width: 32px;\n",
              "    }\n",
              "\n",
              "    .colab-df-convert:hover {\n",
              "      background-color: #E2EBFA;\n",
              "      box-shadow: 0px 1px 2px rgba(60, 64, 67, 0.3), 0px 1px 3px 1px rgba(60, 64, 67, 0.15);\n",
              "      fill: #174EA6;\n",
              "    }\n",
              "\n",
              "    .colab-df-buttons div {\n",
              "      margin-bottom: 4px;\n",
              "    }\n",
              "\n",
              "    [theme=dark] .colab-df-convert {\n",
              "      background-color: #3B4455;\n",
              "      fill: #D2E3FC;\n",
              "    }\n",
              "\n",
              "    [theme=dark] .colab-df-convert:hover {\n",
              "      background-color: #434B5C;\n",
              "      box-shadow: 0px 1px 3px 1px rgba(0, 0, 0, 0.15);\n",
              "      filter: drop-shadow(0px 1px 2px rgba(0, 0, 0, 0.3));\n",
              "      fill: #FFFFFF;\n",
              "    }\n",
              "  </style>\n",
              "\n",
              "    <script>\n",
              "      const buttonEl =\n",
              "        document.querySelector('#df-926f26be-f074-46f8-a5a2-a980fa8ac542 button.colab-df-convert');\n",
              "      buttonEl.style.display =\n",
              "        google.colab.kernel.accessAllowed ? 'block' : 'none';\n",
              "\n",
              "      async function convertToInteractive(key) {\n",
              "        const element = document.querySelector('#df-926f26be-f074-46f8-a5a2-a980fa8ac542');\n",
              "        const dataTable =\n",
              "          await google.colab.kernel.invokeFunction('convertToInteractive',\n",
              "                                                    [key], {});\n",
              "        if (!dataTable) return;\n",
              "\n",
              "        const docLinkHtml = 'Like what you see? Visit the ' +\n",
              "          '<a target=\"_blank\" href=https://colab.research.google.com/notebooks/data_table.ipynb>data table notebook</a>'\n",
              "          + ' to learn more about interactive tables.';\n",
              "        element.innerHTML = '';\n",
              "        dataTable['output_type'] = 'display_data';\n",
              "        await google.colab.output.renderOutput(dataTable, element);\n",
              "        const docLink = document.createElement('div');\n",
              "        docLink.innerHTML = docLinkHtml;\n",
              "        element.appendChild(docLink);\n",
              "      }\n",
              "    </script>\n",
              "  </div>\n",
              "\n",
              "\n",
              "<div id=\"df-cd18baab-4c55-4f4f-965f-745e2bdfdcd9\">\n",
              "  <button class=\"colab-df-quickchart\" onclick=\"quickchart('df-cd18baab-4c55-4f4f-965f-745e2bdfdcd9')\"\n",
              "            title=\"Suggest charts\"\n",
              "            style=\"display:none;\">\n",
              "\n",
              "<svg xmlns=\"http://www.w3.org/2000/svg\" height=\"24px\"viewBox=\"0 0 24 24\"\n",
              "     width=\"24px\">\n",
              "    <g>\n",
              "        <path d=\"M19 3H5c-1.1 0-2 .9-2 2v14c0 1.1.9 2 2 2h14c1.1 0 2-.9 2-2V5c0-1.1-.9-2-2-2zM9 17H7v-7h2v7zm4 0h-2V7h2v10zm4 0h-2v-4h2v4z\"/>\n",
              "    </g>\n",
              "</svg>\n",
              "  </button>\n",
              "\n",
              "<style>\n",
              "  .colab-df-quickchart {\n",
              "      --bg-color: #E8F0FE;\n",
              "      --fill-color: #1967D2;\n",
              "      --hover-bg-color: #E2EBFA;\n",
              "      --hover-fill-color: #174EA6;\n",
              "      --disabled-fill-color: #AAA;\n",
              "      --disabled-bg-color: #DDD;\n",
              "  }\n",
              "\n",
              "  [theme=dark] .colab-df-quickchart {\n",
              "      --bg-color: #3B4455;\n",
              "      --fill-color: #D2E3FC;\n",
              "      --hover-bg-color: #434B5C;\n",
              "      --hover-fill-color: #FFFFFF;\n",
              "      --disabled-bg-color: #3B4455;\n",
              "      --disabled-fill-color: #666;\n",
              "  }\n",
              "\n",
              "  .colab-df-quickchart {\n",
              "    background-color: var(--bg-color);\n",
              "    border: none;\n",
              "    border-radius: 50%;\n",
              "    cursor: pointer;\n",
              "    display: none;\n",
              "    fill: var(--fill-color);\n",
              "    height: 32px;\n",
              "    padding: 0;\n",
              "    width: 32px;\n",
              "  }\n",
              "\n",
              "  .colab-df-quickchart:hover {\n",
              "    background-color: var(--hover-bg-color);\n",
              "    box-shadow: 0 1px 2px rgba(60, 64, 67, 0.3), 0 1px 3px 1px rgba(60, 64, 67, 0.15);\n",
              "    fill: var(--button-hover-fill-color);\n",
              "  }\n",
              "\n",
              "  .colab-df-quickchart-complete:disabled,\n",
              "  .colab-df-quickchart-complete:disabled:hover {\n",
              "    background-color: var(--disabled-bg-color);\n",
              "    fill: var(--disabled-fill-color);\n",
              "    box-shadow: none;\n",
              "  }\n",
              "\n",
              "  .colab-df-spinner {\n",
              "    border: 2px solid var(--fill-color);\n",
              "    border-color: transparent;\n",
              "    border-bottom-color: var(--fill-color);\n",
              "    animation:\n",
              "      spin 1s steps(1) infinite;\n",
              "  }\n",
              "\n",
              "  @keyframes spin {\n",
              "    0% {\n",
              "      border-color: transparent;\n",
              "      border-bottom-color: var(--fill-color);\n",
              "      border-left-color: var(--fill-color);\n",
              "    }\n",
              "    20% {\n",
              "      border-color: transparent;\n",
              "      border-left-color: var(--fill-color);\n",
              "      border-top-color: var(--fill-color);\n",
              "    }\n",
              "    30% {\n",
              "      border-color: transparent;\n",
              "      border-left-color: var(--fill-color);\n",
              "      border-top-color: var(--fill-color);\n",
              "      border-right-color: var(--fill-color);\n",
              "    }\n",
              "    40% {\n",
              "      border-color: transparent;\n",
              "      border-right-color: var(--fill-color);\n",
              "      border-top-color: var(--fill-color);\n",
              "    }\n",
              "    60% {\n",
              "      border-color: transparent;\n",
              "      border-right-color: var(--fill-color);\n",
              "    }\n",
              "    80% {\n",
              "      border-color: transparent;\n",
              "      border-right-color: var(--fill-color);\n",
              "      border-bottom-color: var(--fill-color);\n",
              "    }\n",
              "    90% {\n",
              "      border-color: transparent;\n",
              "      border-bottom-color: var(--fill-color);\n",
              "    }\n",
              "  }\n",
              "</style>\n",
              "\n",
              "  <script>\n",
              "    async function quickchart(key) {\n",
              "      const quickchartButtonEl =\n",
              "        document.querySelector('#' + key + ' button');\n",
              "      quickchartButtonEl.disabled = true;  // To prevent multiple clicks.\n",
              "      quickchartButtonEl.classList.add('colab-df-spinner');\n",
              "      try {\n",
              "        const charts = await google.colab.kernel.invokeFunction(\n",
              "            'suggestCharts', [key], {});\n",
              "      } catch (error) {\n",
              "        console.error('Error during call to suggestCharts:', error);\n",
              "      }\n",
              "      quickchartButtonEl.classList.remove('colab-df-spinner');\n",
              "      quickchartButtonEl.classList.add('colab-df-quickchart-complete');\n",
              "    }\n",
              "    (() => {\n",
              "      let quickchartButtonEl =\n",
              "        document.querySelector('#df-cd18baab-4c55-4f4f-965f-745e2bdfdcd9 button');\n",
              "      quickchartButtonEl.style.display =\n",
              "        google.colab.kernel.accessAllowed ? 'block' : 'none';\n",
              "    })();\n",
              "  </script>\n",
              "</div>\n",
              "    </div>\n",
              "  </div>\n"
            ]
          },
          "metadata": {},
          "execution_count": 2
        }
      ]
    },
    {
      "metadata": {
        "_uuid": "25e59b9710940c6b4d86dc6e1487ce41dbf284e3",
        "_cell_guid": "766ae7f8-b08c-4ca7-bc1e-7e0401ac7fce",
        "trusted": true,
        "colab": {
          "base_uri": "https://localhost:8080/"
        },
        "id": "cXjiLIRf92PL",
        "outputId": "17dab5fd-568d-4828-efd6-1f3e139d6d2b"
      },
      "cell_type": "code",
      "source": [
        "#Veamos el tamaño del dataframe\n",
        "df.shape"
      ],
      "execution_count": 3,
      "outputs": [
        {
          "output_type": "execute_result",
          "data": {
            "text/plain": [
              "(768, 9)"
            ]
          },
          "metadata": {},
          "execution_count": 3
        }
      ]
    },
    {
      "metadata": {
        "_uuid": "765f95aef62cf293597ae9fc5c2a6063d1e83222",
        "_cell_guid": "d1623be8-e5c9-4359-9747-bcaa469429ff",
        "id": "1RYqcEb992PL"
      },
      "cell_type": "markdown",
      "source": [
        "Como se observó anteriormente, tenemos 768 filas y 9 columnas. Las primeras 8 columnas representan las características y la última columna representa el objetivo/etiqueta."
      ]
    },
    {
      "metadata": {
        "_uuid": "5b6e02cc6d372bd5c3b646959fdf3db8c0e0a881",
        "_cell_guid": "a405c050-6a75-4c4a-803f-86db6152d796",
        "collapsed": true,
        "trusted": true,
        "id": "AbuxmRmg92PL"
      },
      "cell_type": "code",
      "source": [
        "#Creamos la variable dependiente y la independiente\n",
        "X = df.drop('Outcome',axis=1).values\n",
        "y = df['Outcome'].values"
      ],
      "execution_count": 4,
      "outputs": []
    },
    {
      "metadata": {
        "_uuid": "ce8256ba90e53d72f32d075e9beca80a32b4f14c",
        "_cell_guid": "18477358-3b6a-46e2-8b32-67dfc3150e53",
        "id": "UhkSff8J92PL"
      },
      "cell_type": "markdown",
      "source": [
        "Dividamos los datos aleatoriamente en conjuntos de entrenamiento y de prueba.\n",
        "\n",
        "Ajustaremos/entrenaremos un clasificador en el conjunto de entrenamiento y haremos predicciones en el conjunto de prueba. Luego compararemos las predicciones con las etiquetas conocidas.\n",
        "\n"
      ]
    },
    {
      "metadata": {
        "_uuid": "892a7dac3f31c5d7ef1506933102ebdec2605ce0",
        "_cell_guid": "c674227c-f930-4ae0-a58a-c3f94c06c7d7",
        "collapsed": true,
        "trusted": true,
        "id": "Ekl0PekU92PL"
      },
      "cell_type": "code",
      "source": [
        "#importamos la función para separar\n",
        "from sklearn.model_selection import train_test_split"
      ],
      "execution_count": 5,
      "outputs": []
    },
    {
      "metadata": {
        "_uuid": "a4965dba9f73aa19400a4b767be4ce9bdb0426b2",
        "_cell_guid": "92e7ad71-2384-4f93-93ef-e70476fbbe9f",
        "id": "e4Pxit-192PL"
      },
      "cell_type": "markdown",
      "source": [
        "Es una buena práctica realizar nuestra división de tal manera que refleje las etiquetas de los datos. En otras palabras, queremos que las etiquetas se dividan en el conjunto de entrenamiento y prueba tal como están en el conjunto de datos original. Entonces usamos el argumento de estratificar.\n",
        "\n",
        "También creamos un conjunto de prueba de un tamaño de aproximadamente el 40% del conjunto de datos."
      ]
    },
    {
      "metadata": {
        "_uuid": "d90e61834caa0b28f7585e4322b49c1c2780d607",
        "_cell_guid": "380309a4-ecaa-43e6-be63-f0e657e5838b",
        "collapsed": true,
        "trusted": true,
        "id": "sU2Snn_i92PL"
      },
      "cell_type": "code",
      "source": [
        "X_train,X_test,y_train,y_test = train_test_split(X,y,test_size=0.4,random_state=42, stratify=y)"
      ],
      "execution_count": 6,
      "outputs": []
    },
    {
      "metadata": {
        "_uuid": "30d4cf1dd61428d69c95ca7dbbd2479c698275a1",
        "_cell_guid": "f47ce31a-cd75-4294-9309-ede79264b977",
        "id": "ICruv1Gx92PM"
      },
      "cell_type": "markdown",
      "source": [
        "Creemos un clasificador usando el algoritmo k-vecinos más cercanos.\n",
        "\n",
        "Primero observemos primero las precisiones para diferentes valores de k."
      ]
    },
    {
      "metadata": {
        "_uuid": "745e27e18bf047cd2c71e014aebd324b306de5b5",
        "_cell_guid": "ca8346d5-a9a4-4728-8b24-253de0d9a31c",
        "trusted": true,
        "id": "nVsvKgrR92PM"
      },
      "cell_type": "code",
      "source": [
        "#importamos el clasificador\n",
        "from sklearn.neighbors import KNeighborsClassifier\n",
        "\n",
        "#Configuramos matrices para almacenar la precisión de las pruebas y el entrenamiento\n",
        "neighbors = np.arange(1,9)\n",
        "train_accuracy =np.empty(len(neighbors))\n",
        "test_accuracy = np.empty(len(neighbors))\n",
        "\n",
        "for i,k in enumerate(neighbors):\n",
        "    #\n",
        "    knn = KNeighborsClassifier(n_neighbors=k)\n",
        "\n",
        "    #\n",
        "    knn.fit(X_train, y_train)\n",
        "\n",
        "    #Calculamos la exactitud con entrenamiento\n",
        "    train_accuracy[i] = knn.score(X_train, y_train)\n",
        "\n",
        "    #Calculamos la exactitud con test\n",
        "    test_accuracy[i] = knn.score(X_test, y_test)"
      ],
      "execution_count": 7,
      "outputs": []
    },
    {
      "metadata": {
        "_uuid": "6e40ab5bc997d0f450215f65344bb79b4cf3896d",
        "_cell_guid": "354c71d7-25f6-4862-9e5a-c390341c858b",
        "trusted": true,
        "id": "MBuixgG992PM"
      },
      "cell_type": "code",
      "source": [
        "#Generamos un gráfico con las iteraciones con diferentes K vs la exactitud\n",
        "plt.title('k-NN Varying number of neighbors')\n",
        "plt.plot(neighbors, test_accuracy, label='Testing Accuracy')\n",
        "plt.plot(neighbors, train_accuracy, label='Training accuracy')\n",
        "plt.legend()\n",
        "plt.xlabel('Number of neighbors')\n",
        "plt.ylabel('Accuracy')\n",
        "plt.show()"
      ],
      "execution_count": null,
      "outputs": []
    },
    {
      "metadata": {
        "_uuid": "f76fa52e8fab081315cf6a9aef45b6181e1593f5",
        "_cell_guid": "b9ef2f66-9994-4a36-bbf3-1a4e5aadfc41",
        "id": "JO2cZlMO92PM"
      },
      "cell_type": "markdown",
      "source": [
        "Podemos observar arriba que obtenemos la máxima precisión de prueba para k = 7. Entonces, creemos un KNeighborsClassifier con un número de vecinos de 7."
      ]
    },
    {
      "metadata": {
        "_uuid": "fd50a5bbfacbb723e2a27ed8cc2dd7de808875b6",
        "_cell_guid": "d8cd01d6-f27a-43af-9ccf-4acb9ac351d7",
        "collapsed": true,
        "trusted": true,
        "id": "0lahpgPL92PM"
      },
      "cell_type": "code",
      "source": [
        "#Seteamos el clasificador con 7 vecinos\n",
        "knn = KNeighborsClassifier(n_neighbors=7)"
      ],
      "execution_count": 9,
      "outputs": []
    },
    {
      "metadata": {
        "_uuid": "927ab01dc02b5ccf1cc3a008b7d103d5f195daa5",
        "_cell_guid": "d9f66590-30d7-41c3-96f1-0d8abf6b759c",
        "trusted": true,
        "id": "KKDPQYL392PN"
      },
      "cell_type": "code",
      "source": [
        "#Ejecutamos\n",
        "knn.fit(X_train,y_train)"
      ],
      "execution_count": null,
      "outputs": []
    },
    {
      "metadata": {
        "_uuid": "b4b0ae189ab063a00d5dfdef2847101a206ffa7c",
        "_cell_guid": "3b16c03f-8619-4842-843c-5134b4cc49cb",
        "trusted": true,
        "id": "QtE2-ke292PN"
      },
      "cell_type": "code",
      "source": [
        "#Generamos el valor del SCORE del modelo\n",
        "knn.score(X_test,y_test)"
      ],
      "execution_count": null,
      "outputs": []
    },
    {
      "metadata": {
        "_uuid": "380c3b4a0a147f6d89cccfc20d313cfaec6e4c8e",
        "_cell_guid": "daf29d5a-b7c1-4a8b-8492-72ddce1ca359",
        "id": "or-HHLzw92PN"
      },
      "cell_type": "markdown",
      "source": [
        "**Confusion Matrix**\n",
        "\n",
        "Una matriz de confusión es una tabla que se utiliza a menudo para describir el rendimiento de un modelo de clasificación (o \"clasificador\") en un conjunto de datos de prueba cuyos valores verdaderos se conocen."
      ]
    },
    {
      "metadata": {
        "_uuid": "cdc17629041fc70eb5fd00685259d3aca24b8200",
        "_cell_guid": "02c947c0-852b-4f19-8555-2e7116c47e85",
        "collapsed": true,
        "trusted": true,
        "id": "230qsJJk92PN"
      },
      "cell_type": "code",
      "source": [
        "#\n",
        "from sklearn.metrics import confusion_matrix"
      ],
      "execution_count": 12,
      "outputs": []
    },
    {
      "metadata": {
        "trusted": true,
        "collapsed": true,
        "_uuid": "82e97b52f13616c7fefdb86902d7f2e1a3b52080",
        "id": "_JYCCBkJ92PN"
      },
      "cell_type": "code",
      "source": [
        "#realizamos predicciones\n",
        "y_pred = knn.predict(X_test)"
      ],
      "execution_count": 13,
      "outputs": []
    },
    {
      "metadata": {
        "_uuid": "ab884d77ed4789dcf33f0fe7d69c8705fc2273be",
        "_cell_guid": "215866ca-a484-4039-beb4-f18cdb3cf7f7",
        "trusted": true,
        "id": "CcjfQyl492PN"
      },
      "cell_type": "code",
      "source": [
        "confusion_matrix(y_test,y_pred)"
      ],
      "execution_count": null,
      "outputs": []
    },
    {
      "metadata": {
        "_uuid": "56437155de90f62a1d550e5acfac3e1f9e2d1f01",
        "_cell_guid": "dff9ee6e-5e97-4196-8b3a-ee5b199b3ba5",
        "id": "uUAsQEc992PN"
      },
      "cell_type": "markdown",
      "source": [
        "Considerando la matriz de confusión anterior:\n",
        "Verdadero negativo = 165\n",
        "Falso positivo = 36\n",
        "Verdadero positivo = 60\n",
        "Falso negativo = 47"
      ]
    },
    {
      "metadata": {
        "_uuid": "d9c67799afd1f26f7a80bd0d8038ad85a76dd66f",
        "_cell_guid": "4c1eba0d-4bac-4e6f-8820-e81d0564b9e9",
        "id": "yf7Wj8o192PN"
      },
      "cell_type": "markdown",
      "source": [
        "La matriz de confusión también se puede obtener mediante el método de crosstab de pandas."
      ]
    },
    {
      "metadata": {
        "_uuid": "27bba67de6e6bd96cbe4a1420a8f864e5741d595",
        "_cell_guid": "c9c26aea-37b5-42a2-b010-1e11f95c1fd9",
        "trusted": true,
        "id": "mcgY6HW892PN"
      },
      "cell_type": "code",
      "source": [
        "pd.crosstab(y_test, y_pred, rownames=['True'], colnames=['Predicted'], margins=True)"
      ],
      "execution_count": null,
      "outputs": []
    },
    {
      "metadata": {
        "_uuid": "ded13047fdabdd96d9e765b69a88638d80226c10",
        "id": "qMmBuSgk92PO"
      },
      "cell_type": "markdown",
      "source": [
        "**Classification Report**\n",
        "\n",
        "Otro informe importante es el informe de Clasificación. Es un resumen de texto de la precisión, recuperación y puntuación F1 de cada clase."
      ]
    },
    {
      "metadata": {
        "_uuid": "fe1119d6f66d5d8777e19ffd6b6237af30f07786",
        "_cell_guid": "d9458cd7-b6fb-4268-a32a-8c87aa884c6c",
        "collapsed": true,
        "trusted": true,
        "id": "Kw0vHR0i92PO"
      },
      "cell_type": "code",
      "source": [
        "#reporte de clasificación\n",
        "from sklearn.metrics import classification_report"
      ],
      "execution_count": 16,
      "outputs": []
    },
    {
      "metadata": {
        "trusted": true,
        "_uuid": "154b90c999ba402d96bffaf0264ad467a05c10ae",
        "id": "kdj3aaXL92PO"
      },
      "cell_type": "code",
      "source": [
        "print(classification_report(y_test,y_pred))"
      ],
      "execution_count": null,
      "outputs": []
    },
    {
      "metadata": {
        "_uuid": "ec869f5802897e0eb39425bcb987d930078f0bf0",
        "id": "r3PW8bqV92PP"
      },
      "cell_type": "markdown",
      "source": [
        "**Cross Validation**\n",
        "\n",
        "Ahora, antes de entrar en detalles sobre el ajuste de hiperparámetros, comprendamos el concepto de validación cruzada.\n",
        "\n",
        "El rendimiento del modelo entrenado depende de la forma en que se dividen los datos. Puede que no sea representativo de la capacidad del modelo para generalizar.\n",
        "\n",
        "La solución es la validación cruzada.\n",
        "\n",
        "La validación cruzada es una técnica para evaluar modelos predictivos dividiendo la muestra original en un conjunto de entrenamiento para entrenar el modelo y un conjunto de prueba para evaluarlo.\n",
        "\n",
        "En la validación cruzada de k veces, la muestra original se divide aleatoriamente en k submuestras de igual tamaño. De las k submuestras, una única submuestra se conserva como datos de validación para probar el modelo, y las k-1 submuestras restantes se utilizan como datos de entrenamiento. Luego, el proceso de validación cruzada se repite k veces (los pliegues), y cada una de las k submuestras se usa exactamente una vez como datos de validación. Los k resultados de los pliegues pueden luego promediarse (o combinarse de otro modo) para producir una estimación única. La ventaja de este método es que todas las observaciones se utilizan tanto para el entrenamiento como para la validación, y cada observación se utiliza para la validación exactamente una vez."
      ]
    },
    {
      "metadata": {
        "_uuid": "06fc8b3adb267046d44b472d1c413707ce7e9964",
        "id": "rxYs15ev92PP"
      },
      "cell_type": "markdown",
      "source": [
        "**Hyperparameter tuning**\n",
        "\n",
        "El valor de k (es decir, 7) que seleccionamos anteriormente se seleccionó observando la curva de precisión frente al número de vecinos. Ésta es una forma primitiva de ajuste de hiperparámetros.\n",
        "\n",
        "Hay una mejor manera de hacerlo que implica:\n",
        "\n",
        "1) Probar varios valores de hiperparámetros diferentes\n",
        "\n",
        "2) Montarlos todos por separado\n",
        "\n",
        "3) Comprobar qué tan bien se desempeña cada uno\n",
        "\n",
        "4) Elegir el que tenga mejor rendimiento\n",
        "\n",
        "5) Usar validación cruzada siempre\n",
        "\n",
        "Usaremos GridSearchCV de la librería Scikitlearn para busacr el mejor valor de K aplicando simultáneamente Cross Validation\n",
        "\n"
      ]
    },
    {
      "metadata": {
        "trusted": true,
        "collapsed": true,
        "_uuid": "751e6a83ecd529354e07e237ab5596b27f9061c0",
        "id": "W2MV-cB_92PP"
      },
      "cell_type": "code",
      "source": [
        "#importando GridSearchCV\n",
        "from sklearn.model_selection import GridSearchCV"
      ],
      "execution_count": 23,
      "outputs": []
    },
    {
      "metadata": {
        "trusted": true,
        "collapsed": true,
        "_uuid": "e0c8e768a5912accaa8b9fd8dd4d8f6654a12fb5",
        "id": "HqMUY6WL92PP"
      },
      "cell_type": "code",
      "source": [
        "#En el caso de un clasificador como knn, el parámetro a ajustar es n_neighbors\n",
        "param_grid = {'n_neighbors':np.arange(1,50)}"
      ],
      "execution_count": 24,
      "outputs": []
    },
    {
      "metadata": {
        "trusted": true,
        "_uuid": "f47376c83b43e5b724410de51a9657934e9c4b20",
        "id": "aYS0yYRe92PP"
      },
      "cell_type": "code",
      "source": [
        "knn = KNeighborsClassifier()\n",
        "knn_cv= GridSearchCV(knn,param_grid,cv=5)\n",
        "knn_cv.fit(X,y)"
      ],
      "execution_count": null,
      "outputs": []
    },
    {
      "metadata": {
        "trusted": true,
        "_uuid": "01a0c192bc77da41c61b2d9161fc052210542cfc",
        "id": "k2cn8Jbh92PP"
      },
      "cell_type": "code",
      "source": [
        "knn_cv.best_score_"
      ],
      "execution_count": null,
      "outputs": []
    },
    {
      "cell_type": "markdown",
      "source": [
        "El valor de exactitud anterior fue de 0.7305194805194806, menor al encontrado con GridSearchCV (0.7578558696205755) que usa Cross Validation. Veamos si cambia el número de K vecinos..."
      ],
      "metadata": {
        "id": "7cuhkmswDLpL"
      }
    },
    {
      "metadata": {
        "trusted": true,
        "_uuid": "54eea8ab157f3d67a725422deb303a082ff695b5",
        "id": "rog0-fKz92PT"
      },
      "cell_type": "code",
      "source": [
        "knn_cv.best_params_"
      ],
      "execution_count": null,
      "outputs": []
    },
    {
      "metadata": {
        "_uuid": "35a9ac99ade7f0e392272be0a021747aeb4759ac",
        "id": "j9dJ9zUH92PT"
      },
      "cell_type": "markdown",
      "source": [
        "Por lo tanto, un clasificador knn con un número de vecinos de 14 logra la mejor puntuación/precisión de 0,7578, es decir, alrededor del 76 %."
      ]
    }
  ],
  "metadata": {
    "kernelspec": {
      "display_name": "Python 3",
      "language": "python",
      "name": "python3"
    },
    "language_info": {
      "name": "python",
      "version": "3.6.4",
      "mimetype": "text/x-python",
      "codemirror_mode": {
        "name": "ipython",
        "version": 3
      },
      "pygments_lexer": "ipython3",
      "nbconvert_exporter": "python",
      "file_extension": ".py"
    },
    "colab": {
      "provenance": []
    }
  },
  "nbformat": 4,
  "nbformat_minor": 0
}