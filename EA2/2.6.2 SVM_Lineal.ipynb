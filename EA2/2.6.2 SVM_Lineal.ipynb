{
  "nbformat": 4,
  "nbformat_minor": 0,
  "metadata": {
    "colab": {
      "provenance": []
    },
    "kernelspec": {
      "name": "python3",
      "display_name": "Python 3"
    }
  },
  "cells": [
    {
      "cell_type": "markdown",
      "source": [
        "<img src='https://upload.wikimedia.org/wikipedia/commons/thumb/a/aa/Logo_DuocUC.svg/2560px-Logo_DuocUC.svg.png' width=50%, height=20%>"
      ],
      "metadata": {
        "id": "cRAYFX5r7AzS"
      }
    },
    {
      "cell_type": "markdown",
      "metadata": {
        "id": "4VCWyA6XKftY"
      },
      "source": [
        "## Intoducción\n",
        "\n",
        "En este ejercicio haremos una ejecución muy simple de SVM con reconocimiento de imágenes.\n",
        "\n",
        "Para ello vamos a usar un conjunto de datos preexistentes  que vienen con la instalación de Scikit-Learn.\n",
        "\n",
        "Uno de los conjuntos de datos son los dígitos, contiene un conjunto de muestras ya estructuradas y etiquetadas que contiene información de píxeles para números que podemos usar para entrenamiento y pruebas."
      ]
    },
    {
      "cell_type": "markdown",
      "metadata": {
        "id": "0bJ1z4Bxo7aK"
      },
      "source": [
        "## Importanto Bibliotecas\n",
        "\n",
        "Utilizaremos las siguientes bibliotecas (recuerda que previamente debes tener disponible tu biblioteca de scikit-learn).\n",
        "\n",
        "Esto, con la instrucción: **pip install scikit-learn**\n",
        "\n"
      ]
    },
    {
      "cell_type": "code",
      "metadata": {
        "id": "rLoYkc1Ro7bB"
      },
      "source": [
        "import numpy\n",
        "import scipy\n",
        "import matplotlib.pyplot as plt\n",
        "from sklearn import datasets\n",
        "from sklearn import svm\n",
        "\n",
        "digits = datasets.load_digits()\n"
      ],
      "execution_count": null,
      "outputs": []
    },
    {
      "cell_type": "markdown",
      "metadata": {
        "id": "1e17ox5YXPX8"
      },
      "source": [
        "## Revisemos los datos\n",
        "\n",
        "digits.data son los datos reales (características)\n",
        "\n"
      ]
    },
    {
      "cell_type": "code",
      "metadata": {
        "id": "wAmRUoilQYcS"
      },
      "source": [
        "print(digits.data)"
      ],
      "execution_count": null,
      "outputs": []
    },
    {
      "cell_type": "markdown",
      "metadata": {
        "id": "0zzAnk16Y4AP"
      },
      "source": [
        "Los datos son siempre una matriz 2D. \n",
        "\n",
        "En el caso de los dígitos, cada muestra original es una imagen de forma (8, 8) y podemos verla con..."
      ]
    },
    {
      "cell_type": "code",
      "metadata": {
        "id": "O0MDrNAjZGF5"
      },
      "source": [
        "digits.images[0]"
      ],
      "execution_count": null,
      "outputs": []
    },
    {
      "cell_type": "markdown",
      "metadata": {
        "id": "YGF6U9edZLiE"
      },
      "source": [
        "digits.target es la etiqueta que corresponde al número de cada imagen."
      ]
    },
    {
      "cell_type": "code",
      "metadata": {
        "id": "TzVr5iAQQb-r"
      },
      "source": [
        "print(digits.target)"
      ],
      "execution_count": null,
      "outputs": []
    },
    {
      "cell_type": "markdown",
      "metadata": {
        "id": "R3DxY_6gXqjt"
      },
      "source": [
        "## Clasificación\n",
        "\n",
        "En este caso, la tarea es predecir, dada una imagen, qué dígito representa. \n",
        "\n",
        "Definiremos los hiperparámetros para el SVM.\n",
        "\n",
        "\n",
        "\n"
      ]
    },
    {
      "cell_type": "code",
      "metadata": {
        "id": "IMREu6ZNQkNa"
      },
      "source": [
        "clf = svm.SVC(gamma=0.001, C=100)"
      ],
      "execution_count": null,
      "outputs": []
    },
    {
      "cell_type": "markdown",
      "metadata": {
        "id": "j9qb0NJtaAHJ"
      },
      "source": [
        "## Entrenamiento\n",
        "\n",
        "Luego entrenamos el modelo"
      ]
    },
    {
      "cell_type": "code",
      "metadata": {
        "id": "8uyWsZYrQpck"
      },
      "source": [
        "X,y = digits.data[:-10], digits.target[:-10]\n",
        "clf.fit(X,y)"
      ],
      "execution_count": null,
      "outputs": []
    },
    {
      "cell_type": "markdown",
      "metadata": {
        "id": "AmKB5RA_aIDy"
      },
      "source": [
        "Y ahora haremos la Predicción.\n",
        "\n",
        "La siguiente instrucción predicirá lo que es la imagen de la posición 28 en el último elemento."
      ]
    },
    {
      "cell_type": "code",
      "metadata": {
        "id": "bbZVZTJUSEus"
      },
      "source": [
        "print('Predicción: ',clf.predict([digits.data[-28]]))"
      ],
      "execution_count": null,
      "outputs": []
    },
    {
      "cell_type": "markdown",
      "metadata": {
        "id": "OMYdbY8Pafj5"
      },
      "source": [
        "Desplegamos la imagen y verificamos."
      ]
    },
    {
      "cell_type": "code",
      "metadata": {
        "id": "5LUTaIKsTO-W"
      },
      "source": [
        "plt.imshow(digits.images[-28], cmap=plt.cm.gray_r, interpolation='nearest')\n",
        "plt.show()"
      ],
      "execution_count": null,
      "outputs": []
    },
    {
      "cell_type": "markdown",
      "metadata": {
        "id": "wYE5wtHPapb5"
      },
      "source": [
        "Hagan más pruebas.\n",
        "\n",
        "Debes notar que la velocidad sube con gamma más grande, pero la precisión disminuye. \n",
        "\n",
        "Ocurrirá si disminuye la gamma (hagan esto por factores de 10)."
      ]
    }
  ]
}