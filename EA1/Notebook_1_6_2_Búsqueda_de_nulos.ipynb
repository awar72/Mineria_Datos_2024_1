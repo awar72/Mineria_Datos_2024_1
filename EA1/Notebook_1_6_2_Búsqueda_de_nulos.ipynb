{
  "nbformat": 4,
  "nbformat_minor": 0,
  "metadata": {
    "colab": {
      "provenance": []
    },
    "kernelspec": {
      "name": "python3",
      "display_name": "Python 3"
    },
    "language_info": {
      "name": "python"
    }
  },
  "cells": [
    {
      "cell_type": "markdown",
      "source": [
        "Análisis y preprocesamiento\n",
        "En este caso se va a trabajar con un set de datos que contiene las donaciones de una organización\n",
        "sin fines de lucro con la lista de correo de los donantes de sus campañas anteriores.\n",
        "Se dispone de un archivo .csv y de un archivo .txt con la descripción del conjunto de datos.\n",
        "Resulta importante siempre coocer el contexto del negocio y las características del set de datos del\n",
        "que se dispone.\n",
        "Existen sitios (como http://www.kaggle.com) donde se dispone de conjuntos de datos para ocupar\n",
        "y, en muchos casos, se encontrará en el mismo lugar una descripción que ayudará a entender qué\n",
        "es lo que se está entregando."
      ],
      "metadata": {
        "id": "iIlxbgTBTNFp"
      }
    },
    {
      "cell_type": "code",
      "source": [
        "import pandas as pd\n",
        "import numpy as np\n",
        "import matplotlib.pyplot as plt"
      ],
      "metadata": {
        "id": "OJ0pqOiHR8s8"
      },
      "execution_count": 1,
      "outputs": []
    },
    {
      "cell_type": "code",
      "source": [
        "# Carga de datos\n",
        "data_frame = pd.read_csv(\"DataONG.csv\", low_memory=False)\n",
        "data_frame.head()"
      ],
      "metadata": {
        "id": "THvGuYMISBEk",
        "colab": {
          "base_uri": "https://localhost:8080/",
          "height": 255
        },
        "outputId": "efd47a20-a168-4f4e-9b46-741e985068c1"
      },
      "execution_count": 2,
      "outputs": [
        {
          "output_type": "execute_result",
          "data": {
            "text/plain": [
              "   ODATEDW OSOURCE  TCODE STATE     ZIP MAILCODE PVASTATE   DOB NOEXCH  \\\n",
              "0     8901     GRI      0    IL   61081                    3712      0   \n",
              "1     9401     NWN      0    LA   70611                       0      0   \n",
              "2     9401     MSD      1    TN  37127-                    3211      0   \n",
              "3     8901     ENQ      0    MN   56475                    2603      0   \n",
              "4     9201     HCC      1    LA   70791                       0      0   \n",
              "\n",
              "  RECINHSE  ... DONOR_AMOUNT HPHONE_D RFA_2R RFA_2F RFA_2A  MDMAUD_R  \\\n",
              "0           ...          0.0        0      L      4      E         X   \n",
              "1           ...          0.0        1      L      3      E         X   \n",
              "2           ...          0.0        0      L      1      F         X   \n",
              "3           ...          0.0        1      L      4      D         X   \n",
              "4        X  ...          0.0        0      L      1      G         X   \n",
              "\n",
              "   MDMAUD_F MDMAUD_A CLUSTER2 GEOCODE2  \n",
              "0         X        X     39.0        C  \n",
              "1         X        X     38.0        C  \n",
              "2         X        X     34.0        B  \n",
              "3         X        X     57.0        D  \n",
              "4         X        X     38.0        B  \n",
              "\n",
              "[5 rows x 481 columns]"
            ],
            "text/html": [
              "\n",
              "  <div id=\"df-6b2673bb-f110-4f09-8355-5af628943e1f\" class=\"colab-df-container\">\n",
              "    <div>\n",
              "<style scoped>\n",
              "    .dataframe tbody tr th:only-of-type {\n",
              "        vertical-align: middle;\n",
              "    }\n",
              "\n",
              "    .dataframe tbody tr th {\n",
              "        vertical-align: top;\n",
              "    }\n",
              "\n",
              "    .dataframe thead th {\n",
              "        text-align: right;\n",
              "    }\n",
              "</style>\n",
              "<table border=\"1\" class=\"dataframe\">\n",
              "  <thead>\n",
              "    <tr style=\"text-align: right;\">\n",
              "      <th></th>\n",
              "      <th>ODATEDW</th>\n",
              "      <th>OSOURCE</th>\n",
              "      <th>TCODE</th>\n",
              "      <th>STATE</th>\n",
              "      <th>ZIP</th>\n",
              "      <th>MAILCODE</th>\n",
              "      <th>PVASTATE</th>\n",
              "      <th>DOB</th>\n",
              "      <th>NOEXCH</th>\n",
              "      <th>RECINHSE</th>\n",
              "      <th>...</th>\n",
              "      <th>DONOR_AMOUNT</th>\n",
              "      <th>HPHONE_D</th>\n",
              "      <th>RFA_2R</th>\n",
              "      <th>RFA_2F</th>\n",
              "      <th>RFA_2A</th>\n",
              "      <th>MDMAUD_R</th>\n",
              "      <th>MDMAUD_F</th>\n",
              "      <th>MDMAUD_A</th>\n",
              "      <th>CLUSTER2</th>\n",
              "      <th>GEOCODE2</th>\n",
              "    </tr>\n",
              "  </thead>\n",
              "  <tbody>\n",
              "    <tr>\n",
              "      <th>0</th>\n",
              "      <td>8901</td>\n",
              "      <td>GRI</td>\n",
              "      <td>0</td>\n",
              "      <td>IL</td>\n",
              "      <td>61081</td>\n",
              "      <td></td>\n",
              "      <td></td>\n",
              "      <td>3712</td>\n",
              "      <td>0</td>\n",
              "      <td></td>\n",
              "      <td>...</td>\n",
              "      <td>0.0</td>\n",
              "      <td>0</td>\n",
              "      <td>L</td>\n",
              "      <td>4</td>\n",
              "      <td>E</td>\n",
              "      <td>X</td>\n",
              "      <td>X</td>\n",
              "      <td>X</td>\n",
              "      <td>39.0</td>\n",
              "      <td>C</td>\n",
              "    </tr>\n",
              "    <tr>\n",
              "      <th>1</th>\n",
              "      <td>9401</td>\n",
              "      <td>NWN</td>\n",
              "      <td>0</td>\n",
              "      <td>LA</td>\n",
              "      <td>70611</td>\n",
              "      <td></td>\n",
              "      <td></td>\n",
              "      <td>0</td>\n",
              "      <td>0</td>\n",
              "      <td></td>\n",
              "      <td>...</td>\n",
              "      <td>0.0</td>\n",
              "      <td>1</td>\n",
              "      <td>L</td>\n",
              "      <td>3</td>\n",
              "      <td>E</td>\n",
              "      <td>X</td>\n",
              "      <td>X</td>\n",
              "      <td>X</td>\n",
              "      <td>38.0</td>\n",
              "      <td>C</td>\n",
              "    </tr>\n",
              "    <tr>\n",
              "      <th>2</th>\n",
              "      <td>9401</td>\n",
              "      <td>MSD</td>\n",
              "      <td>1</td>\n",
              "      <td>TN</td>\n",
              "      <td>37127-</td>\n",
              "      <td></td>\n",
              "      <td></td>\n",
              "      <td>3211</td>\n",
              "      <td>0</td>\n",
              "      <td></td>\n",
              "      <td>...</td>\n",
              "      <td>0.0</td>\n",
              "      <td>0</td>\n",
              "      <td>L</td>\n",
              "      <td>1</td>\n",
              "      <td>F</td>\n",
              "      <td>X</td>\n",
              "      <td>X</td>\n",
              "      <td>X</td>\n",
              "      <td>34.0</td>\n",
              "      <td>B</td>\n",
              "    </tr>\n",
              "    <tr>\n",
              "      <th>3</th>\n",
              "      <td>8901</td>\n",
              "      <td>ENQ</td>\n",
              "      <td>0</td>\n",
              "      <td>MN</td>\n",
              "      <td>56475</td>\n",
              "      <td></td>\n",
              "      <td></td>\n",
              "      <td>2603</td>\n",
              "      <td>0</td>\n",
              "      <td></td>\n",
              "      <td>...</td>\n",
              "      <td>0.0</td>\n",
              "      <td>1</td>\n",
              "      <td>L</td>\n",
              "      <td>4</td>\n",
              "      <td>D</td>\n",
              "      <td>X</td>\n",
              "      <td>X</td>\n",
              "      <td>X</td>\n",
              "      <td>57.0</td>\n",
              "      <td>D</td>\n",
              "    </tr>\n",
              "    <tr>\n",
              "      <th>4</th>\n",
              "      <td>9201</td>\n",
              "      <td>HCC</td>\n",
              "      <td>1</td>\n",
              "      <td>LA</td>\n",
              "      <td>70791</td>\n",
              "      <td></td>\n",
              "      <td></td>\n",
              "      <td>0</td>\n",
              "      <td>0</td>\n",
              "      <td>X</td>\n",
              "      <td>...</td>\n",
              "      <td>0.0</td>\n",
              "      <td>0</td>\n",
              "      <td>L</td>\n",
              "      <td>1</td>\n",
              "      <td>G</td>\n",
              "      <td>X</td>\n",
              "      <td>X</td>\n",
              "      <td>X</td>\n",
              "      <td>38.0</td>\n",
              "      <td>B</td>\n",
              "    </tr>\n",
              "  </tbody>\n",
              "</table>\n",
              "<p>5 rows × 481 columns</p>\n",
              "</div>\n",
              "    <div class=\"colab-df-buttons\">\n",
              "\n",
              "  <div class=\"colab-df-container\">\n",
              "    <button class=\"colab-df-convert\" onclick=\"convertToInteractive('df-6b2673bb-f110-4f09-8355-5af628943e1f')\"\n",
              "            title=\"Convert this dataframe to an interactive table.\"\n",
              "            style=\"display:none;\">\n",
              "\n",
              "  <svg xmlns=\"http://www.w3.org/2000/svg\" height=\"24px\" viewBox=\"0 -960 960 960\">\n",
              "    <path d=\"M120-120v-720h720v720H120Zm60-500h600v-160H180v160Zm220 220h160v-160H400v160Zm0 220h160v-160H400v160ZM180-400h160v-160H180v160Zm440 0h160v-160H620v160ZM180-180h160v-160H180v160Zm440 0h160v-160H620v160Z\"/>\n",
              "  </svg>\n",
              "    </button>\n",
              "\n",
              "  <style>\n",
              "    .colab-df-container {\n",
              "      display:flex;\n",
              "      gap: 12px;\n",
              "    }\n",
              "\n",
              "    .colab-df-convert {\n",
              "      background-color: #E8F0FE;\n",
              "      border: none;\n",
              "      border-radius: 50%;\n",
              "      cursor: pointer;\n",
              "      display: none;\n",
              "      fill: #1967D2;\n",
              "      height: 32px;\n",
              "      padding: 0 0 0 0;\n",
              "      width: 32px;\n",
              "    }\n",
              "\n",
              "    .colab-df-convert:hover {\n",
              "      background-color: #E2EBFA;\n",
              "      box-shadow: 0px 1px 2px rgba(60, 64, 67, 0.3), 0px 1px 3px 1px rgba(60, 64, 67, 0.15);\n",
              "      fill: #174EA6;\n",
              "    }\n",
              "\n",
              "    .colab-df-buttons div {\n",
              "      margin-bottom: 4px;\n",
              "    }\n",
              "\n",
              "    [theme=dark] .colab-df-convert {\n",
              "      background-color: #3B4455;\n",
              "      fill: #D2E3FC;\n",
              "    }\n",
              "\n",
              "    [theme=dark] .colab-df-convert:hover {\n",
              "      background-color: #434B5C;\n",
              "      box-shadow: 0px 1px 3px 1px rgba(0, 0, 0, 0.15);\n",
              "      filter: drop-shadow(0px 1px 2px rgba(0, 0, 0, 0.3));\n",
              "      fill: #FFFFFF;\n",
              "    }\n",
              "  </style>\n",
              "\n",
              "    <script>\n",
              "      const buttonEl =\n",
              "        document.querySelector('#df-6b2673bb-f110-4f09-8355-5af628943e1f button.colab-df-convert');\n",
              "      buttonEl.style.display =\n",
              "        google.colab.kernel.accessAllowed ? 'block' : 'none';\n",
              "\n",
              "      async function convertToInteractive(key) {\n",
              "        const element = document.querySelector('#df-6b2673bb-f110-4f09-8355-5af628943e1f');\n",
              "        const dataTable =\n",
              "          await google.colab.kernel.invokeFunction('convertToInteractive',\n",
              "                                                    [key], {});\n",
              "        if (!dataTable) return;\n",
              "\n",
              "        const docLinkHtml = 'Like what you see? Visit the ' +\n",
              "          '<a target=\"_blank\" href=https://colab.research.google.com/notebooks/data_table.ipynb>data table notebook</a>'\n",
              "          + ' to learn more about interactive tables.';\n",
              "        element.innerHTML = '';\n",
              "        dataTable['output_type'] = 'display_data';\n",
              "        await google.colab.output.renderOutput(dataTable, element);\n",
              "        const docLink = document.createElement('div');\n",
              "        docLink.innerHTML = docLinkHtml;\n",
              "        element.appendChild(docLink);\n",
              "      }\n",
              "    </script>\n",
              "  </div>\n",
              "\n",
              "\n",
              "<div id=\"df-b5e09c76-49e6-41a3-9f0c-314156e013fa\">\n",
              "  <button class=\"colab-df-quickchart\" onclick=\"quickchart('df-b5e09c76-49e6-41a3-9f0c-314156e013fa')\"\n",
              "            title=\"Suggest charts\"\n",
              "            style=\"display:none;\">\n",
              "\n",
              "<svg xmlns=\"http://www.w3.org/2000/svg\" height=\"24px\"viewBox=\"0 0 24 24\"\n",
              "     width=\"24px\">\n",
              "    <g>\n",
              "        <path d=\"M19 3H5c-1.1 0-2 .9-2 2v14c0 1.1.9 2 2 2h14c1.1 0 2-.9 2-2V5c0-1.1-.9-2-2-2zM9 17H7v-7h2v7zm4 0h-2V7h2v10zm4 0h-2v-4h2v4z\"/>\n",
              "    </g>\n",
              "</svg>\n",
              "  </button>\n",
              "\n",
              "<style>\n",
              "  .colab-df-quickchart {\n",
              "      --bg-color: #E8F0FE;\n",
              "      --fill-color: #1967D2;\n",
              "      --hover-bg-color: #E2EBFA;\n",
              "      --hover-fill-color: #174EA6;\n",
              "      --disabled-fill-color: #AAA;\n",
              "      --disabled-bg-color: #DDD;\n",
              "  }\n",
              "\n",
              "  [theme=dark] .colab-df-quickchart {\n",
              "      --bg-color: #3B4455;\n",
              "      --fill-color: #D2E3FC;\n",
              "      --hover-bg-color: #434B5C;\n",
              "      --hover-fill-color: #FFFFFF;\n",
              "      --disabled-bg-color: #3B4455;\n",
              "      --disabled-fill-color: #666;\n",
              "  }\n",
              "\n",
              "  .colab-df-quickchart {\n",
              "    background-color: var(--bg-color);\n",
              "    border: none;\n",
              "    border-radius: 50%;\n",
              "    cursor: pointer;\n",
              "    display: none;\n",
              "    fill: var(--fill-color);\n",
              "    height: 32px;\n",
              "    padding: 0;\n",
              "    width: 32px;\n",
              "  }\n",
              "\n",
              "  .colab-df-quickchart:hover {\n",
              "    background-color: var(--hover-bg-color);\n",
              "    box-shadow: 0 1px 2px rgba(60, 64, 67, 0.3), 0 1px 3px 1px rgba(60, 64, 67, 0.15);\n",
              "    fill: var(--button-hover-fill-color);\n",
              "  }\n",
              "\n",
              "  .colab-df-quickchart-complete:disabled,\n",
              "  .colab-df-quickchart-complete:disabled:hover {\n",
              "    background-color: var(--disabled-bg-color);\n",
              "    fill: var(--disabled-fill-color);\n",
              "    box-shadow: none;\n",
              "  }\n",
              "\n",
              "  .colab-df-spinner {\n",
              "    border: 2px solid var(--fill-color);\n",
              "    border-color: transparent;\n",
              "    border-bottom-color: var(--fill-color);\n",
              "    animation:\n",
              "      spin 1s steps(1) infinite;\n",
              "  }\n",
              "\n",
              "  @keyframes spin {\n",
              "    0% {\n",
              "      border-color: transparent;\n",
              "      border-bottom-color: var(--fill-color);\n",
              "      border-left-color: var(--fill-color);\n",
              "    }\n",
              "    20% {\n",
              "      border-color: transparent;\n",
              "      border-left-color: var(--fill-color);\n",
              "      border-top-color: var(--fill-color);\n",
              "    }\n",
              "    30% {\n",
              "      border-color: transparent;\n",
              "      border-left-color: var(--fill-color);\n",
              "      border-top-color: var(--fill-color);\n",
              "      border-right-color: var(--fill-color);\n",
              "    }\n",
              "    40% {\n",
              "      border-color: transparent;\n",
              "      border-right-color: var(--fill-color);\n",
              "      border-top-color: var(--fill-color);\n",
              "    }\n",
              "    60% {\n",
              "      border-color: transparent;\n",
              "      border-right-color: var(--fill-color);\n",
              "    }\n",
              "    80% {\n",
              "      border-color: transparent;\n",
              "      border-right-color: var(--fill-color);\n",
              "      border-bottom-color: var(--fill-color);\n",
              "    }\n",
              "    90% {\n",
              "      border-color: transparent;\n",
              "      border-bottom-color: var(--fill-color);\n",
              "    }\n",
              "  }\n",
              "</style>\n",
              "\n",
              "  <script>\n",
              "    async function quickchart(key) {\n",
              "      const quickchartButtonEl =\n",
              "        document.querySelector('#' + key + ' button');\n",
              "      quickchartButtonEl.disabled = true;  // To prevent multiple clicks.\n",
              "      quickchartButtonEl.classList.add('colab-df-spinner');\n",
              "      try {\n",
              "        const charts = await google.colab.kernel.invokeFunction(\n",
              "            'suggestCharts', [key], {});\n",
              "      } catch (error) {\n",
              "        console.error('Error during call to suggestCharts:', error);\n",
              "      }\n",
              "      quickchartButtonEl.classList.remove('colab-df-spinner');\n",
              "      quickchartButtonEl.classList.add('colab-df-quickchart-complete');\n",
              "    }\n",
              "    (() => {\n",
              "      let quickchartButtonEl =\n",
              "        document.querySelector('#df-b5e09c76-49e6-41a3-9f0c-314156e013fa button');\n",
              "      quickchartButtonEl.style.display =\n",
              "        google.colab.kernel.accessAllowed ? 'block' : 'none';\n",
              "    })();\n",
              "  </script>\n",
              "</div>\n",
              "    </div>\n",
              "  </div>\n"
            ],
            "application/vnd.google.colaboratory.intrinsic+json": {
              "type": "dataframe",
              "variable_name": "data_frame"
            }
          },
          "metadata": {},
          "execution_count": 2
        }
      ]
    },
    {
      "cell_type": "markdown",
      "source": [
        "Se sugiere que revise el archivo TXT para conocer (aunque sea de manera superficial) por ahora la\n",
        "información de la cual se dispone\n",
        "\n",
        "nálisis general\n",
        "1. Conocer la cantidad de obsevaciones y la cantidad de características\n",
        "2. Averiguar si existen datos nulos\n",
        "3. Conocer la cantidad de columnas categóricas y numéricas (recuerde que muchos algoritmos trabajan solo con columnas numéricas y, eventualmente, hay que transformarlas)"
      ],
      "metadata": {
        "id": "PJREDP8pTajd"
      }
    },
    {
      "cell_type": "code",
      "source": [
        "data_frame.shape"
      ],
      "metadata": {
        "colab": {
          "base_uri": "https://localhost:8080/"
        },
        "id": "zylT9i2-TUAL",
        "outputId": "4136f7be-f635-466d-c968-4925b422661f"
      },
      "execution_count": 3,
      "outputs": [
        {
          "output_type": "execute_result",
          "data": {
            "text/plain": [
              "(47720, 481)"
            ]
          },
          "metadata": {},
          "execution_count": 3
        }
      ]
    },
    {
      "cell_type": "code",
      "source": [
        "data_frame.isnull().any().any()"
      ],
      "metadata": {
        "colab": {
          "base_uri": "https://localhost:8080/"
        },
        "id": "dVbEReJ-T1Pv",
        "outputId": "d2e9ef23-9e4f-420c-ae65-40c81ad019ce"
      },
      "execution_count": 4,
      "outputs": [
        {
          "output_type": "execute_result",
          "data": {
            "text/plain": [
              "True"
            ]
          },
          "metadata": {},
          "execution_count": 4
        }
      ]
    },
    {
      "cell_type": "code",
      "source": [
        "# Agrupación de las columnas por tipo de datos\n",
        "tipos = data_frame.columns.to_series().groupby(data_frame.dtypes).groups\n",
        "# Conociendo la lista de columnas categóricas\n",
        "ctext = tipos[np.dtype('object')]\n",
        "len(ctext) # cantidad de columnas con datos categóricos."
      ],
      "metadata": {
        "colab": {
          "base_uri": "https://localhost:8080/"
        },
        "id": "xXq787MbT2OX",
        "outputId": "173e0597-23ed-406d-826a-3b1ea668e8e5"
      },
      "execution_count": 5,
      "outputs": [
        {
          "output_type": "execute_result",
          "data": {
            "text/plain": [
              "68"
            ]
          },
          "metadata": {},
          "execution_count": 5
        }
      ]
    },
    {
      "cell_type": "code",
      "source": [
        "# Conociendo la lista de columnas numéricas\n",
        "columnas = data_frame.columns\n",
        "cnum = list(set(columnas) - set(ctext))\n",
        "len(cnum)"
      ],
      "metadata": {
        "colab": {
          "base_uri": "https://localhost:8080/"
        },
        "id": "tZ0gd55hUeBq",
        "outputId": "9aa5e97a-2142-478b-b918-117bd61b87ad"
      },
      "execution_count": 9,
      "outputs": [
        {
          "output_type": "execute_result",
          "data": {
            "text/plain": [
              "413"
            ]
          },
          "metadata": {},
          "execution_count": 9
        }
      ]
    },
    {
      "cell_type": "markdown",
      "source": [
        "# Tratamiento de los nulos\n",
        "# En el análisis anterior quedó en evidencia la existencia de valores nulos, razón por la cual hay que\n",
        "# tratarlos."
      ],
      "metadata": {
        "id": "43QtiuoMUrDq"
      }
    },
    {
      "cell_type": "code",
      "source": [
        "# Completando valores faltantes datos cuantititavos\n",
        "for columna in cnum:\n",
        "  mean = data_frame[columna].mean()\n",
        "  data_frame[columna] = data_frame[columna].fillna(mean)"
      ],
      "metadata": {
        "id": "Ob7VV-O5Uly4"
      },
      "execution_count": 10,
      "outputs": []
    },
    {
      "cell_type": "code",
      "source": [
        "# Completando valores faltantes datos categóricos\n",
        "for columna in ctext:\n",
        "  mode = data_frame[columna].mode()[0]\n",
        "  data_frame[columna] = data_frame[columna].fillna(mode)"
      ],
      "metadata": {
        "id": "bPcggxDIVWY_"
      },
      "execution_count": 11,
      "outputs": []
    },
    {
      "cell_type": "code",
      "source": [
        "# Se vuelve a comprobar los nulos\n",
        "data_frame.isnull().any().any()"
      ],
      "metadata": {
        "colab": {
          "base_uri": "https://localhost:8080/"
        },
        "id": "vnksT7z0VeYh",
        "outputId": "fd0aa396-4884-4e18-8ebb-de669c825c5e"
      },
      "execution_count": 12,
      "outputs": [
        {
          "output_type": "execute_result",
          "data": {
            "text/plain": [
              "False"
            ]
          },
          "metadata": {},
          "execution_count": 12
        }
      ]
    },
    {
      "cell_type": "code",
      "source": [
        "# Guardando el dataset preprocesado\n",
        "# Save transform datasets\n",
        "data_frame.to_csv(\"DataONG_procesado.csv\", index=False)"
      ],
      "metadata": {
        "id": "ZPYm8IyRVjks"
      },
      "execution_count": 13,
      "outputs": []
    },
    {
      "cell_type": "code",
      "source": [
        "# Calculando el porcentaje de donantes sobre toda la base de datos\n",
        "porcent_donantes = (data_frame[data_frame.DONOR_AMOUNT > 0]['DONOR_AMOUNT'].count() * 1.0/ data_frame['DONOR_AMOUNT'].count()) * 100.0\n",
        "print(\"El procentaje de donantes es {0:.2f}%\".format(porcent_donantes))"
      ],
      "metadata": {
        "colab": {
          "base_uri": "https://localhost:8080/"
        },
        "id": "nvT0UvePVx0i",
        "outputId": "fd048c86-4e74-44de-ff5a-a53115b33d88"
      },
      "execution_count": 14,
      "outputs": [
        {
          "output_type": "stream",
          "name": "stdout",
          "text": [
            "El procentaje de donantes es 5.08%\n"
          ]
        }
      ]
    },
    {
      "cell_type": "code",
      "source": [
        "# Gráfico de tortas del porcentaje de donantes\n",
        "# Agrupando por DONOR_FLAG\n",
        "donantes = data_frame.groupby('DONOR_FLAG').IDX.count()\n",
        "# Creando las leyendas del grafico.\n",
        "labels = [ 'Donante\\n' + str(round(x * 1.0 / donantes.sum() *100.0, 2)) + '%' for x in donantes ]\n",
        "labels[0] = 'No ' + labels[0]\n",
        "plt.pie(donantes, labels=labels)\n",
        "plt.title('Porcion de donantes')\n",
        "plt.show()"
      ],
      "metadata": {
        "colab": {
          "base_uri": "https://localhost:8080/",
          "height": 428
        },
        "id": "59uL29l2WFht",
        "outputId": "a34bbf53-b675-48f2-f034-47a201c4633e"
      },
      "execution_count": 15,
      "outputs": [
        {
          "output_type": "display_data",
          "data": {
            "text/plain": [
              "<Figure size 640x480 with 1 Axes>"
            ],
            "image/png": "[encoded data removed]"
          },
          "metadata": {}
        }
      ]
    },
    {
      "cell_type": "markdown",
      "source": [
        "Análisis del gráfico\n",
        "Se ve que el porcentaje de personas que fueron donantes en el pasado es realmente muy bajo, solo\n",
        "un 5.08% del total de personas (2423).\n",
        "Este es un dato importante a tener en cuenta si se pretende, por ejemplo, clasificar; ya que al existir\n",
        "tanta diferencia entre las clases a clasificar, esto puede afectar considerablemente al algoritmo de\n",
        "aprendizaje.\n",
        "Conviene ahora explorar con más detalle a este grupo pequeño de personas que fueron donantes;\n",
        "veamos por ejemplo como se dividen de acuerdo a la cantidad de dinero donado."
      ],
      "metadata": {
        "id": "Xl0WSeOqWa1l"
      }
    },
    {
      "cell_type": "markdown",
      "source": [
        "## Trabajando con filtro"
      ],
      "metadata": {
        "id": "UNi-uNT3Wf-z"
      }
    },
    {
      "cell_type": "code",
      "source": [
        "#Creando subset con solo los donates\n",
        "data_donantes = data_frame[data_frame.DONOR_AMOUNT > 0]\n",
        "data_donantes.shape"
      ],
      "metadata": {
        "colab": {
          "base_uri": "https://localhost:8080/"
        },
        "id": "TzpeqmqNWVkZ",
        "outputId": "ad18a815-5c27-4647-a6c3-b34d25c51ad6"
      },
      "execution_count": 16,
      "outputs": [
        {
          "output_type": "execute_result",
          "data": {
            "text/plain": [
              "(2423, 481)"
            ]
          },
          "metadata": {},
          "execution_count": 16
        }
      ]
    },
    {
      "cell_type": "code",
      "source": [
        "# Analizando el importe de donanciones\n",
        "# Creando un segmentos de montos\n",
        "monto_segm = pd.cut(data_donantes['DONOR_AMOUNT'], [0, 10, 20, 30, 40, 50, 60,100, 200])\n",
        "# Creando el grafico de barras desde pandas\n",
        "plot = pd.value_counts(monto_segm).plot(kind='bar', title='Montos de donación')\n",
        "plot.set_ylabel('Nro. de donantes')\n",
        "plot.set_xlabel('Rango de montos')\n",
        "plt.show()"
      ],
      "metadata": {
        "colab": {
          "base_uri": "https://localhost:8080/",
          "height": 530
        },
        "id": "tgQbL3g4WnqF",
        "outputId": "56776313-93d2-4992-b6f2-04bb29bca900"
      },
      "execution_count": 17,
      "outputs": [
        {
          "output_type": "display_data",
          "data": {
            "text/plain": [
              "<Figure size 640x480 with 1 Axes>"
            ],
            "image/png": "[encoded data removed]"
          },
          "metadata": {}
        }
      ]
    },
    {
      "cell_type": "markdown",
      "source": [
        "# Comentarios del gráfico\n",
        "# Es posible apreciar que la mayor cantidad de montos de donaciones se encuentra entre el rango 0 y 30"
      ],
      "metadata": {
        "id": "qmjRO8l5W_mf"
      }
    },
    {
      "cell_type": "code",
      "source": [
        "# Agrupación por segmento según monto donado.\n",
        "pd.value_counts(monto_segm)"
      ],
      "metadata": {
        "colab": {
          "base_uri": "https://localhost:8080/"
        },
        "id": "943Ek4t3W6w8",
        "outputId": "6bb89991-8e18-46f0-dfce-8be573d88f8a"
      },
      "execution_count": 18,
      "outputs": [
        {
          "output_type": "execute_result",
          "data": {
            "text/plain": [
              "(0, 10]       1026\n",
              "(10, 20]       921\n",
              "(20, 30]       358\n",
              "(30, 40]        53\n",
              "(40, 50]        43\n",
              "(60, 100]       15\n",
              "(50, 60]         4\n",
              "(100, 200]       3\n",
              "Name: DONOR_AMOUNT, dtype: int64"
            ]
          },
          "metadata": {},
          "execution_count": 18
        }
      ]
    },
    {
      "cell_type": "markdown",
      "source": [
        "# Responder a algunas preguntas\n",
        "# ¿Cuál es el promedio de donaciones?"
      ],
      "metadata": {
        "id": "1egOhxgtXbgp"
      }
    },
    {
      "cell_type": "code",
      "source": [
        "# Monto de donación promedio\n",
        "data_donantes['DONOR_AMOUNT'].mean()"
      ],
      "metadata": {
        "colab": {
          "base_uri": "https://localhost:8080/"
        },
        "id": "R9R47-g7XWYe",
        "outputId": "5605ae5f-af81-467e-b6d6-f4bb42a95905"
      },
      "execution_count": 19,
      "outputs": [
        {
          "output_type": "execute_result",
          "data": {
            "text/plain": [
              "15.598237721832438"
            ]
          },
          "metadata": {},
          "execution_count": 19
        }
      ]
    },
    {
      "cell_type": "code",
      "source": [
        "# Gráfico de cajas del importe de donación\n",
        "plt.boxplot(list(data_donantes['DONOR_AMOUNT']))\n",
        "plt.title('Montos de donación')\n",
        "plt.show()"
      ],
      "metadata": {
        "colab": {
          "base_uri": "https://localhost:8080/",
          "height": 452
        },
        "id": "_KCQj5ZkXv-m",
        "outputId": "1d98caec-8e0f-48e2-e69c-99ada1455d27"
      },
      "execution_count": 20,
      "outputs": [
        {
          "output_type": "display_data",
          "data": {
            "text/plain": [
              "<Figure size 640x480 with 1 Axes>"
            ],
            "image/png": "[encoded data removed]"
          },
          "metadata": {}
        }
      ]
    },
    {
      "cell_type": "markdown",
      "source": [
        "Este análisis muestra que la mayor cantidad de donaciones caen en un rango de importes entre 0 y\n",
        "30 (tal y como se había eomentado antes), siendo la donación promedio 15.60. También es posible\n",
        "ver que donaciones que superen un importe de 50 son casos realmente poco frecuentes, por lo que\n",
        "constituyen valores atípicos y sería prudente eliminar estos casos al entrenar el modelo para que no\n",
        "distorsionen los resultados.\n",
        "Otra exploración interesante que se podría realizar sobre el set de datos relacionado con los donantes,\n",
        "es ver cómo se divide este grupo en términos de género y edad."
      ],
      "metadata": {
        "id": "Xua6FXI4YCoN"
      }
    },
    {
      "cell_type": "markdown",
      "source": [
        "## ¿Cuál es la distribución de los donantes por género?"
      ],
      "metadata": {
        "id": "jowEQX8HYLcm"
      }
    },
    {
      "cell_type": "code",
      "source": [
        "# Gráfico del género de los donantes\n",
        "data_donantes.groupby('GENDER').size().plot(kind='bar')\n",
        "plt.title('Distribución por género')\n",
        "plt.show()"
      ],
      "metadata": {
        "colab": {
          "base_uri": "https://localhost:8080/",
          "height": 470
        },
        "id": "36HTG29mX6BR",
        "outputId": "ca685f5f-dcee-47e3-8798-1bc52587baff"
      },
      "execution_count": 21,
      "outputs": [
        {
          "output_type": "display_data",
          "data": {
            "text/plain": [
              "<Figure size 640x480 with 1 Axes>"
            ],
            "image/png": "[encoded data removed]"
          },
          "metadata": {}
        }
      ]
    },
    {
      "cell_type": "markdown",
      "source": [
        "## ¿Cuál es la distribución de las donaciones según el género?"
      ],
      "metadata": {
        "id": "hr4RjYk3Yanv"
      }
    },
    {
      "cell_type": "code",
      "source": [
        "# Donaciones segùn el género\n",
        "data_donantes[(data_donantes.DONOR_AMOUNT <= 50) & (data_donantes.GENDER.isin(['F', 'M'])\n",
        ")][['DONOR_AMOUNT', 'GENDER']].boxplot(by='GENDER')\n",
        "plt.title('Donantes según género')\n",
        "plt.show()"
      ],
      "metadata": {
        "colab": {
          "base_uri": "https://localhost:8080/",
          "height": 478
        },
        "id": "aPIXJQ2LYVPk",
        "outputId": "1e088119-3681-4d11-d87b-e96b642bb215"
      },
      "execution_count": 22,
      "outputs": [
        {
          "output_type": "display_data",
          "data": {
            "text/plain": [
              "<Figure size 640x480 with 1 Axes>"
            ],
            "image/png": "[encoded data removed]"
          },
          "metadata": {}
        }
      ]
    },
    {
      "cell_type": "code",
      "source": [
        "# Media de monto donado por mujeres\n",
        "data_donantes[data_donantes.GENDER == 'F'][['DONOR_AMOUNT']].mean()"
      ],
      "metadata": {
        "colab": {
          "base_uri": "https://localhost:8080/"
        },
        "id": "dOtlQ_0CYjxy",
        "outputId": "a2257692-c536-4220-ec98-a4ebee6c83f7"
      },
      "execution_count": 23,
      "outputs": [
        {
          "output_type": "execute_result",
          "data": {
            "text/plain": [
              "DONOR_AMOUNT    14.610311\n",
              "dtype: float64"
            ]
          },
          "metadata": {},
          "execution_count": 23
        }
      ]
    },
    {
      "cell_type": "code",
      "source": [
        "# Media de monto donado por hombres\n",
        "data_donantes[data_donantes.GENDER == 'M'][['DONOR_AMOUNT']].mean()"
      ],
      "metadata": {
        "colab": {
          "base_uri": "https://localhost:8080/"
        },
        "id": "TJbiq_QfYor6",
        "outputId": "a2e10c21-ab2a-447d-e357-89a4f2bfcb81"
      },
      "execution_count": 24,
      "outputs": [
        {
          "output_type": "execute_result",
          "data": {
            "text/plain": [
              "DONOR_AMOUNT    16.81989\n",
              "dtype: float64"
            ]
          },
          "metadata": {},
          "execution_count": 24
        }
      ]
    },
    {
      "cell_type": "markdown",
      "source": [
        "# Análisis de resultados\n",
        "# Las mujeres suelen estar más propensas a donar, aunque donan un monto promedio menor (14.61)\n",
        "# al que donan los hombres (16.82).\n",
        "# Ahora se revisará el comportamiento de las donaciones respecto a la edad."
      ],
      "metadata": {
        "id": "edkWoXIPY8yN"
      }
    },
    {
      "cell_type": "code",
      "source": [
        "# Distribución de la edad de los donantes\n",
        "data_donantes['AGE'].hist().set_title('Distribución de donantes según edad')\n",
        "plt.show()"
      ],
      "metadata": {
        "colab": {
          "base_uri": "https://localhost:8080/",
          "height": 453
        },
        "id": "to-iPSjCYvzx",
        "outputId": "97805be5-7f95-40d4-9e40-b00ee815f9a4"
      },
      "execution_count": 25,
      "outputs": [
        {
          "output_type": "display_data",
          "data": {
            "text/plain": [
              "<Figure size 640x480 with 1 Axes>"
            ],
            "image/png": "[encoded data removed]"
          },
          "metadata": {}
        }
      ]
    },
    {
      "cell_type": "code",
      "source": [
        "#Para mejorar la visualización se genera el gráfico considerando rango de edades\n",
        "rango_edades = pd.cut(data_donantes['AGE'], range(0, 100, 10))\n",
        "# Gráfico de barras de donaciones por edad\n",
        "pd.value_counts(rango_edades).plot(kind='bar', title='Donaciones por rango de edad')\n",
        "plt.show()"
      ],
      "metadata": {
        "colab": {
          "base_uri": "https://localhost:8080/",
          "height": 493
        },
        "id": "x4_KLVpJZSKY",
        "outputId": "a61756b9-0b47-485a-e432-b2e8622d849e"
      },
      "execution_count": 26,
      "outputs": [
        {
          "output_type": "display_data",
          "data": {
            "text/plain": [
              "<Figure size 640x480 with 1 Axes>"
            ],
            "image/png": "[encoded data removed]"
          },
          "metadata": {}
        }
      ]
    },
    {
      "cell_type": "markdown",
      "source": [
        "Análisis resultados\n",
        "En este último análisis es posible apreciar que la mayor cantidad de los donantes son individuos\n",
        "cuya edad se encuentra entre los 60 y 70 años, aunque la media de monto donado más alta la tienen\n",
        "las personas que van desde los 30 a los 60 años."
      ],
      "metadata": {
        "id": "MSBboDbUWvBI"
      }
    },
    {
      "cell_type": "markdown",
      "source": [
        "# Trabajo futuro …\n",
        "En las próximas experiencias es posible continuar con el ejemplo completando los restantes pasos\n",
        "que incluye un proyecto de Minería de datos hasta llegar al modelo y poder utilizarlo para,\n",
        "por ejemplo, realizar predicciones (selección de atributos - armado de modelo - entrenamiento -\n",
        "evaluación - métricas - predicción)"
      ],
      "metadata": {
        "id": "pSGE6Fi4aKNF"
      }
    }
  ]
}